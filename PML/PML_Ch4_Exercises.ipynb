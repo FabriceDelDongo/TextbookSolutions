{
 "cells": [
  {
   "cell_type": "markdown",
   "id": "3c6e0702-46c4-40cb-8ae2-fe7f6a12ea8e",
   "metadata": {},
   "source": [
    "### Probabilistic Machine Learning (Book 1)\n",
    "\n",
    "Kevin P Murphy\n",
    "\n",
    "#### Exercises, Chapter 4"
   ]
  },
  {
   "cell_type": "code",
   "execution_count": 1,
   "id": "15f7a5f5-fad8-4a0a-9265-638d58b77fee",
   "metadata": {},
   "outputs": [],
   "source": [
    "import numpy as np\n",
    "from scipy.stats import norm\n",
    "from matplotlib import pyplot as plt"
   ]
  },
  {
   "cell_type": "code",
   "execution_count": 2,
   "id": "f314f85d-0c38-4c31-b1d4-53357fe126b9",
   "metadata": {},
   "outputs": [],
   "source": [
    "def plot_gaussian(m, s2, label=None):\n",
    "    xs = np.arange(m-np.sqrt(s2)*5, m+np.sqrt(s2)*5, 0.05)\n",
    "    ys = [norm.pdf(x, loc=m, scale=np.sqrt(s2)) for x in xs]\n",
    "    if label:\n",
    "        plt.plot(xs, ys, label=label)\n",
    "        plt.legend()\n",
    "    else:\n",
    "        plt.plot(xs, ys)"
   ]
  },
  {
   "cell_type": "markdown",
   "id": "f369797b-77e0-4f6b-9438-911e583e1d04",
   "metadata": {},
   "source": [
    "**Exercise 4.1** [MLE for the univariate Gaussian *]\n",
    "Show that the MLE for a univariate Gaussian is given by:\n",
    "\n",
    "$\\hat{\\mu} = \\frac{1}{N}\\sum_{n=1}^{N}y_{n},$\n",
    "\n",
    "$\\hat{\\sigma}^2 = \\frac{1}{N}\\sum_{n=1}^{N}(y_{n} - \\hat{\\mu})^2.$"
   ]
  },
  {
   "cell_type": "markdown",
   "id": "80ba001d-a304-4848-8982-a3608712b5fe",
   "metadata": {},
   "source": [
    "For the univariate Gaussian, we have likelihood:\n",
    "\n",
    "$\\mathcal{L} = \\prod_{n=1}^{N}\\frac{1}{\\sqrt{2\\pi}\\sigma}\\exp\\left\\{-\\frac{1}{2\\sigma^2}\\left(y_n-\\mu\\right)^2 \\right\\},$  so that the negative log likelihood is:\n",
    "\n",
    "$NLL_{gaussian} = - \\sum_{n=1}^{N}\\log\\left[\\frac{1}{\\sqrt{2\\pi}\\sigma}\\exp\\left\\{-\\frac{1}{2\\sigma^2}\\left(y_n-\\mu\\right)^2 \\right\\}\\right] $\n",
    "\n",
    "$ = \\sum_{n=1}^{N}\\left[\\frac{1}{2\\sigma^2}(y_n-\\mu)^2\\right]- N \\log \\sigma + \\text{const.}$\n",
    "\n",
    "The MLE occurs at the stationary point\n",
    "\n",
    "$\\frac{\\partial NLL_{gaussian}}{\\partial \\mu} = \\frac{\\partial NLL_{gaussian}}{\\partial \\sigma^2} = 0.$\n",
    "\n",
    "Differentiating first w.r.t. $\\mu,$\n",
    "\n",
    "$\\frac{\\partial NLL_{gaussian}}{\\partial \\mu} = \\frac{\\partial}{\\partial \\mu}\\left[\\sum_{n=1}^{N}\\left\\{\\frac{1}{2\\sigma^2}\\left(y_n - \\mu\\right)^2 \\right\\} \\right] \n",
    "= \\frac{\\partial}{\\partial \\mu}\\left[\\sum_{n=1}^{N}\\left\\{\\frac{1}{2\\sigma^2}\\left(\\mu^2 - 2\\mu y_n\\right) \\right\\} \\right]\n",
    "= \\frac{\\partial}{\\partial \\mu}\\left[\\left\\{\\frac{1}{2\\sigma^2}\\left(N\\mu^2 - 2\\mu \\sum_{n=1}^{N} y_n \\right) \\right\\} \\right]\n",
    "= \\frac{1}{2\\sigma^2}\\left(2N\\mu - 2 \\sum_{n=1}^{N} y_n \\right).$\n",
    "\n",
    "$\\Rightarrow N\\hat{\\mu} = \\sum_{n=1}^{N} y_n, $ \n",
    "\n",
    "so $\\hat{\\mu} = \\frac{1}{N}\\sum_{n=1}^{N} y_n = \\bar{y}.$\n",
    "\n",
    "Differentiating w.r.t. $\\sigma^2,$\n",
    "\n",
    "$\\frac{\\partial NLL_{gaussian}}{\\partial \\sigma^2} = \\frac{\\partial}{\\partial \\sigma^2}\\left[\\sum_{n=1}^{N}\\left\\{\\frac{1}{2\\sigma^2}\\left(y_n - \\mu\\right)^2 \\right\\} - N \\log \\sigma \\right]\n",
    "= \\frac{\\partial}{\\partial \\sigma^2}\\left[\\sum_{n=1}^{N}\\left\\{\\frac{1}{2}(\\sigma^2)^{-1}\\left(y_n - \\mu\\right)^2 \\right\\} - N \\log (\\sigma^2)^{1/2} \\right]$\n",
    "\n",
    "$=(-1)\\sum_{n=1}^{N}\\left\\{\\frac{1}{2}(\\sigma^2)^{-2}\\left(y_n - \\mu\\right)^2 \\right\\} - \\frac{N}{2\\sigma^2}\n",
    "= \\frac{1}{2}(\\sigma)^{-4}\\sum_{n=1}^{N}\\left(y_n - \\mu\\right)^2 - \\frac{N}{2\\sigma^2}.$\n",
    "\n",
    "Therefore, at the stationary point corresponding to the MLE,\n",
    "\n",
    "$\\frac{1}{2}\\hat{\\sigma}^{-4}\\sum_{n=1}^{N}\\left(y_n - \\hat{\\mu}\\right)^2 = \\frac{N}{2\\hat{\\sigma}^2}$.\n",
    "\n",
    "$\\Rightarrow \\sum_{n=1}^{N}\\left(y_n - \\hat{\\mu}\\right)^2 = N \\hat{\\sigma}^2,$\n",
    "\n",
    "so\n",
    "\n",
    "$\\hat{\\sigma}^2 = \\frac{1}{N}\\sum_{n=1}^{N}\\left(y_n - \\hat{\\mu}\\right)^2 = \\frac{1}{N}\\sum_{n=1}^{N}\\left(y_n - \\bar{y}\\right)^2.$"
   ]
  },
  {
   "cell_type": "markdown",
   "id": "baab892e-721e-40b8-bd54-090d87071c23",
   "metadata": {},
   "source": [
    "**Exercise 4.2** [MAP estimation for 1D Gaussians *] (Source: Jaakkola.)\n",
    "\n",
    "Consider samples $x_1, \\ldots, x_n$ from a Gaussian random variable with known variance $\\sigma^2$ and unknown mean $\\mu$. We further assume a prior distribution (also Gaussian) over the mean, $\\mu \\sim \\mathcal{N}(m, s^2)$, with fixed mean m and fixed variance $s^2$. Thus the only unknown is $\\mu$.\n",
    "\n",
    "a. Calculate the MAP estimate $\\hat{\\mu}_{MAP}$ . You can state the result without proof. Alternatively, with a lot more work, you can compute derivatives of the log posterior, set to zero and solve.\n",
    "\n",
    "b. Show that as the number of samples $n$ increase, the MAP estimate converges to the maximum likelihood estimate.\n",
    "\n",
    "c. Suppose $n$ is small and fixed. What does the MAP estimator converge to if we increase the prior variance $s^2$?\n",
    "\n",
    "d. Suppose $n$ is small and fixed. What does the MAP estimator converge to if we decrease the prior variance $s^2$?\n"
   ]
  },
  {
   "cell_type": "markdown",
   "id": "df78ef8d-bbf2-48c5-896b-416fa9fc0676",
   "metadata": {},
   "source": [
    "a. \n",
    "\n",
    "The MAP estimate for $\\mu$ corresponds to finding the mode for the posterior for a Gaussian likelihood\n",
    "\n",
    "$p(\\mathcal{D}|\\mu, \\sigma^2) = \\prod_{i=1}^{N}\\mathcal{N}(x_i|\\mu, \\sigma^2)$\n",
    "\n",
    "and Gaussian prior\n",
    "\n",
    "$p(\\mu) = \\mathcal{N}(\\mu| m, s^2).$\n",
    "\n",
    "We know from section 4.6.4.1 that this posterior will be normal\n",
    "\n",
    "$p(\\mu| \\mathcal{D}, \\sigma^2) = \\mathcal{N}(\\mu| \\tilde{m}, \\tilde{s}^2)$\n",
    "\n",
    "with variance given by\n",
    "\n",
    "$\\tilde{s}^2 = \\frac{\\sigma^2 s^2}{n s^2 + \\sigma^2}$\n",
    "\n",
    "and mean given by\n",
    "\n",
    "$\\tilde{m} = \\frac{\\sigma^2}{n \\tilde{s}^2 + \\sigma^2}m + \\frac{ns^2}{n \\tilde{s}^2 + \\sigma^2}\\bar{x},$\n",
    "\n",
    "where $\\bar{x}$ is the sample mean.\n",
    "\n",
    "Since the mode for a normal distribution coincides with the mean, we have\n",
    "\n",
    "$\\hat{\\mu}_{MAP} = \\frac{\\sigma^2}{n \\tilde{s}^2 + \\sigma^2}m + \\frac{ns^2}{n \\tilde{s}^2 + \\sigma^2}\\bar{x}.$\n",
    "\n",
    "b.\n",
    "\n",
    "As the number of samples $n$ increases, the MAP estimate will converge to:\n",
    "\n",
    "$\\hat{\\mu}_{MAP} \\approx \\frac{ns^2}{n \\tilde{s}^2 + \\sigma^2}\\bar{x},$\n",
    "\n",
    "since the other term in the sum will tend to zero due to the inverse $n$ term.  As $n$ becomes large compared to $\\sigma^2$ we will have \n",
    "\n",
    "$\\hat{\\mu}_{MAP} \\approx \\bar{x} = \\hat{\\mu}_{MLE}.$\n",
    "\n",
    "c.\n",
    "\n",
    "If $n$ is small and fixed, increasing the prior variance $s^2$ will cause the MAP estimator to converge to $\\bar{x}$, as the $ns^2$ becomes increasingly large with respect to $\\sigma^2.$\n",
    "\n",
    "d.\n",
    "\n",
    "If $n$ is small and fixed, decreasing the prior variance $s^2$ will cause the MAP estimator to converge to the prior mean $m$, as th $ns^2$ becomes increasingly small with respect to $\\sigma^2.$"
   ]
  },
  {
   "cell_type": "markdown",
   "id": "29dd4a8d-e34b-4ef5-8f77-577327b42232",
   "metadata": {},
   "source": [
    "**Exercise 4.3** [Gaussian posterior credible interval]\n",
    "\n",
    "(Source: DeGroot.) Let $X \\sim \\mathcal{N}(\\mu,\\sigma^2 = 4)$ where $\\mu$ is unknown but has prior $\\mu \\sim \\mathcal{N}(\\mu_{0},\\sigma_0^2 = 9).$ The posterior after seeing $n$ samples is $\\mu \\sim \\mathcal{N}(\\mu_n,\\sigma_n^2).$ (This is called a credible interval, and is the Bayesian analog of a confidence interval.) How big does $n$ have to be to ensure\n",
    "$p(l \\leq \\mu_n \\leq u|\\mathcal{D}) \\geq 0.95$ where $(l, u)$ is an interval (centered on $μ_n$) of width 1 and $\\mathcal{D}$ is the data? Hint: recall that 95% of the\n",
    "probability mass of a Gaussian is within $\\pm1.96\\sigma$ of the mean."
   ]
  },
  {
   "cell_type": "markdown",
   "id": "12e73370-5c2b-4949-bcf8-ef14f98b1692",
   "metadata": {},
   "source": [
    "Since the variance $\\sigma^2$ of the data, and the variance of the prior on $\\mu$, $\\sigma_0^2$, are both known, the variance of the posterior on $\\mu,$ $\\sigma_n^2,$ will be determined entirely by the sample size $n.$  The mean of the posterior $\\mu_n$ will depend on the prior mean $\\mu_0$ and the sample mean $\\bar{x}$ as well as the sample size, but since we are concerned with an interval centered on $\\mu_n,$ its value does not matter as far as this question is concerned.  \n",
    "\n",
    "We can see this with a few different values of $\\bar{x},$ $\\mu_0,$ and $n$, where we first define a function to return the posterior mean and variance:"
   ]
  },
  {
   "cell_type": "code",
   "execution_count": 3,
   "id": "0d2920a7-e43b-4e3d-9b6d-c6f67e70ec21",
   "metadata": {},
   "outputs": [],
   "source": [
    "def get_posterior(xbar, n, μ_0, σ2=4, σ_02=9):\n",
    "    # posterior variance:\n",
    "    σ_n2 = (σ2*σ_02)/(n*σ_02 + σ2)\n",
    "    # posterior mean:\n",
    "    μ_n = (σ2)/(n*σ_02 + σ2)*μ_0 + (n*σ_02)/(n*σ_02 + σ2)*xbar\n",
    "    return μ_n, σ_n2"
   ]
  },
  {
   "cell_type": "code",
   "execution_count": 4,
   "id": "d0a274b1-f582-4533-b620-ee3a57a2573a",
   "metadata": {},
   "outputs": [
    {
     "data": {
      "image/png": "[encoded data removed]",
      "text/plain": [
       "<Figure size 432x288 with 1 Axes>"
      ]
     },
     "metadata": {
      "needs_background": "light"
     },
     "output_type": "display_data"
    }
   ],
   "source": [
    "# xbar = 10, μ_0 = 0, n = 1, 4, 16\n",
    "samplesizes = [1, 4, 16]\n",
    "μ_0 = 0; xbar = 10; σ2=4; σ_02=9\n",
    "results = {'μ_0': μ_0,\n",
    "           'xbar': xbar,\n",
    "           'σ2': σ2,\n",
    "           'σ_02': σ_02,\n",
    "           'posterior': {}\n",
    "           }\n",
    "for n in samplesizes:\n",
    "    postmean, postvar = get_posterior(xbar, n, μ_0, σ2=σ2, σ_02=σ_02)\n",
    "    results['posterior'][n] = {'postmean': postmean,\n",
    "                               'postvar': postvar}\n",
    "plot_gaussian(results['μ_0'], np.sqrt(results['σ_02']), label='prior')\n",
    "plot_gaussian(results['xbar'], np.sqrt(results['σ2']), label='likelihood')\n",
    "for n in results['posterior'].keys():\n",
    "    plot_gaussian(results['posterior'][n]['postmean'], \n",
    "                  np.sqrt(results['posterior'][n]['postvar']),\n",
    "                  label=f'posterior, sample size = {n}')"
   ]
  },
  {
   "cell_type": "code",
   "execution_count": 5,
   "id": "3eecd19e-5adb-4384-8732-6f1a7a7ef496",
   "metadata": {},
   "outputs": [
    {
     "data": {
      "image/png": "[encoded data removed]",
      "text/plain": [
       "<Figure size 432x288 with 1 Axes>"
      ]
     },
     "metadata": {
      "needs_background": "light"
     },
     "output_type": "display_data"
    }
   ],
   "source": [
    "# xbar = 5, μ_0 = 2, n = 1, 4, 16\n",
    "samplesizes = [1, 4, 16]\n",
    "μ_0 = 2; xbar = 5; σ2=4; σ_02=9\n",
    "results = {'μ_0': μ_0,\n",
    "           'xbar': xbar,\n",
    "           'σ2': σ2,\n",
    "           'σ_02': σ_02,\n",
    "           'posterior': {}\n",
    "           }\n",
    "for n in samplesizes:\n",
    "    postmean, postvar = get_posterior(xbar, n, μ_0, σ2=σ2, σ_02=σ_02)\n",
    "    results['posterior'][n] = {'postmean': postmean,\n",
    "                               'postvar': postvar}\n",
    "plot_gaussian(results['μ_0'], np.sqrt(results['σ_02']), label='prior')\n",
    "plot_gaussian(results['xbar'], np.sqrt(results['σ2']), label='likelihood')\n",
    "for n in results['posterior'].keys():\n",
    "    plot_gaussian(results['posterior'][n]['postmean'], \n",
    "                  np.sqrt(results['posterior'][n]['postvar']),\n",
    "                  label=f'posterior, sample size = {n}')"
   ]
  },
  {
   "cell_type": "markdown",
   "id": "4ac8153c-8ad2-4898-b4f2-35cea3a90b56",
   "metadata": {},
   "source": [
    "As we see from the two examples, the location of the posterior moves, depending on the prior location and the sample mean, but for a given sample size, the shape (i.e., the variance) of the posterior is the same.\n",
    "\n",
    "What the question asks is above what sample size at least 95% of the posterior mass will be contained within the interval ($\\mu_n-0.5$, $\\mu_n + 0.5$).  We know that 95% of the posterior mass is contained within the interval ($\\mu_n-1.96\\sigma_n$, $\\mu_n + 1.96\\sigma_n$), where $\\sigma_n$ is the standard deviation of the posterior.  Hence the condition will be satisfied for any value of $n$ such that $1.96\\sigma_n \\lt 0.5,$ so that the second interval is contained within the first.  We can just calculate the value of $1.96\\sigma_n$ for several values of $n$:"
   ]
  },
  {
   "cell_type": "code",
   "execution_count": 6,
   "id": "1ce3fd2a-46e5-41e6-ad5a-8c787001609d",
   "metadata": {},
   "outputs": [
    {
     "name": "stdout",
     "output_type": "stream",
     "text": [
      "sample size: 1\t1.96 x σ_n: 3.2616\n",
      "sample size: 11\t1.96 x σ_n: 1.1587\n",
      "sample size: 21\t1.96 x σ_n: 0.8465\n",
      "sample size: 31\t1.96 x σ_n: 0.6991\n",
      "sample size: 41\t1.96 x σ_n: 0.6089\n",
      "sample size: 51\t1.96 x σ_n: 0.5465\n",
      "sample size: 61\t1.96 x σ_n: 0.5001\n",
      "sample size: 71\t1.96 x σ_n: 0.4638\n"
     ]
    }
   ],
   "source": [
    "for n in range(1, 81, 10):\n",
    "    _, postvar = get_posterior(xbar, n, μ_0)\n",
    "    print(f\"sample size: {n}\\t1.96 x σ_n: {1.96 * np.sqrt(postvar):.4f}\")"
   ]
  },
  {
   "cell_type": "code",
   "execution_count": 7,
   "id": "3a1e5b24-1bbd-4b77-9aba-d5836679fdcf",
   "metadata": {},
   "outputs": [
    {
     "name": "stdout",
     "output_type": "stream",
     "text": [
      "sample size: 61\t1.96 x σ_n: 0.5001\n",
      "sample size: 62\t1.96 x σ_n: 0.4961\n",
      "sample size: 63\t1.96 x σ_n: 0.4921\n",
      "sample size: 64\t1.96 x σ_n: 0.4883\n",
      "sample size: 65\t1.96 x σ_n: 0.4846\n"
     ]
    }
   ],
   "source": [
    "for n in range(61, 66):\n",
    "    _, postvar = get_posterior(xbar, n, μ_0)\n",
    "    print(f\"sample size: {n}\\t1.96 x σ_n: {1.96 * np.sqrt(postvar):.4f}\")"
   ]
  },
  {
   "cell_type": "markdown",
   "id": "1d288f36-008a-43f9-8329-00413a3e570d",
   "metadata": {},
   "source": [
    "Hence for a sample size equal or above $n = 62,$ the condition is met and 95% of the posterior mass is contained within $\\mu_n \\pm 0.5.$"
   ]
  },
  {
   "cell_type": "code",
   "execution_count": 8,
   "id": "c9c40c2b-c219-4935-896f-af0773c38a01",
   "metadata": {},
   "outputs": [
    {
     "data": {
      "text/plain": [
       "<matplotlib.legend.Legend at 0x7fa4febbf908>"
      ]
     },
     "execution_count": 8,
     "metadata": {},
     "output_type": "execute_result"
    },
    {
     "data": {
      "image/png": "[encoded data removed]",
      "text/plain": [
       "<Figure size 432x288 with 1 Axes>"
      ]
     },
     "metadata": {
      "needs_background": "light"
     },
     "output_type": "display_data"
    }
   ],
   "source": [
    "# xbar = 5, μ_0 = 2, n = 62\n",
    "n=62\n",
    "samplesizes = [n]\n",
    "μ_0 = 2; xbar = 5; σ2=4; σ_02=9\n",
    "results = {'μ_0': μ_0,\n",
    "           'xbar': xbar,\n",
    "           'σ2': σ2,\n",
    "           'σ_02': σ_02,\n",
    "           'posterior': {}\n",
    "           }\n",
    "for n in samplesizes:\n",
    "    postmean, postvar = get_posterior(xbar, n, μ_0, σ2=σ2, σ_02=σ_02)\n",
    "    results['posterior'][n] = {'postmean': postmean,\n",
    "                               'postvar': postvar}\n",
    "plot_gaussian(results['μ_0'], np.sqrt(results['σ_02']), label='prior')\n",
    "plot_gaussian(results['xbar'], np.sqrt(results['σ2']), label='likelihood')\n",
    "for n in results['posterior'].keys():\n",
    "    plot_gaussian(results['posterior'][n]['postmean'], \n",
    "                  np.sqrt(results['posterior'][n]['postvar']),\n",
    "                  label=f'posterior, sample size = {n}')\n",
    "# plot the \"credible interval\"\n",
    "postmean = results['posterior'][n]['postmean']\n",
    "plt.plot([postmean - 0.5, postmean - 0.5], [0, 0.8], '--', c='r')\n",
    "plt.plot([postmean + 0.5, postmean + 0.5], [0, 0.8], '--', c='r', \n",
    "         label='Credible Interval')\n",
    "# plot the posterior mean +/- 1.96*std\n",
    "poststd = np.sqrt(results['posterior'][n]['postvar'])\n",
    "plt.plot([postmean - 1.96*poststd, postmean - 1.96*poststd], [0, 0.8], ':', c='b')\n",
    "plt.plot([postmean + 1.96*poststd, postmean + 1.96*poststd], [0, 0.8], ':', c='b', \n",
    "         label='95% Interval')\n",
    "plt.legend()"
   ]
  },
  {
   "cell_type": "markdown",
   "id": "018d3710-2f3a-459a-9e06-2f629c64cee7",
   "metadata": {},
   "source": [
    "If we take a smaller sample size (say 36), we can see that the 95% interval is clearly smaller than the $\\pm0.5$ interval:"
   ]
  },
  {
   "cell_type": "code",
   "execution_count": 9,
   "id": "b4cbded7-22c9-4f89-8574-94d11bd758ea",
   "metadata": {},
   "outputs": [
    {
     "data": {
      "text/plain": [
       "<matplotlib.legend.Legend at 0x7fa4fec88c50>"
      ]
     },
     "execution_count": 9,
     "metadata": {},
     "output_type": "execute_result"
    },
    {
     "data": {
      "image/png": "[encoded data removed]",
      "text/plain": [
       "<Figure size 432x288 with 1 Axes>"
      ]
     },
     "metadata": {
      "needs_background": "light"
     },
     "output_type": "display_data"
    }
   ],
   "source": [
    "# xbar = 5, μ_0 = 2, n = 51\n",
    "n=36\n",
    "samplesizes = [n]\n",
    "μ_0 = 2; xbar = 5; σ2=4; σ_02=9\n",
    "results = {'μ_0': μ_0,\n",
    "           'xbar': xbar,\n",
    "           'σ2': σ2,\n",
    "           'σ_02': σ_02,\n",
    "           'posterior': {}\n",
    "           }\n",
    "for n in samplesizes:\n",
    "    postmean, postvar = get_posterior(xbar, n, μ_0, σ2=σ2, σ_02=σ_02)\n",
    "    results['posterior'][n] = {'postmean': postmean,\n",
    "                               'postvar': postvar}\n",
    "plot_gaussian(results['μ_0'], np.sqrt(results['σ_02']), label='prior')\n",
    "plot_gaussian(results['xbar'], np.sqrt(results['σ2']), label='likelihood')\n",
    "for n in results['posterior'].keys():\n",
    "    plot_gaussian(results['posterior'][n]['postmean'], \n",
    "                  np.sqrt(results['posterior'][n]['postvar']),\n",
    "                  label=f'posterior, sample size = {n}')\n",
    "# plot the \"credible interval\"\n",
    "postmean = results['posterior'][n]['postmean']\n",
    "plt.plot([postmean - 0.5, postmean - 0.5], [0, 0.8], '--', c='r')\n",
    "plt.plot([postmean + 0.5, postmean + 0.5], [0, 0.8], '--', c='r', \n",
    "         label='Credible Interval')\n",
    "# plot the posterior mean +/- 1.96*std\n",
    "poststd = np.sqrt(results['posterior'][n]['postvar'])\n",
    "plt.plot([postmean - 1.96*poststd, postmean - 1.96*poststd], [0, 0.8], ':', c='b')\n",
    "plt.plot([postmean + 1.96*poststd, postmean + 1.96*poststd], [0, 0.8], ':', c='b', \n",
    "         label='95% Interval')\n",
    "plt.legend()"
   ]
  },
  {
   "cell_type": "markdown",
   "id": "14257e2b-da9e-4f72-990c-3ad233529fb0",
   "metadata": {},
   "source": [
    "**Exercise 4.4** [BIC for Gaussians *]\n",
    "\n",
    "(Source: Jaakkola.)\n",
    "The Bayesian information criterion (BIC) is a penalized log-likelihood function that can be used for model selection. It is defined as\n",
    "\n",
    "\n",
    "$\\text{BIC} = \\text{log} p(\\mathcal{D}|\\hat{\\theta}^{ML}) − \\frac{d}{2} \\text{log}(N)$\n",
    "\n",
    "where $d$ is the number of free parameters in the model and $N$ is the number of samples. In this question, we will see how to use this to choose between a full covariance Gaussian and a Gaussian with a diagonal covariance. Obviously a full covariance Gaussian has higher likelihood, but it may not be “worth” the extra parameters if the improvement over a diagonal covariance matrix is too small. So we use the BIC score to choose the model.\n",
    "\n",
    "We can write\n",
    "\n",
    "$\\text{log} p(\\mathcal{D}|\\hat{\\Sigma}, \\hat{\\mu}) = -\\frac{N}{2} \\text{tr} (\\hat{\\Sigma}^{-1}\\hat{S})- \\frac{N}{2}\\text{log}(|\\hat{\\Sigma}|)$\n",
    "\n",
    "$\\hat{S} = \\frac{1}{N}\\sum_{i=1}^{N}(x_i - \\bar{x})(x_i - \\bar{x})^T$\n",
    "\n",
    "where $\\hat{S}$ is the scatter matrix (empirical covariance), the trace of a matrix is the sum of its diagonals, and we have used the trace trick.\n",
    "\n",
    "a. Derive the BIC score for a Gaussian in $D$ dimensions with full covariance matrix. Simplify your answer as much as possible, exploiting the form of the MLE. Be sure to specify the number of free parameters $d$.\n",
    "\n",
    "b. Derive the BIC score for a Gaussian in $D$ dimensions with a diagonal covariance matrix. Be sure to specify the number of free parameters $d$. Hint: for the diagonal case, the ML estimate of $\\Sigma$ is the same as $\\Sigma^{ML}$ except the off-diagonal terms are zero:\n",
    "\n",
    "$\\Sigma^{diag} = \\text{diag}(\\Sigma^{ML}(1, 1),\\ldots,\\Sigma^{ML}(D, D)).$"
   ]
  },
  {
   "cell_type": "markdown",
   "id": "c84757c2-4b84-44ff-8334-ed07239d0c04",
   "metadata": {},
   "source": [
    "N.B., comparing the above expression for the log likelihood of a multivariate gaussian to equations (4.45) and (4.46):\n",
    "\n",
    "(i) the term that involves the determinant is negative here, since here it is the determinant of $\\hat{\\Sigma}$, while in equation (4.45) it is the determinant of $\\Lambda = \\Sigma^{-1},$ and these quantities are each equal to the others reciprocal (i.e, the determinant of a matrix is equal to one divided by the determinant of its inverse),\n",
    "\n",
    "(ii) The scatter matrix is defined differently here wrt equation (4.46) where it did not include the normalizing $\\frac{1}{N}$ term (which ensures that all diagonal elements are unity).  Hence in (4.45) the coefficient term in front of the trace term is $\\frac{1}{2}$ rather than the $\\frac{N}{2}$ above.\n",
    "\n",
    "(iii) In equation (4.45) the order of the terms inside the trace are reversed.  This gives the same quantity, however, since $\\text{tr}(AB) = \\text{tr}(BA).$\n",
    "\n",
    "a.\n",
    "\n",
    "We have from equation (4.51) that \n",
    "\n",
    "$\\hat{\\Sigma} = \\hat{S},$\n",
    "\n",
    "given that the definition of $\\hat{S}$ here includes the $\\frac{1}{N}$ factor (see (ii) above).  The matrix $\\hat{S}$ has $D$ dimensions, as required.\n",
    "\n",
    "Hence we have:\n",
    "\n",
    "$\\text{log} p(\\mathcal{D}|\\hat{\\Sigma}, \\hat{\\mu}) = -\\frac{N}{2} \\text{tr} (\\hat{S}^{-1}\\hat{S})- \\frac{N}{2}\\text{log}(|\\hat{S}|)$\n",
    "\n",
    "$= -\\frac{N}{2} \\text{tr} (I)- \\frac{N}{2}\\text{log}(|\\hat{S}|)$\n",
    "\n",
    "$= -\\frac{ND}{2} - \\frac{N}{2}\\text{log}(|\\hat{S}|).$\n",
    "\n",
    "Hence the BIC score for a multivariate gaussian in $D$ dimensions, using the full MLE covariance matrix for $\\Sigma,$ is given by:\n",
    "\n",
    "$\\text{BIC}_{full} = -\\frac{ND}{2} - \\frac{N}{2}\\text{log}(|\\hat{S}|) - \\frac{d}{2}\\text{log}(N)$\n",
    "\n",
    "$= -\\frac{ND}{2} - \\frac{N}{2}\\text{log}(|\\hat{S}|) - \\frac{D(D-1)}{2}\\text{log}(N),$\n",
    "\n",
    "since for the full MLE covariance case, we have $D(D-1)$ free parameters (one for each upper-diagonal element of $\\hat{\\Sigma}$).\n",
    "\n",
    "b.\n",
    "\n",
    "In this case our covariance estimate $\\hat{\\Sigma}_{diag} = \\hat{S}_{diag}$ contains only the diagonal elements of the full MLE covariance estimate $\\hat{S}$, all other elements are set to zero.  This gives us:\n",
    "\n",
    "$\\text{log} p(\\mathcal{D}|\\hat{\\Sigma}_{diag}, \\hat{\\mu}) = -\\frac{N}{2} \\text{tr} (\\hat{S}_{diag}^{-1}\\hat{S})- \\frac{N}{2}\\text{log}(|\\hat{S}_{diag}|)$\n",
    "\n",
    "$ = -\\frac{N}{2} \\text{tr} (\\hat{S}_{diag}^{-1}\\hat{S})- \\frac{N}{2}\\text{log}(1) = -\\frac{N}{2} \\text{tr} (\\hat{S}_{diag}^{-1}\\hat{S}).$\n",
    "\n",
    "Since we know that the diagonal elements of $\\hat{S}$ are all one, this reduces to:\n",
    "\n",
    "$\\text{log} p(\\mathcal{D}|\\hat{\\Sigma}_{diag} = -\\frac{N}{2} \\text{tr} (I) = -\\frac{ND}{2}.$\n",
    "\n",
    "The number of free parameters is now also smaller, $D$, since there is now one only for each diagonal element of $\\hat{S}.$  Thus we have\n",
    "\n",
    "$\\text{BIC}_{diag} = -\\frac{ND}{2} - \\frac{D}{2}\\text{log}(N).$\n",
    "\n",
    "Should we use $\\hat{\\Sigma}_{MLE}$ or $\\hat{\\Sigma}_{MLE}^{diag}$?\n",
    "\n",
    "The $- \\frac{N}{2}\\text{log}(|\\hat{S}|)$ term in $\\text{BIC}_{full}$ will provide a positive contribution to the BIC score, since $0 \\lt |\\hat{S}| \\leq 1.$  This contribution will be greatest for values of $|\\hat{S}|$ which are very small, corresponding to scatter matrices for which the off-diagonal elements are higher, i.e., for systems which have higher correlations between covariates.  This is intuitive - the full MLE covariance matrix captures the effect of the correlations while the diagonal version does not.\n",
    "\n",
    "However, this is offset by the penalty term $-\\frac{d}{2}\\text{log}(N),$ which will provide a negative contribution to the BIC score in both cases, but is greater for the $\\text{BIC}_{full}$ case by a factor of $D-1.$\n",
    "\n",
    "Hence, for strongly-correlated, low-dimensional systems, it may be worth using the full $\\hat{\\Sigma}_{MLE}$ (i.e., the BIC score may be higher), however for less strongly-correlated or higher dimensional systems the diagonal version will likely be the better choice."
   ]
  },
  {
   "cell_type": "markdown",
   "id": "10b75d06-2624-4fe9-ae1d-b940fe345da0",
   "metadata": {},
   "source": [
    "**Exercise 4.5** [BIC for a 2d discrete distribution] (Source: Jaakkola.)\n",
    "\n",
    "Let x ∈ {0, 1} denote the result of a coin toss (x = 0 for tails, x = 1 for heads). The coin is potentially biased, so that heads occurs with probability θ1. Suppose that someone else observes the coin flip and reports to you the outcome, y. But this person is unreliable and only reports the result correctly with probability θ2; i.e., p(y|x, θ2) is given by\n",
    "\n",
    "         y=0     y=1 \n",
    "    x=0   θ2     1−θ2\n",
    "    x=1  1−θ2     θ2 \n",
    "\n",
    "Assume that θ2 is independent of x and θ1.\n",
    "\n",
    "a. Write down the joint probability distribution p(x, y|θ) as a 2 × 2 table, in terms of $\\theta = (\\theta_1, \\theta_2)$.\n",
    "\n",
    "b. Suppose have the following dataset: $x = (1,1,0,1,1,0,0)$, $y = (1,0,0,0,1,0,1)$. What are the MLEs for θ1 and θ2? Justify your answer. Hint: note that the likelihood function factorizes,\n",
    "$p(x, y|\\theta) = p(y|x, \\theta_2)p(x|\\theta_1)$\n",
    "\n",
    "What is $p(\\mathcal{D}|\\hat{\\theta},M_2)$ where $M_2$ denotes this 2-parameter model? (You may leave your answer in fractional form if you wish.)\n",
    "\n",
    "c. Now consider a model with 4 parameters, $\\theta (\\theta_{0,0},\\theta_{0,1},\\theta_{1,0},\\theta_{1,1})$, representing $p(x,y|\\theta) = \\theta_{x,y}$. (Only 3 of these parameters are free to vary, since they must sum to one.) What is the MLE of $\\theta$? What is $p(\\mathcal{D}|\\hat{\\theta}, M_4)$ where $M_4$ denotes this 4-parameter model?\n",
    "\n",
    "d. Suppose we are not sure which model is correct. We compute the leave-one-out cross validated log likelihood of the 2-parameter model and the 4-parameter model as follows:\n",
    "\n",
    "$L(m) = \\sum_{i=1}^{n}\\text{log}p(x_i,y_i|m, \\hat{\\theta}(\\mathcal{D}_{-i}))$\n",
    "\n",
    "and $\\hat{\\theta}(\\mathcal{D}_{-i})$ denotes the MLE computed on $\\mathcal{D}$ excluding row $i$. Which model will CV pick and why?\n",
    "Hint: notice how the table of counts changes when you omit each training case one at a time.\n",
    "\n",
    "e. Recall that an alternative to CV is to use the BIC score, defined as\n",
    "\n",
    "$\\text{BIC}(M,D) = \\text{log} p(\\mathcal{D}|\\hat{\\theta}^{MLE})− dof(M) \\text{log}(N)$\n",
    "\n",
    "where $dof(M)$ is the number of free parameters in the model, Compute the BIC scores for both models (use log base $e$). Which model does BIC prefer?"
   ]
  },
  {
   "cell_type": "markdown",
   "id": "7d9d2f4b-e0a5-4c4b-bc54-02ac15f433d1",
   "metadata": {},
   "source": [
    "a.\n",
    "\n",
    "Since $\\theta_2$ is independent of $x, \\theta_1,$ we can write the joint probability for each outcome $x=X, y=Y$ as the product of $p(x=X, \\theta_1)$ and $p(y=Y|x=X, \\theta_2)$, i.e.:\n",
    "\n",
    "           y=0            y=1 \n",
    "    x=0  (1-θ1)θ2    (1−θ1)(1−θ2)\n",
    "    x=1   θ1(1−θ2)       θ1θ2"
   ]
  },
  {
   "cell_type": "markdown",
   "id": "b30362e0-7a9c-4227-b459-db2e1b47e8f0",
   "metadata": {},
   "source": [
    "b.\n",
    "\n",
    "Since $\\theta_1$ and $\\theta_2$ are both Bernoulli, the MLE estimate will be given by the number of positive examples divided by the total number of examples, i.e.,\n",
    "\n",
    "$\\hat{\\theta_1}^{MLE} = \\frac{N_{x=1}}{N_{TOTAL}},$\n",
    "\n",
    "$\\hat{\\theta_2}^{MLE} = \\frac{N_{y=x}}{N_{TOTAL}}.$"
   ]
  },
  {
   "cell_type": "code",
   "execution_count": 10,
   "id": "657775b6-2635-4863-bf58-7bd0c7f0ac77",
   "metadata": {},
   "outputs": [
    {
     "name": "stdout",
     "output_type": "stream",
     "text": [
      "MLE θ_1 = 0.5714\n",
      "MLE θ_2 = 0.5714\n"
     ]
    }
   ],
   "source": [
    "x = np.array([1, 1, 0, 1, 1, 0, 0])\n",
    "y = np.array([1, 0, 0, 0, 1, 0, 1])\n",
    "\n",
    "print(f\"MLE θ_1 = {(x==1).sum()/len(x):.4f}\")\n",
    "print(f\"MLE θ_2 = {(x==y).sum()/len(x):.4f}\")"
   ]
  },
  {
   "cell_type": "code",
   "execution_count": 11,
   "id": "ac74f458-baa1-47b6-aac2-77a7aa1df133",
   "metadata": {},
   "outputs": [],
   "source": [
    "def bernoulli_likelihood(theta, xs):\n",
    "    l = theta**(xs==1).sum() * (1-theta)**(xs==0).sum()\n",
    "    return l"
   ]
  },
  {
   "cell_type": "markdown",
   "id": "741cad38-1289-4c16-a542-74f89f0525b9",
   "metadata": {},
   "source": [
    "The probability of the data is given by:\n",
    "\n",
    "$p(\\mathcal{D}|\\hat{\\theta}, M_2) = p(y|x, \\hat{\\theta}_2)p(x|\\hat{\\theta}_1)$:"
   ]
  },
  {
   "cell_type": "code",
   "execution_count": 12,
   "id": "dd9f50a6-4b2e-434a-81a2-af73b13fd6ac",
   "metadata": {},
   "outputs": [
    {
     "name": "stdout",
     "output_type": "stream",
     "text": [
      "Likelihood of the data with the two-parameter model: 7.04e-05\n"
     ]
    }
   ],
   "source": [
    "l = bernoulli_likelihood(0.5714, (y==x).astype(int)) * bernoulli_likelihood(0.5714, x)\n",
    "\n",
    "print(f\"Likelihood of the data with the two-parameter model: {l:.2e}\")"
   ]
  },
  {
   "cell_type": "markdown",
   "id": "7b1c6fde-5002-4161-8610-e71f4ad10304",
   "metadata": {},
   "source": [
    "c.\n",
    "\n",
    "One way we can do this is to do a grid search over values for $\\theta_{0,0}, \\theta_{0,1}, \\theta_{1,0},$ with $\\theta_{1,1}$ set as one minus the other three parameters, such that the likelihood is maximized:"
   ]
  },
  {
   "cell_type": "code",
   "execution_count": 13,
   "id": "8e886032-3472-4a40-a863-fd844346bcc3",
   "metadata": {},
   "outputs": [],
   "source": [
    "def M4_likelihood(t00, t01, t10, xs, ys):\n",
    "    \n",
    "    assert (0 <= t00) and (t00 < 1)\n",
    "    assert (0 <= t01) and (t01 < 1)\n",
    "    assert (0 <= t10) and (t10 < 1)\n",
    "    \n",
    "    assert (t00+t01+t10) < 1\n",
    "    \n",
    "    t11 = 1 - t00 - t01 - t10\n",
    "    \n",
    "    n00 = ((xs==0) & (ys==0)).sum()\n",
    "    n01 = ((xs==0) & (ys==1)).sum()\n",
    "    n10 = ((xs==1) & (ys==0)).sum()\n",
    "    n11 = ((xs==1) & (ys==1)).sum()\n",
    "    \n",
    "    l = t00**n00 * t01**n01 * t10**n10 * t11**n11\n",
    "    \n",
    "    return t00, t01, t10, t11, l"
   ]
  },
  {
   "cell_type": "code",
   "execution_count": 15,
   "id": "e3d30e35-e1d6-4211-ad8f-d9d573f41ab0",
   "metadata": {},
   "outputs": [],
   "source": [
    "L = []\n",
    "size = 0.1\n",
    "\n",
    "for t00 in np.arange(size, 1.0, size):\n",
    "    for t01 in np.arange(size, 1.0, size):\n",
    "        for t10 in np.arange(size, 1.0, size):\n",
    "            if (t00+t01+t10) < 1:\n",
    "                L.append(M4_likelihood(t00, t01, t10, x, y))"
   ]
  },
  {
   "cell_type": "code",
   "execution_count": 28,
   "id": "1bb5039c-2217-44e8-a2c8-c570cf11638b",
   "metadata": {},
   "outputs": [
    {
     "data": {
      "text/plain": [
       "array([[3.00e-01, 1.00e-01, 3.00e-01, 3.00e-01, 7.29e-05]])"
      ]
     },
     "execution_count": 28,
     "metadata": {},
     "output_type": "execute_result"
    }
   ],
   "source": [
    "np.array(L)[np.array(L)[:, 4] == np.array(L)[:, 4].max()]"
   ]
  },
  {
   "cell_type": "code",
   "execution_count": 29,
   "id": "6e89f790-88b3-460a-a24f-0800291296f3",
   "metadata": {},
   "outputs": [],
   "source": [
    "L = []\n",
    "size = 0.01\n",
    "\n",
    "for t00 in np.arange(3.00e-01 - 10*size, 3.00e-01 + 10*size, size):\n",
    "    for t01 in np.arange(1.00e-01 - 10*size, 1.00e-01 + 10*size, size):\n",
    "        for t10 in np.arange(3.00e-01 - 10*size, 3.00e-01 + 10*size, size):\n",
    "            if (t00+t01+t10) < 1:\n",
    "                L.append(M4_likelihood(t00, t01, t10, x, y))"
   ]
  },
  {
   "cell_type": "code",
   "execution_count": 30,
   "id": "f5c621f1-bd03-4e18-b1dd-06c93d4c74f4",
   "metadata": {},
   "outputs": [
    {
     "data": {
      "text/plain": [
       "array([[2.90000000e-01, 1.40000000e-01, 2.90000000e-01, 2.80000000e-01,\n",
       "        7.76311626e-05]])"
      ]
     },
     "execution_count": 30,
     "metadata": {},
     "output_type": "execute_result"
    }
   ],
   "source": [
    "np.array(L)[np.array(L)[:, 4] == np.array(L)[:, 4].max()]"
   ]
  },
  {
   "cell_type": "code",
   "execution_count": 31,
   "id": "33763c46-12b3-42ee-a41c-b98666d5a725",
   "metadata": {},
   "outputs": [],
   "source": [
    "L = []\n",
    "size = 0.001\n",
    "\n",
    "for t00 in np.arange(2.9E-01 - 10*size, 2.9e-01 + 10*size, size):\n",
    "    for t01 in np.arange(1.40e-01 - 10*size, 1.40e-01 + 10*size, size):\n",
    "        for t10 in np.arange(2.90e-01 - 10*size, 2.90e-01 + 10*size, size):\n",
    "            if (t00+t01+t10) < 1:\n",
    "                L.append(M4_likelihood(t00, t01, t10, x, y))"
   ]
  },
  {
   "cell_type": "code",
   "execution_count": 32,
   "id": "6700bc38-1a30-4f9c-9cdd-fdd5ba5f37f7",
   "metadata": {},
   "outputs": [
    {
     "data": {
      "text/plain": [
       "array([[2.85000000e-01, 1.43000000e-01, 2.86000000e-01, 2.86000000e-01,\n",
       "        7.77123228e-05]])"
      ]
     },
     "execution_count": 32,
     "metadata": {},
     "output_type": "execute_result"
    }
   ],
   "source": [
    "np.array(L)[np.array(L)[:, 4] == np.array(L)[:, 4].max()]"
   ]
  },
  {
   "cell_type": "code",
   "execution_count": 34,
   "id": "7226f6ac-7568-42ca-b433-47032a22096c",
   "metadata": {},
   "outputs": [
    {
     "data": {
      "text/plain": [
       "array([[2.85700000e-01, 1.42900000e-01, 2.85700000e-01, 2.85700000e-01,\n",
       "        7.77129994e-05]])"
      ]
     },
     "execution_count": 34,
     "metadata": {},
     "output_type": "execute_result"
    }
   ],
   "source": [
    "L = []\n",
    "size = 0.0001\n",
    "\n",
    "for t00 in np.arange(2.85E-01 - 10*size, 2.85e-01 + 10*size, size):\n",
    "    for t01 in np.arange(1.43e-01 - 10*size, 1.43e-01 + 10*size, size):\n",
    "        for t10 in np.arange(2.86e-01 - 10*size, 2.86e-01 + 10*size, size):\n",
    "            if (t00+t01+t10) < 1:\n",
    "                L.append(M4_likelihood(t00, t01, t10, x, y))\n",
    "                \n",
    "np.array(L)[np.array(L)[:, 4] == np.array(L)[:, 4].max()]"
   ]
  },
  {
   "cell_type": "markdown",
   "id": "d0fcf672-c245-404d-b345-0aa06b4f6ed5",
   "metadata": {},
   "source": [
    "As should have been obvious, the maximum likelihood for each theta is simply the number of examples corresponding to the combination of $x$ and $y,$ divided by the total number of examples:"
   ]
  },
  {
   "cell_type": "code",
   "execution_count": 41,
   "id": "f4b84d52-58f0-425c-8c19-55bfdd77ca11",
   "metadata": {},
   "outputs": [
    {
     "name": "stdout",
     "output_type": "stream",
     "text": [
      "θ_0_0: 0.2857\n",
      "θ_0_1: 0.1429\n",
      "θ_1_0: 0.2857\n",
      "θ_1_1: 0.2857\n"
     ]
    }
   ],
   "source": [
    "print(f'θ_0_0: {((x==0) & (y==0)).sum() / len(x):.4f}')\n",
    "print(f'θ_0_1: {((x==0) & (y==1)).sum() / len(x):.4f}')\n",
    "print(f'θ_1_0: {((x==1) & (y==0)).sum() / len(x):.4f}')\n",
    "print(f'θ_1_1: {((x==1) & (y==1)).sum() / len(x):.4f}')"
   ]
  },
  {
   "cell_type": "markdown",
   "id": "cbca5c52-d52d-451b-8155-b8caf820fbc8",
   "metadata": {},
   "source": [
    "Another way to think about this problem is as a multi-class classification with four classes.  From that viewpoint we can see that the MLE estimate for each $\\theta$ will be simply the number of positive examples for that class divided by the total number of classes, which is what we see above.\n",
    "\n",
    "What is the likelihood of the data with this model?"
   ]
  },
  {
   "cell_type": "code",
   "execution_count": 43,
   "id": "5c2bee65-3286-4a85-8a99-69d5d49e425c",
   "metadata": {},
   "outputs": [
    {
     "name": "stdout",
     "output_type": "stream",
     "text": [
      "Likelihood of the data with the four-parameter model: 7.77e-05\n"
     ]
    }
   ],
   "source": [
    "θ_0_0 = 0.2857\n",
    "θ_0_1 = 0.1429\n",
    "θ_1_0 = 0.2857\n",
    "θ_1_1 = 0.2857\n",
    "\n",
    "_, _, _, _, L = M4_likelihood(θ_0_0, θ_0_1, θ_1_0, x, y)\n",
    "\n",
    "print(f\"Likelihood of the data with the four-parameter model: {L:.2e}\")"
   ]
  },
  {
   "cell_type": "markdown",
   "id": "72e56dbf-425d-42b7-b40b-fbb5af34f0ea",
   "metadata": {},
   "source": [
    "d.\n",
    "\n",
    "We calculate the leave-one-out CV log-likelihood in each case:"
   ]
  },
  {
   "cell_type": "code",
   "execution_count": 80,
   "id": "2895c24e-fac6-43da-941a-83328deb2553",
   "metadata": {},
   "outputs": [],
   "source": [
    "def CV_M2(xs, ys):\n",
    "    ll = 0\n",
    "    for ii in range(len(xs)):\n",
    "        xs_t = list(xs).copy()\n",
    "        ys_t = list(ys).copy()\n",
    "        del xs_t[ii]\n",
    "        del ys_t[ii]\n",
    "        xs_t = np.array(xs_t)\n",
    "        ys_t = np.array(ys_t)\n",
    "        x_v = np.array([xs[ii]])\n",
    "        y_v = np.array([ys[ii]])\n",
    "\n",
    "        θ1_t = (xs_t==1).sum()/len(xs_t)\n",
    "        θ2_t = (xs_t==ys_t).sum()/len(xs_t)\n",
    "        \n",
    "        v_likelihood = bernoulli_likelihood(θ2_t, (y_v==x_v).astype(int)) * \\\n",
    "                       bernoulli_likelihood(θ1_t, x_v)\n",
    "        \n",
    "        ll += np.log(v_likelihood)\n",
    "        \n",
    "    return ll"
   ]
  },
  {
   "cell_type": "code",
   "execution_count": 81,
   "id": "39e41193-be75-4618-95f0-83640c592359",
   "metadata": {},
   "outputs": [],
   "source": [
    "def CV_M4(xs, ys):\n",
    "    ll = 0\n",
    "    for ii in range(len(xs)):\n",
    "        xs_t = list(xs).copy()\n",
    "        ys_t = list(ys).copy()\n",
    "        del xs_t[ii]\n",
    "        del ys_t[ii]\n",
    "        xs_t = np.array(xs_t)\n",
    "        ys_t = np.array(ys_t)\n",
    "        x_v = np.array([xs[ii]])\n",
    "        y_v = np.array([ys[ii]])\n",
    "\n",
    "        θ00_t = ((xs_t==0) & (ys_t==0)).sum() / len(xs_t)\n",
    "        θ01_t = ((xs_t==0) & (ys_t==1)).sum() / len(xs_t)\n",
    "        θ10_t = ((xs_t==1) & (ys_t==0)).sum() / len(xs_t)\n",
    "        θ11_t = ((xs_t==1) & (ys_t==1)).sum() / len(xs_t)\n",
    "        \n",
    "        _, _, _, _, v_likelihood = M4_likelihood(θ00_t, θ01_t, θ10_t, x_v, y_v)\n",
    "\n",
    "        ll += np.log(v_likelihood)\n",
    "        \n",
    "    return ll"
   ]
  },
  {
   "cell_type": "code",
   "execution_count": 82,
   "id": "c2dec348-3bf8-4e88-8bec-f8fdf4976df6",
   "metadata": {},
   "outputs": [
    {
     "name": "stdout",
     "output_type": "stream",
     "text": [
      "Leave-one-out CV likelihood for the two-parameter model:\t-12.1369\n",
      "Leave-one-out CV likelihood for the four-parameter model:\t-inf\n"
     ]
    },
    {
     "name": "stderr",
     "output_type": "stream",
     "text": [
      "/Users/cb/miniconda3/envs/bda/lib/python3.6/site-packages/ipykernel_launcher.py:20: RuntimeWarning: divide by zero encountered in log\n"
     ]
    }
   ],
   "source": [
    "print(f\"Leave-one-out CV likelihood for the two-parameter model:\\t{CV_M2(x, y):.4f}\")\n",
    "print(f\"Leave-one-out CV likelihood for the four-parameter model:\\t{CV_M4(x, y):.4f}\")"
   ]
  },
  {
   "cell_type": "markdown",
   "id": "598bfecd-71ee-4c56-ad3c-670cc86331d4",
   "metadata": {},
   "source": [
    "The four-parameter model has a problem when the last row is used; this is the only example of $x=0$ and $y=1$ in the data set, hence it is left out of the training set, and leads to a likelihood of zero (and a log-likelihood of -inf) for this example.  The two-parameter model does not have this problem:"
   ]
  },
  {
   "cell_type": "code",
   "execution_count": 83,
   "id": "7681c63c-8429-4198-a182-b660791122f6",
   "metadata": {},
   "outputs": [],
   "source": [
    "def CV_M2_params(xs, ys):\n",
    "    ll = 0\n",
    "    for ii in range(len(xs)):\n",
    "        xs_t = list(xs).copy()\n",
    "        ys_t = list(ys).copy()\n",
    "        del xs_t[ii]\n",
    "        del ys_t[ii]\n",
    "        xs_t = np.array(xs_t)\n",
    "        ys_t = np.array(ys_t)\n",
    "        x_v = np.array([xs[ii]])\n",
    "        y_v = np.array([ys[ii]])\n",
    "\n",
    "        θ1_t = (xs_t==1).sum()/len(xs_t)\n",
    "        θ2_t = (xs_t==ys_t).sum()/len(xs_t)\n",
    "        \n",
    "        print(f\"row {ii} left out: θ1={θ1_t:.4f}\\tθ2={θ2_t:.4f}\")\n",
    "        \n",
    "    return None\n",
    "\n",
    "def CV_M4_params(xs, ys):\n",
    "    ll = 0\n",
    "    for ii in range(len(xs)):\n",
    "        xs_t = list(xs).copy()\n",
    "        ys_t = list(ys).copy()\n",
    "        del xs_t[ii]\n",
    "        del ys_t[ii]\n",
    "        xs_t = np.array(xs_t)\n",
    "        ys_t = np.array(ys_t)\n",
    "        x_v = np.array([xs[ii]])\n",
    "        y_v = np.array([ys[ii]])\n",
    "\n",
    "        θ00_t = ((xs_t==0) & (ys_t==0)).sum() / len(xs_t)\n",
    "        θ01_t = ((xs_t==0) & (ys_t==1)).sum() / len(xs_t)\n",
    "        θ10_t = ((xs_t==1) & (ys_t==0)).sum() / len(xs_t)\n",
    "        θ11_t = ((xs_t==1) & (ys_t==1)).sum() / len(xs_t)\n",
    "\n",
    "        print(f\"row {ii} left out: θ00={θ00_t:.4f}\\tθ01={θ01_t:.4f}\\tθ10={θ10_t:.4f}\\tθ11={θ11_t:.4f}\\t\")        \n",
    "        \n",
    "    return None"
   ]
  },
  {
   "cell_type": "code",
   "execution_count": 84,
   "id": "d38914a0-5c3d-40af-a87a-90160857b509",
   "metadata": {},
   "outputs": [
    {
     "name": "stdout",
     "output_type": "stream",
     "text": [
      "row 0 left out: θ1=0.5000\tθ2=0.5000\n",
      "row 1 left out: θ1=0.5000\tθ2=0.6667\n",
      "row 2 left out: θ1=0.6667\tθ2=0.5000\n",
      "row 3 left out: θ1=0.5000\tθ2=0.6667\n",
      "row 4 left out: θ1=0.5000\tθ2=0.5000\n",
      "row 5 left out: θ1=0.6667\tθ2=0.5000\n",
      "row 6 left out: θ1=0.6667\tθ2=0.6667\n"
     ]
    }
   ],
   "source": [
    "CV_M2_params(x, y)"
   ]
  },
  {
   "cell_type": "code",
   "execution_count": 85,
   "id": "8a2c512e-2c12-4388-8fc9-c7d4754552d4",
   "metadata": {},
   "outputs": [
    {
     "name": "stdout",
     "output_type": "stream",
     "text": [
      "row 0 left out: θ00=0.3333\tθ01=0.1667\tθ10=0.3333\tθ11=0.1667\t\n",
      "row 1 left out: θ00=0.3333\tθ01=0.1667\tθ10=0.1667\tθ11=0.3333\t\n",
      "row 2 left out: θ00=0.1667\tθ01=0.1667\tθ10=0.3333\tθ11=0.3333\t\n",
      "row 3 left out: θ00=0.3333\tθ01=0.1667\tθ10=0.1667\tθ11=0.3333\t\n",
      "row 4 left out: θ00=0.3333\tθ01=0.1667\tθ10=0.3333\tθ11=0.1667\t\n",
      "row 5 left out: θ00=0.1667\tθ01=0.1667\tθ10=0.3333\tθ11=0.3333\t\n",
      "row 6 left out: θ00=0.3333\tθ01=0.0000\tθ10=0.3333\tθ11=0.3333\t\n"
     ]
    }
   ],
   "source": [
    "CV_M4_params(x, y)"
   ]
  },
  {
   "cell_type": "markdown",
   "id": "fb907d54-37f2-4c20-aace-df5221d42dd5",
   "metadata": {},
   "source": [
    "e.\n",
    "\n",
    "If we choose instead to use the BIC score instead of CV, we find:"
   ]
  },
  {
   "cell_type": "code",
   "execution_count": 93,
   "id": "519dbdea-023f-4416-8b0e-f00ffce2044a",
   "metadata": {},
   "outputs": [
    {
     "name": "stdout",
     "output_type": "stream",
     "text": [
      "Log-likelihood of the data with the two-parameter model: -9.56\n",
      "BIC score for the two-parameter model: -11.51\n",
      "\n",
      "Log-likelihood of the data with the four-parameter model: -9.46\n",
      "BIC score for the four-parameter model: -12.38\n"
     ]
    }
   ],
   "source": [
    "θ1 = (x==1).sum()/len(x)\n",
    "θ2 = (x==y).sum()/len(x)\n",
    "\n",
    "l = bernoulli_likelihood(θ2, (y==x).astype(int)) * bernoulli_likelihood(θ1, x)\n",
    "\n",
    "θ00 = ((x==0) & (y==0)).sum() / len(x)\n",
    "θ01 = ((x==0) & (y==1)).sum() / len(x)\n",
    "θ10 = ((x==1) & (y==0)).sum() / len(x)\n",
    "\n",
    "_, _, _, _, L = M4_likelihood(θ00, θ01, θ10, x, y)\n",
    "\n",
    "print(f\"Log-likelihood of the data with the two-parameter model: {np.log(l):.2f}\")\n",
    "print(f\"BIC score for the two-parameter model: {np.log(l) - 2/2 * np.log(len(x)):.2f}\")\n",
    "print()\n",
    "print(f\"Log-likelihood of the data with the four-parameter model: {np.log(L):.2f}\")\n",
    "print(f\"BIC score for the four-parameter model: {np.log(L) - 3/2 * np.log(len(x)):.2f}\")"
   ]
  },
  {
   "cell_type": "markdown",
   "id": "d6dad672-bfe5-4e5a-aa15-7980f70f4bef",
   "metadata": {},
   "source": [
    "Hence although the likelihood of the data is higher for the four-parameter model, the BIC score is significantly lower; BIC prefers the two-parameter model."
   ]
  },
  {
   "cell_type": "markdown",
   "id": "589a2fa8-ce5e-402d-b459-dab8db7a2d3b",
   "metadata": {},
   "source": [
    "**Exercise 4.7** [ML estimator $\\sigma_{mle}^{2}$ is biased]\n",
    "\n",
    "Show that \n",
    "\n",
    "$\\hat{\\sigma}^{2}_{MLE} = \\frac{1}{N}\\sum_{n=1}^{N}(x_n-\\hat{\\mu})^2$\n",
    "\n",
    "is a biased estimator of $\\sigma^2$, i.e., show \n",
    "\n",
    "$\\mathbb{E}_{X_1,\\ldots,X_n \\sim \\mathcal{N}(\\mu, \\sigma)}[\\hat{\\sigma}^{2}_{MLE}(X_1, \\ldots, X_N)] \\neq \\sigma^2.$\n",
    "\n",
    "Hint: note that $X_1, \\ldots, X_N$ are independent, and use the fact that the expectation of a product of independent random variables is the product of the expectations."
   ]
  },
  {
   "cell_type": "markdown",
   "id": "836e5e39-4b54-4f33-ac79-a7694bafed7a",
   "metadata": {},
   "source": [
    "Changing the notation slightly, \n",
    "\n",
    "$\\hat{\\sigma}^{2}_{MLE} = \\frac{1}{N}\\sum_{i=1}^{N}(x_i-\\hat{\\mu})^2,$\n",
    "\n",
    "$\\Rightarrow \\mathbb{E}[\\hat{\\sigma}^{2}_{MLE}] = \\mathbb{E}[\\frac{1}{N}\\sum_{i=1}^{N}(x_i-\\hat{\\mu})^2]$\n",
    "\n",
    "$ = \\frac{1}{N}\\mathbb{E}[\\sum_{i=1}^{N}x_i^2 - 2\\bar{x}\\sum_{i=1}^{N}x_i + \\sum_{i=1}^{N}\\bar{x}^2]$\n",
    "\n",
    "$ = \\frac{1}{N}\\mathbb{E}[\\sum_{i=1}^{N}x_i^2 - 2\\bar{x}N\\bar{x} + N\\bar{x}^2]$\n",
    "\n",
    "$ = \\frac{1}{N}\\mathbb{E}[\\sum_{i=1}^{N}x_i^2 - N\\bar{x}^2]$\n",
    "\n",
    "$ = \\frac{1}{N}(N\\mathbb{E}[x^2] - N\\mathbb{E}[\\bar{x}^2]) = \\mathbb{E}[x^2] - \\mathbb{E}[\\bar{x}^2].$\n",
    "\n",
    "Now\n",
    "\n",
    "$ \\sigma_x^2 = \\mathbb{E}[x^2] - (\\mathbb{E}[x])^2,$ and\n",
    "\n",
    "$ \\sigma_{\\bar{x}}^2 = \\mathbb{E}[\\bar{x}^2] - (\\mathbb{E}[\\bar{x}])^2,$ \n",
    "\n",
    "so that, with $\\mathbb{E}[\\bar{x}] = \\mathbb{E}[x] = \\mu^2$, \n",
    "\n",
    "$\\hat{\\sigma}^{2}_{MLE} = (\\sigma_x^2 + \\mu^2) - (\\sigma_{\\bar{x}}^2 + \\mu^2) = \\sigma_x^2 - \\sigma_{\\bar{x}}^2.$\n",
    "\n",
    "We know that\n",
    "\n",
    "$\\sigma_{\\bar{x}}^2 = \\text{Var}[\\bar{x}] = \\text{Var}[\\frac{1}{N}\\sum_{i=1}^N x_i] = \\frac{1}{N^2}\\text{Var}[\\sum_{i=1}^N x_i] = \\frac{1}{N^2}\\sum_{i=1}^N\\text{Var}[x],$\n",
    "\n",
    "where we have used the fact that the $x_i$ are i.i.d., and that, for independent r.v.s $X_i$:\n",
    "\n",
    "$\\text{Var}[\\sum_{i=1}^N X_i] = \\sum_{i=1}^N\\text{Var}[X_i].$\n",
    "\n",
    "So $\\sigma_{\\bar{x}}^2 = \\frac{1}{N^2}\\sum_{i=1}^N \\sigma_x^2 = \\frac{1}{N} \\sigma_x^2,$\n",
    "\n",
    "and plugging in, \n",
    "\n",
    "$\\hat{\\sigma}^{2}_{MLE} = \\sigma_x^2 - \\sigma_{\\bar{x}}^2 = (1 - \\frac{1}{N})\\sigma_x^2 = \\frac{N-1}{N}\\sigma_x^2.$\n",
    "\n",
    "Hence the MLE variance estimator is not unbiased."
   ]
  },
  {
   "cell_type": "markdown",
   "id": "af0f4416-fde5-42fa-b894-da5adb00e811",
   "metadata": {},
   "source": [
    "**Exercise 4.8** [Estimation of σ2 when μ is known *]\n",
    "\n",
    "Suppose we sample $x_1, \\ldots, x_N \\sim \\mathcal{N}(\\mu, \\sigma^2)$ where $\\mu$ is a _known_ constant. Derive an expression for the MLE\n",
    "for $\\sigma^2$ in this case. Is it unbiased?"
   ]
  },
  {
   "cell_type": "markdown",
   "id": "f2a40010-8e89-480f-984a-29ed77892acb",
   "metadata": {},
   "source": [
    "In this case,\n",
    "\n",
    "$\\mathbb{E}[\\hat{\\sigma}^{2}_{MLE}] = \\mathbb{E}[\\frac{1}{N}\\sum_{i=1}^{N}(x_i-\\mu)^2]$\n",
    "\n",
    "$= \\mathbb{E}[\\frac{1}{N}\\sum_{i=1}^{N}(x_i^2 -2x_i\\mu +\\mu^2)]$\n",
    "\n",
    "$=\\frac{1}{N} \\mathbb{E}[\\sum_{i=1}^{N}x_i^2 -2\\mu\\sum_{i=1}^{N}x_i +\\sum_{i=1}^{N}\\mu^2]$\n",
    "\n",
    "$=\\frac{1}{N} (N\\mathbb{E}[x^2] -2N\\mu\\mathbb{E}[\\bar{x}] + N\\mu^2)$\n",
    "\n",
    "$= \\mathbb{E}[x^2] -2\\mu\\mathbb{E}[\\bar{x}] + \\mu^2$\n",
    "\n",
    "$= \\mathbb{E}[x^2] -2\\mu^2 + \\mu^2$\n",
    "\n",
    "$= \\mathbb{E}[x^2] - \\mu^2$\n",
    "\n",
    "$= \\mathbb{E}[x^2] - (\\mathbb{E}[x])^2 = \\sigma^2,$\n",
    "\n",
    "hence when $\\mu$ is a known constant, the MLE variance _is_ unbiased."
   ]
  },
  {
   "cell_type": "code",
   "execution_count": null,
   "id": "17dd03e7-df9a-482e-bff0-5b578579f0d2",
   "metadata": {},
   "outputs": [],
   "source": []
  }
 ],
 "metadata": {
  "kernelspec": {
   "display_name": "Python 3",
   "language": "python",
   "name": "python3"
  },
  "language_info": {
   "codemirror_mode": {
    "name": "ipython",
    "version": 3
   },
   "file_extension": ".py",
   "mimetype": "text/x-python",
   "name": "python",
   "nbconvert_exporter": "python",
   "pygments_lexer": "ipython3",
   "version": "3.6.13"
  }
 },
 "nbformat": 4,
 "nbformat_minor": 5
}
