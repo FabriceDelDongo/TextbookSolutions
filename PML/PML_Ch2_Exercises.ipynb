{
 "cells": [
  {
   "cell_type": "markdown",
   "id": "aa3f9c5b-69c2-4bb7-a146-6100baf9e3d9",
   "metadata": {},
   "source": [
    "### Probabilistic Machine Learning (Book 1)\n",
    "\n",
    "Kevin P Murphy\n",
    "\n",
    "#### Exercises, Chapter 2"
   ]
  },
  {
   "cell_type": "code",
   "execution_count": 7,
   "id": "c4a8ed65-eda4-4f66-883d-77b0c0557ba9",
   "metadata": {},
   "outputs": [],
   "source": [
    "import numpy as np\n",
    "from matplotlib import pyplot as plt"
   ]
  },
  {
   "cell_type": "markdown",
   "id": "9f35022d-7087-4703-a302-771f7c2010ed",
   "metadata": {},
   "source": [
    "**Exercise 2.1** [Conditional independence *] (Source: Koller.)\n",
    "\n",
    "a. Let H $\\in$ {1, . . . , K} be a discrete random variable, and let e1 and e2 be the observed values of two other random variables E1 and E2. Suppose we wish to calculate the vector\n",
    "\n",
    "$\\bf{P}$(H|e1,e2) = (P(H = 1|e1,e2),...,P(H = K|e1,e2))\n",
    "Which of the following sets of numbers are sufficient for the calculation? \n",
    "\n",
    "i. P(e1,e2), P(H), P(e1|H), P(e2|H)\n",
    "\n",
    "ii. P(e1,e2), P(H), P(e1,e2|H) \n",
    "\n",
    "iii. P(e1|H), P(e2|H), P(H)\n",
    "\n",
    "b. Now suppose we now assume E1 ⊥ E2|H (i.e., E1 and E2 are conditionally independent given H). Which of the above 3 sets are sufficient now?\n",
    "\n",
    "Show your calculations as well as giving the final result. Hint: use Bayes rule."
   ]
  },
  {
   "cell_type": "markdown",
   "id": "66447381-fb56-41aa-a40b-d05c21e025d1",
   "metadata": {},
   "source": [
    "(a) We can calculate the elements of the vector $\\mathbf{P}$ separately:\n",
    "\n",
    "$\\mathbf{P}(H|e_1,e_2) = (P_1, \\ldots, P_K)^T = (P(H=1|e_1,e_2), \\ldots P(H=K|e_1,e_2)),$\n",
    "\n",
    "where each element can be calculated using Bayes' Rule, as:\n",
    "\n",
    "$P_i = P(H=i|e_1,e_2) = \\frac{P(H=i, e_1, e_2)}{P(e_1, e_2)}\n",
    "                      = \\frac{P(e_1, e_2|H=i)P(H=i)}{P(e_1, e_2)}.$\n",
    "                      \n",
    "Hence the set of numbers (ii.) is what is needed to calculate the elements of $\\mathbf{P}$.\n",
    "\n",
    "(b) If $e_1, e_2$ are conditionally independent given $H$, then\n",
    "\n",
    "$P(e_1, e_2|H) = P(e_1|H)P(e_2|H),$ so that\n",
    "\n",
    "$P_i = \\frac{P(e_1|H=i)P(e_2|H=i)P(H=i)}{P(e_1, e_2)},$\n",
    "\n",
    "so that now (i.) also gives the numbers needed to calculate the vector.  The set (iii.) still does not give enough information, as the joint distribution $P(e_1, e_2)$ is needed."
   ]
  },
  {
   "cell_type": "markdown",
   "id": "cdfc9cf9-a212-437e-b7c3-bf497c57ed72",
   "metadata": {},
   "source": [
    "**Exercise 2.2** [Pairwise independence does not imply mutual independence] \n",
    "\n",
    "We say that two random variables are pairwise independent if\n",
    "\n",
    "p(X2|X1) = p(X2) and hence\n",
    "\n",
    "p(X2,X1) = p(X1)p(X2|X1) = p(X1)p(X2)\n",
    "\n",
    "We say that n random variables are mutually independent if \n",
    "\n",
    "p(Xi|XS)=p(Xi) ∀S⊆{1,...,n}\\\\{i}\n",
    "\n",
    "and hence\n",
    "\n",
    "p(X1:n) = $\\Pi_{i=1}^n$p(Xi)\n",
    "\n",
    "Show that pairwise independence between all pairs of variables does not necessarily imply mutual independence.\n",
    "\n",
    "It suffices to give a counter example."
   ]
  },
  {
   "cell_type": "markdown",
   "id": "4bfc514d-32b0-44c8-95f6-c81ae75489c0",
   "metadata": {},
   "source": [
    "To recap, if $X_1, X_2$ and $X_3$ are all pairwise independent, then\n",
    "\n",
    "$P(X_2|X_1) = P(X_2),$\n",
    "\n",
    "$P(X_3|X_1) = P(X_3),$\n",
    "\n",
    "$P(X_3|X_2) = P(X_3),$\n",
    "\n",
    "$P(X_1|X_2) = P(X_1),$\n",
    "\n",
    "$P(X_1|X_3) = P(X_1).$\n",
    "\n",
    "If the rvs were mutually independent then we would also have:\n",
    "\n",
    "$P(X_1|X_2,X_3) = P(X_1),$ etc., so that the joint distribution would be the product of the marginals.\n",
    "\n",
    "In general,\n",
    "\n",
    "$P(X_1, X_2, X_3) = P(X_1|X_2, X_3)P(X_2, X_3) = P(X_1|X_2, X_3)P(X_2|X_3)P(X_3),$\n",
    "\n",
    "which reduces to \n",
    "\n",
    "$P(X_1, X_2, X_3) = P(X_1| X_2, X_3)P(X_2)P(X_3)$\n",
    "\n",
    "for the pairwise independent case.\n",
    "\n",
    "But only for the mutually independent case do we have $P(X_1| X_2, X_3) = P(X_1)$ which allows the distributions to fully factorize."
   ]
  },
  {
   "cell_type": "markdown",
   "id": "ca511db8-2903-457e-b6e3-570c9060e45f",
   "metadata": {},
   "source": [
    "**Exercise 2.3** [Conditional independence iff joint factorizes *]\n",
    "\n",
    "In the text we said X ⊥ Y |Z iff\n",
    "p(x, y|z) = p(x|z)p(y|z) (2.184)\n",
    "for all x, y, z such that p(z) > 0. \n",
    "\n",
    "Now prove the following alternative definition: X ⊥ Y |Z iff there exist functions g and h such that\n",
    "p(x, y|z) = g(x, z)h(y, z)\n",
    "for all x,y,z such that p(z) > 0."
   ]
  },
  {
   "cell_type": "markdown",
   "id": "97290544-4573-410a-817c-afc47fefcec5",
   "metadata": {},
   "source": [
    "Since we have that\n",
    "\n",
    "$p(x,y|z)=p(x|z)p(y|z),$\n",
    "\n",
    "it is necessary only to show that\n",
    "\n",
    "$g(x,z)h(y,z)=p(x|z)p(y|z).$\n",
    "\n",
    "Integrating wrt $x$,\n",
    "\n",
    "$\\int_{x\\in\\mathcal{X}}p(x,y|z)dx = \\int_{x\\in\\mathcal{X}}g(x,z)h(y,z)dx\n",
    "= h(y,z)\\int_{x\\in\\mathcal{X}}g(x,z)dx,$\n",
    "\n",
    "so that\n",
    "\n",
    "$p(y|z) = h(y,z)\\nu(z),$\n",
    "\n",
    "and by a symmetrical argument, integrating wrt $y$,\n",
    "\n",
    "$p(x|z) = g(x,z)\\eta(z),$ so that\n",
    "\n",
    "$\\nu(z)\\eta(z)g(x,z)h(y,z)=p(x|z)p(y|z).$\n",
    "\n",
    "In order to show that $\\nu(z)\\eta(z)$ must equal unity, we use the fact that $\\int_{x\\in\\mathcal{X}}\\int_{y\\in\\mathcal{Y}}p(x,y|z)dxdy=1$, and see that\n",
    "\n",
    "$1 = \\int_{x\\in\\mathcal{X}}\\int_{y\\in\\mathcal{Y}}p(x,y|z)dxdy\n",
    "   = \\int_{x\\in\\mathcal{X}}\\int_{y\\in\\mathcal{Y}}p(x|z)p(y|z)dxdy$ \n",
    "   \n",
    "so that, from the above,\n",
    "\n",
    "$1 = \\int_{x\\in\\mathcal{X}}\\int_{y\\in\\mathcal{Y}}g(x,z)h(y,z)\\nu(z)\\eta(z)dxdy.$\n",
    "\n",
    "Now, iff there are functions $g$ and $h$ such that\n",
    "\n",
    "$p(x,y|z)=g(x,z)h(y,z),$\n",
    "\n",
    "then we have\n",
    "\n",
    "$1 = \\nu(z)\\eta(z)\\int_{x\\in\\mathcal{X}}\\int_{y\\in\\mathcal{Y}}g(x,z)h(y,z)dxdy\n",
    "   = \\int_{x\\in\\mathcal{X}}\\int_{y\\in\\mathcal{Y}}g(x,z)h(y,z)dxdy,$\n",
    "   \n",
    "so that $\\nu(z)\\eta(z)=1$, and bringing it together, we have\n",
    "\n",
    "$1 = \\int_{x\\in\\mathcal{X}}\\int_{y\\in\\mathcal{Y}}g(x,z)h(y,z)dxdy\n",
    "   = \\int_{x\\in\\mathcal{X}}\\int_{y\\in\\mathcal{Y}}p(x|z)p(y|z)dxdy,$\n",
    "   \n",
    "   and we have\n",
    "   \n",
    "   $g(x,z)h(y,z) = p(x|z)p(y|z)$\n",
    "   \n",
    "   as required."
   ]
  },
  {
   "cell_type": "markdown",
   "id": "f8710591-16d9-4a84-924e-4cd472c283ed",
   "metadata": {},
   "source": [
    "**Exercise 2.4** [Convolution of two Gaussians is a Gaussian] \n",
    "\n",
    "Show that the convolution of two Gaussians is a Gaussian, i.e.,\n",
    "\n",
    "p(y)=N(x1|μ1,σ12)⊗N(x2|μ2,σ2)=N(y|μ1 +μ2,σ12 +σ2) \n",
    "\n",
    "where y = x1 + x2, x1 ∼ N(μ1,σ12) and x2 ∼ N(μ2,σ2).\n",
    "\n",
    "This can be shown using Equation (2.170) and involves algebra and completing the square (see e.g., https://en.wikipedia.org/wiki/Sum_of_normally_distributed_random_variables#Proof_using_convolutions)."
   ]
  },
  {
   "cell_type": "markdown",
   "id": "ecca1bc6-e26c-4ef9-9799-41c96592dc2b",
   "metadata": {},
   "source": [
    "**Exercise 2.5** [Expected value of the minimum of two rv’s *]\n",
    "\n",
    "Suppose X, Y are two points sampled independently and uniformly at random from the interval [0, 1]. \n",
    "\n",
    "What is the expected location of the leftmost point?"
   ]
  },
  {
   "cell_type": "code",
   "execution_count": 15,
   "id": "8860e724-8172-432f-827b-8c8ab9f6f247",
   "metadata": {},
   "outputs": [],
   "source": [
    "x = np.random.uniform(0, 1, size=5000)\n",
    "y = np.random.uniform(0, 1, size=5000)\n",
    "z = [min(x[ii], y[ii]) for ii in range(len(x))]"
   ]
  },
  {
   "cell_type": "code",
   "execution_count": 16,
   "id": "5173eea0-acab-4599-964c-cc7c8cf2e682",
   "metadata": {},
   "outputs": [
    {
     "data": {
      "text/plain": [
       "(array([1.99123579, 1.86049808, 1.85546971, 1.58393756, 1.70964689,\n",
       "        1.42805799, 1.54873895, 1.44314311, 1.19172445, 1.14646909,\n",
       "        1.2570933 , 1.09618536, 0.99058952, 0.9755044 , 0.85482344,\n",
       "        0.8447667 , 0.65871689, 0.60843316, 0.5631778 , 0.50786569,\n",
       "        0.34695775, 0.27656053, 0.23130517, 0.12570933, 0.04525536]),\n",
       " array([5.41576548e-05, 3.98284528e-02, 7.96027480e-02, 1.19377043e-01,\n",
       "        1.59151338e-01, 1.98925634e-01, 2.38699929e-01, 2.78474224e-01,\n",
       "        3.18248519e-01, 3.58022814e-01, 3.97797110e-01, 4.37571405e-01,\n",
       "        4.77345700e-01, 5.17119995e-01, 5.56894290e-01, 5.96668586e-01,\n",
       "        6.36442881e-01, 6.76217176e-01, 7.15991471e-01, 7.55765766e-01,\n",
       "        7.95540062e-01, 8.35314357e-01, 8.75088652e-01, 9.14862947e-01,\n",
       "        9.54637242e-01, 9.94411537e-01]),\n",
       " <a list of 25 Patch objects>)"
      ]
     },
     "execution_count": 16,
     "metadata": {},
     "output_type": "execute_result"
    },
    {
     "data": {
      "image/png": "[encoded data removed]",
      "text/plain": [
       "<Figure size 432x288 with 1 Axes>"
      ]
     },
     "metadata": {
      "needs_background": "light"
     },
     "output_type": "display_data"
    }
   ],
   "source": [
    "plt.hist(z, bins=25, density=True)"
   ]
  },
  {
   "cell_type": "markdown",
   "id": "f9d36834-3539-4161-a4d5-423c18ede98e",
   "metadata": {},
   "source": [
    "The distribution of the leftmost of the two rvs looks like:\n",
    "\n",
    "$p(z) = 2(1-z)$"
   ]
  },
  {
   "cell_type": "code",
   "execution_count": 23,
   "id": "e010b266-1ea6-4af7-9e6a-a6b186ad6f8b",
   "metadata": {},
   "outputs": [],
   "source": [
    "zz = np.linspace(0, 1, 1000)\n",
    "pz = 2*(1-zz)"
   ]
  },
  {
   "cell_type": "code",
   "execution_count": 25,
   "id": "f9dea678-64af-4b15-802e-924e533a2534",
   "metadata": {},
   "outputs": [
    {
     "data": {
      "text/plain": [
       "[<matplotlib.lines.Line2D at 0x7f862b9e1320>]"
      ]
     },
     "execution_count": 25,
     "metadata": {},
     "output_type": "execute_result"
    },
    {
     "data": {
      "image/png": "[encoded data removed]",
      "text/plain": [
       "<Figure size 432x288 with 1 Axes>"
      ]
     },
     "metadata": {
      "needs_background": "light"
     },
     "output_type": "display_data"
    }
   ],
   "source": [
    "plt.plot(zz, pz)"
   ]
  },
  {
   "cell_type": "markdown",
   "id": "643b9cdb-6249-47db-8958-370d81cd7d1b",
   "metadata": {},
   "source": [
    "This has an expectation\n",
    "\n",
    "$E[Z] = \\int_0^1zp(z)dz = \\int_0^1 2z - 2z^2 dz$\n",
    "\n",
    "$= \\int_0^1 2z dz - \\int_0^1 2z^2 dz$\n",
    "\n",
    "$=z^2\\Big|_0^1 - \\frac{2}{3}z^3\\Big|_0^1 = 1/3.$"
   ]
  },
  {
   "cell_type": "markdown",
   "id": "a1deb65e-4616-46d5-a704-ea37a7eb10b0",
   "metadata": {},
   "source": [
    "**Exercise 2.6** [Variance of a sum] \n",
    "\n",
    "Show that the variance of a sum is\n",
    "\n",
    "V[X +Y] = V[X]+V[Y]+2Cov[X,Y],\n",
    "\n",
    "where Cov [X, Y ] is the covariance between X and Y."
   ]
  },
  {
   "cell_type": "markdown",
   "id": "946178bd-4fe6-45cf-8776-96abeb8a048e",
   "metadata": {},
   "source": [
    "We have \n",
    "\n",
    "$V[X] = E[X^2] + (E[X])^2$ \n",
    "\n",
    "and \n",
    "\n",
    "$\\text{Cov}[XY] = E[XY] - E[X]E[Y].$\n",
    "\n",
    "So, using the definition of variance,\n",
    "\n",
    "$V[X+Y] = E[((X+Y) - E[X+Y])^2]\n",
    "= E[(X+Y-E[X]-E[Y])^2]\n",
    "=E[(X+Y-\\mu_X-\\mu_Y)^2]$\n",
    "\n",
    "$=E[X^2 + XY - X\\mu_X - X\\mu_Y\n",
    "  +Y^2 + XY - Y\\mu_X - Y\\mu_Y\n",
    "  +X\\mu_X - Y\\mu_Y + \\mu_X^2 + \\mu_X\\mu_Y\n",
    "  -X\\mu_Y - Y\\mu_Y + \\mu_X\\mu_Y + \\mu_Y^2]$\n",
    "  \n",
    "$=E[X^2] + E[Y^2] + 2E[XY] -2\\mu_X^2 - 4\\mu_X\\mu_Y - 2\\mu_Y^2 + \\mu_X^2 + \\mu_Y^2 + 2\\mu_X\\mu_Y$\n",
    "\n",
    "$=2(E[XY]-E[X]E[Y]) + E[X^2] + E[Y^2] - (E[X])^2 - (E[Y])^2$\n",
    "\n",
    "$=V[X] + V[Y] + 2\\text{Cov}[XY]$"
   ]
  },
  {
   "cell_type": "markdown",
   "id": "1e6e285f-c3b0-4ad1-8473-e24c1d2b0f66",
   "metadata": {},
   "source": [
    "**Exercise 2.7** [Deriving the inverse gamma density *]\n",
    "\n",
    "Let X ∼ Ga(a, b), and Y = 1/X . Derive the distribution of Y ."
   ]
  },
  {
   "cell_type": "markdown",
   "id": "2d475bbb-2752-4d5b-85d0-1df3db32edd8",
   "metadata": {},
   "source": [
    "$X \\sim \\text{Ga}(a, b) = \\frac{b^a}{\\Gamma(a)}x^{a-1}e^{-xb}.$\n",
    "\n",
    "For the distribution $Y \\sim 1/X,$ we have:\n",
    "\n",
    "$p_y(y) = p_x(g(y))\\left|\\frac{d(g(y))}{dy}\\right|,$\n",
    "\n",
    "where \n",
    "\n",
    "$g(y) = 1/y$ so that $p_x(g(y)) = \\frac{b^a}{\\Gamma(a)}(1/y)^{a-1}e^{-(1/y)b}.$\n",
    "\n",
    "The derivative\n",
    "\n",
    "$\\frac{d}{dy}[y^{-1}] = -y^{-2},$\n",
    "\n",
    "so that\n",
    "\n",
    "$p_y(y) = |-y^{-2}|\\frac{b^a}{\\Gamma(a)}(1/y)^{a-1}e^{-(1/y)b}\n",
    "        = y^{-2}\\frac{b^a}{\\Gamma(a)}y^{-(a-1)}e^{-b/y}\n",
    "        = \\frac{b^a}{\\Gamma(a)}y^{-(a-1+2)}e^{-b/y}\n",
    "        = \\frac{b^a}{\\Gamma(a)}y^{-(a+1)}e^{-b/y}\n",
    "        = \\text{IG}(y|a, b).$"
   ]
  },
  {
   "cell_type": "markdown",
   "id": "8583c90f-cbba-4d70-9932-41fa07b8d781",
   "metadata": {},
   "source": [
    "**Exercise 2.8** [Mean, mode, variance for the beta distribution]\n",
    "\n",
    "Suppose θ ∼ Beta(a, b). Show that the mean, mode and variance are given by\n",
    "\n",
    "$E[\\theta] = \\frac{a}{a+b}$\n",
    "\n",
    "$V[\\theta] = \\frac{ab}{(a+b)^2(a+b+1)}$\n",
    "\n",
    "$\\text{mode}[\\theta] = \\frac{a-1}{a+b-2}$"
   ]
  },
  {
   "cell_type": "markdown",
   "id": "9cddc619-b473-43c4-86f7-3f66e23fbad6",
   "metadata": {},
   "source": [
    "Since\n",
    "\n",
    "$\\text{Beta}(\\theta|a, b) = \\frac{1}{B(a,b)}\\theta^{a-1}(1-\\theta)^{b-1},$\n",
    "\n",
    "$E[\\theta] = \\int \\theta\\text{Beta}(\\theta|a, b) d\\theta$\n",
    "\n",
    "$= \\int \\theta\\frac{1}{B(a,b)}\\theta^{a-1}(1-\\theta)^{b-1} d\\theta$\n",
    "\n",
    "$= \\frac{1}{B(a,b)} \\int \\theta^{a}(1-\\theta)^{b-1} d\\theta$"
   ]
  },
  {
   "cell_type": "markdown",
   "id": "b4c41f4e-6613-42b0-8a4c-44e31441a690",
   "metadata": {},
   "source": [
    "**Exercise 2.10** [Legal reasoning]\n",
    "\n",
    "(Source: Peter Lee.) Suppose a crime has been committed. Blood is found at the scene for which there is no\n",
    "innocent explanation. It is of a type which is present in 1% of the population.\n",
    "\n",
    "a. The prosecutor claims: “There is a 1% chance that the defendant would have the crime blood type if he were innocent. Thus there is a 99% chance that he is guilty”. This is known as the prosecutor’s fallacy. What is wrong with this argument?\n",
    "\n",
    "b. The defender claims: “The crime occurred in a city of 800,000 people. The blood type would be found in approximately 8000 people. The evidence has provided a probability of just 1 in 8000 that the defendant is guilty, and thus has no relevance.” This is known as the defender’s fallacy. What is wrong with this argument?"
   ]
  },
  {
   "cell_type": "markdown",
   "id": "63dee509-9da0-4f40-a623-5c47e5a80448",
   "metadata": {},
   "source": [
    "a. This is confusing the probability that the defendant has the rare blood type with the probability that he is guilty.  This reasoning is obviously bad, as it should be equally applied to _anyone_ of the rare blood type.  It is not logically possible for everyone with the rare blood type to have a 99% probability of having committed the crime.\n",
    "\n",
    "b. This is making an unjustified assumption that the probability of guilt is uniformly distributed over the population with the rare blood type."
   ]
  },
  {
   "cell_type": "markdown",
   "id": "848438a6-841e-441e-a74a-c6854194eb2e",
   "metadata": {},
   "source": [
    "**Exercise 2.11** [Probabilities are sensitive to the form of the question that was used to generate the answer *]\n",
    "\n",
    "(Source: Minka.) My neighbor has two children. Assuming that the gender of a child is like a coin flip, it is most likely, a priori, that my neighbor has one boy and one girl, with probability 1/2. The other possibilities—two boys or two girls—have probabilities 1/4 and 1/4.\n",
    "\n",
    "a. Suppose I ask him whether he has any boys, and he says yes. What is the probability that one child is a girl?\n",
    "\n",
    "b. Suppose instead that I happen to see one of his children run by, and it is a boy. What is the probability that the other child is a girl?"
   ]
  },
  {
   "cell_type": "markdown",
   "id": "2f4a3dbf-e3ee-4818-859e-da490ba1f1cb",
   "metadata": {},
   "source": [
    "Originally the probability distribution looks like:\n",
    "    \n",
    "|   |BB |BG |GB | GG|\n",
    "|---|---|---|---|---|\n",
    "|   |.25|.25|.25|.25|\n",
    "\n",
    "a. We now know that he has at least one boy, so the updated distribution (without the possibility of two girls) reflecting this looks like:\n",
    "\n",
    "|   |BB |BG |GB | GG|\n",
    "|---|---|---|---|---|\n",
    "|   |.33|.33|.33|0.0|\n",
    "\n",
    "The probability of at least one child being a girl is then 0.33 + 0.33 = 0.66.\n",
    "\n",
    "b. If instead we happen to see one child, a boy, the probability that the other child is the probability of a child being a girl, i.e., 0.50.  Going back to the original distribution, we can say that we saw \"child \\#1,\" i.e., the first letter of each of the column titles.  The updated distribution (with child \\#1 a boy) then looks like:\n",
    "\n",
    "|   |BB |BG |GB | GG|\n",
    "|---|---|---|---|---|\n",
    "|   |.50|.50|0.0|0.0|\n",
    "\n",
    "Of course, we could instead say that we had seen \"child \\#2\" and the result would remain the same with a different distribution:\n",
    "\n",
    "|   |BB |BG |GB | GG|\n",
    "|---|---|---|---|---|\n",
    "|   |.50|0.0|.50|0.0|"
   ]
  },
  {
   "cell_type": "markdown",
   "id": "7cf427c5-a9ad-4e21-92e2-192d027eb4db",
   "metadata": {},
   "source": [
    "**Exercise 2.12** [Normalization constant for a 1D Gaussian]\n",
    "\n",
    "The normalization constant for a zero-mean Gaussian is given by\n",
    "\n",
    "$Z = \\int_a^b \\exp \\left(-\\frac{x^2}{2\\sigma^2}\\right)dx$\n",
    "\n",
    "where a = −∞ and b = ∞. To compute this, consider its square\n",
    "\n",
    "$Z^2 = \\int_a^b\\int_a^b \\exp \\left(-\\frac{x^2+y^2}{2\\sigma^2}\\right)dxdy$\n",
    "\n",
    "Let us change variables from cartesian (x, y) to polar (r, θ) using x=r cos θ and y=r sin θ.\n",
    "\n",
    "Since $dxdy = rdrd\\theta$ and $\\cos^2\\theta+\\sin^2\\theta=1$, we have\n",
    "\n",
    "$Z^2 = \\int_0^{2\\pi}\\int_0^{\\infty} r \\exp \\left(-\\frac{r^2}{2\\sigma^2}\\right)drd\\theta$\n",
    "\n",
    "Evaluate this integral and show\n",
    "\n",
    "$Z = \\sqrt{\\sigma^2 2 \\pi}.$"
   ]
  },
  {
   "cell_type": "markdown",
   "id": "6598a6d8-68cd-49e0-a0f1-da3630f6261c",
   "metadata": {},
   "source": [
    "Separating the integral into two parts:\n",
    "\n",
    "$Z^2 = \\int_0^{2\\pi}\\int_0^{\\infty} r \\exp \\left(-\\frac{r^2}{2\\sigma^2}\\right)drd\\theta\n",
    "= \\int_0^{\\infty} r \\exp \\left(-\\frac{r^2}{2\\sigma^2}\\right)dr \\int_0^{2\\pi} d\\theta\n",
    ",$\n",
    "\n",
    "we have that \n",
    "\n",
    "$Z^2 = 2\\pi \\int_0^{\\infty} r \\exp \\left(-\\frac{r^2}{2\\sigma^2}\\right)dr.$\n",
    "\n",
    "We also see (using the chain rule) that\n",
    "\n",
    "$\\frac{d}{dr} \\exp \\left(-\\frac{r^2}{2\\sigma^2}\\right) = -\\frac{r}{\\sigma^2}\\exp \\left(-\\frac{r^2}{2\\sigma^2}\\right),$\n",
    "\n",
    "so that\n",
    "\n",
    "$r \\exp \\left(-\\frac{r^2}{2\\sigma^2}\\right) = -\\sigma^2 \\frac{d}{dr} \\exp \\left(-\\frac{r^2}{2\\sigma^2}\\right).$\n",
    "\n",
    "This gives us that \n",
    "\n",
    "$Z^2 = - 2\\pi\\sigma^2 \\int_0^{\\infty}\\frac{d}{dr} \\exp \\left(-\\frac{r^2}{2\\sigma^2}\\right) dr \n",
    "= - 2\\pi\\sigma^2 \\exp \\left(-\\frac{r^2}{2\\sigma^2}\\right)\\Big|_{r=0}^{r=\\infty},$\n",
    "\n",
    "since \n",
    "\n",
    "$\\int \\frac{df(z)}{dz} dz = f(z).$\n",
    "\n",
    "Evaluating the integral:\n",
    "\n",
    "$\\exp \\left(-\\frac{r^2}{2\\sigma^2}\\right)\\Big|_{r=0}^{r=\\infty} = [0 - 1] = -1,$\n",
    "\n",
    "giving\n",
    "\n",
    "$Z^2 = 2\\pi\\sigma^2$ and $Z = \\sqrt{2\\pi\\sigma^2}.$"
   ]
  },
  {
   "cell_type": "code",
   "execution_count": null,
   "id": "20f0c7e8-0acb-4dd2-a4c8-f23ef81d50cf",
   "metadata": {},
   "outputs": [],
   "source": []
  }
 ],
 "metadata": {
  "kernelspec": {
   "display_name": "Python 3",
   "language": "python",
   "name": "python3"
  },
  "language_info": {
   "codemirror_mode": {
    "name": "ipython",
    "version": 3
   },
   "file_extension": ".py",
   "mimetype": "text/x-python",
   "name": "python",
   "nbconvert_exporter": "python",
   "pygments_lexer": "ipython3",
   "version": "3.6.13"
  }
 },
 "nbformat": 4,
 "nbformat_minor": 5
}
