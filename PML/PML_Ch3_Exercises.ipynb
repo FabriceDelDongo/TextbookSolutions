{
 "cells": [
  {
   "cell_type": "markdown",
   "id": "a5d9e526-b938-4ad1-b442-4871a6065663",
   "metadata": {},
   "source": [
    "### Probabilistic Machine Learning (Book 1)\n",
    "\n",
    "Kevin P Murphy\n",
    "\n",
    "#### Exercises, Chapter 3"
   ]
  },
  {
   "cell_type": "code",
   "execution_count": 147,
   "id": "d740464f-37e6-4dfe-8022-68023a46060d",
   "metadata": {},
   "outputs": [],
   "source": [
    "import numpy as np\n",
    "from matplotlib import pyplot as plt\n",
    "from scipy.stats import multivariate_normal"
   ]
  },
  {
   "cell_type": "markdown",
   "id": "ea4d37b1-b97f-47f6-9574-f27e9956d1f2",
   "metadata": {},
   "source": [
    "**Exercise 3.1** [Uncorrelated does not imply independent *]\n",
    "\n",
    "Let $X \\sim U(−1,1)$ and $Y = X^2$. \n",
    "\n",
    "Clearly $Y$ is dependent on $X$ (in fact, $Y$ is uniquely determined by $X$).\n",
    "\n",
    "However, show that $\\rho(X,Y ) = 0$. \n",
    "\n",
    "Hint: if $X \\sim U(a,b)$ then $E[X] = (a + b)/2$ and $V[X] = (b − a)^2/12$. "
   ]
  },
  {
   "cell_type": "markdown",
   "id": "68e625ff-975b-41ac-8bea-f0ac25f54ef7",
   "metadata": {},
   "source": [
    "We know that\n",
    "\n",
    "$\\rho(X, Y) = \\frac{\\text{Cov}[X, Y]}{\\sqrt{V[X]V[Y]}}.$\n",
    "\n",
    "Since the denominator in the above consists of the product of square roots of two variances, which are greater than equal to zero by definition (with the equality holding only for a point mass), it suffices to show that the numerator is equal to zero.\n",
    "\n",
    "The covariance is defined as:\n",
    "\n",
    "$\\text{Cov}[X, Y] = E[(X - E[X])(Y - E[Y])].$\n",
    "\n",
    "We know from the hint, that\n",
    "\n",
    "$E[X] = (-1 + 1)/2 = 0,$ and\n",
    "\n",
    "$V[X] = (1 - (-1))^2/12 = 4/12 = 1/3.$\n",
    "\n",
    "We also have that\n",
    "\n",
    "$V[X] = E[(X-E[X])(X-E[X])] = E[X^2] - (E[X])^2 = E[X^2] = E[Y],$\n",
    "\n",
    "so that\n",
    "\n",
    "$\\text{Cov}[X, Y] = E[(X)(Y - V[X])] = E[XY - XV[X]] = E[XY] - E[XV[X]].$\n",
    "\n",
    "Since we know that $V[X] = 1/3,$ this becomes\n",
    "\n",
    "$\\text{Cov}[X, Y] = E[(X)(Y - V[X])] = E[XY - XV[X]] = E[XY] - \\frac{1}{3}E[X] = E[XY].$\n",
    "\n",
    "And\n",
    "\n",
    "$E[XY] = E[X^3] = 0,$\n",
    "\n",
    "since this is symmetric around 0, and hence $\\text{Cov}[X, Y] = 0$ and so $\\rho(X, Y) = 0.$\n",
    "\n",
    "We can see that this is true only for the case that $X$ is symmetric around $0$ by shifting the distribution:"
   ]
  },
  {
   "cell_type": "markdown",
   "id": "ba8e8809-ba1e-40b1-a54d-4b0cae580db9",
   "metadata": {},
   "source": [
    "### Original Distribution\n",
    "\n",
    "$X \\sim U(−1,1)$ and $Y = X^2$\n",
    "\n",
    "Simulate 2,000 values of both $X$ and $Y$:"
   ]
  },
  {
   "cell_type": "code",
   "execution_count": 3,
   "id": "60b2595f-1cd8-4e0b-b79a-ea389b367be1",
   "metadata": {},
   "outputs": [],
   "source": [
    "Xs = np.random.uniform(-1, 1, size=2000)"
   ]
  },
  {
   "cell_type": "code",
   "execution_count": 5,
   "id": "81f3acbf-6699-4006-a4f7-bb9cc8a194ae",
   "metadata": {},
   "outputs": [],
   "source": [
    "Ys = np.square(Xs)"
   ]
  },
  {
   "cell_type": "code",
   "execution_count": 11,
   "id": "6f4732fe-46e5-4665-a8dd-de21fd141f79",
   "metadata": {},
   "outputs": [
    {
     "data": {
      "text/plain": [
       "(array([3.15741458, 1.15088012, 0.865662  , 0.74557016, 0.80061226,\n",
       "        0.75557782, 0.76058164, 0.6404898 , 0.57043623, 0.56042858]),\n",
       " array([3.71839674e-07, 9.99238984e-02, 1.99847425e-01, 2.99770951e-01,\n",
       "        3.99694478e-01, 4.99618004e-01, 5.99541531e-01, 6.99465057e-01,\n",
       "        7.99388584e-01, 8.99312110e-01, 9.99235637e-01]),\n",
       " <a list of 10 Patch objects>)"
      ]
     },
     "execution_count": 11,
     "metadata": {},
     "output_type": "execute_result"
    },
    {
     "data": {
      "image/png": "[encoded data removed]",
      "text/plain": [
       "<Figure size 432x288 with 2 Axes>"
      ]
     },
     "metadata": {
      "needs_background": "light"
     },
     "output_type": "display_data"
    }
   ],
   "source": [
    "fig, ax = plt.subplots(1, 2, sharey=True)\n",
    "ax[0].hist(Xs, density=True)\n",
    "ax[1].hist(Ys, density=True)"
   ]
  },
  {
   "cell_type": "markdown",
   "id": "87786fc5-c5d3-41ba-89c0-b41362f64e7f",
   "metadata": {},
   "source": [
    "These densitities look as expected.  What are the mean and variance in each case?"
   ]
  },
  {
   "cell_type": "code",
   "execution_count": 15,
   "id": "874cd3b4-15fe-4f05-b6ea-c8fb03a2840a",
   "metadata": {},
   "outputs": [
    {
     "name": "stdout",
     "output_type": "stream",
     "text": [
      "X has mean -0.02 and variance 0.35\n"
     ]
    }
   ],
   "source": [
    "print(f\"X has mean {Xs.mean():.2f} and variance {Xs.var():.2f}\")"
   ]
  },
  {
   "cell_type": "markdown",
   "id": "80e169e6-c1df-4fa0-abbe-cc96298c06e7",
   "metadata": {},
   "source": [
    "These are close to the analytical values of 0 and 1/3."
   ]
  },
  {
   "cell_type": "code",
   "execution_count": 19,
   "id": "8afa7e30-d0c4-47c7-8f95-d4b12b220dac",
   "metadata": {},
   "outputs": [
    {
     "name": "stdout",
     "output_type": "stream",
     "text": [
      "Y has mean 0.35 and variance 0.09\n"
     ]
    }
   ],
   "source": [
    "print(f\"Y has mean {Ys.mean():.2f} and variance {Ys.var():.2f}\")"
   ]
  },
  {
   "cell_type": "markdown",
   "id": "a3b783fb-1d83-4a74-8afd-013c387e92f4",
   "metadata": {},
   "source": [
    "The expectation of $Y$ is equal to the variance of $X$.  This makes sense as:\n",
    "\n",
    "$E[Y] = E[X^2] = V[X] + (E[X])^2 = V[X] + 0$"
   ]
  },
  {
   "cell_type": "code",
   "execution_count": 20,
   "id": "e959f8f8-5958-4365-b9c5-8f663ec29d2c",
   "metadata": {},
   "outputs": [
    {
     "data": {
      "text/plain": [
       "array([[ 0.34998283, -0.00509284],\n",
       "       [-0.00509284,  0.0931631 ]])"
      ]
     },
     "execution_count": 20,
     "metadata": {},
     "output_type": "execute_result"
    }
   ],
   "source": [
    "np.cov(Xs, Ys)"
   ]
  },
  {
   "cell_type": "markdown",
   "id": "ddc5d7d7-4b9e-4b05-8579-b59ba4417e99",
   "metadata": {},
   "source": [
    "The diagonal elements of the above matrix are the variances of $X$ and $Y$, and the off-diagonal elements are $\\sigma_1\\sigma_2 = \\sigma_2\\sigma_1.$\n",
    "\n",
    "We see that, as expected, these latter are $0$, so that the numerator of the ratio that defines the correlation is $0$, so we have $\\rho=0.$\n",
    "\n",
    "But what about the shifted case, where the expectation of the uniform distribution will _not_ be zero?\n",
    "\n",
    "### Shifted Distribution"
   ]
  },
  {
   "cell_type": "code",
   "execution_count": 24,
   "id": "6782d329-5d56-442d-8752-76f6bf1838f0",
   "metadata": {},
   "outputs": [],
   "source": [
    "Xs = np.random.uniform(9, 11, size=2000) # add 10 to the original distribution"
   ]
  },
  {
   "cell_type": "code",
   "execution_count": 25,
   "id": "6e00dce4-4c80-40d1-8401-1f0f7f38c084",
   "metadata": {},
   "outputs": [],
   "source": [
    "Ys = np.square(Xs)"
   ]
  },
  {
   "cell_type": "code",
   "execution_count": 26,
   "id": "3e8351e9-208b-409c-b6d5-8ac8fb46d89d",
   "metadata": {},
   "outputs": [
    {
     "data": {
      "text/plain": [
       "(array([0.02801929, 0.0287698 , 0.02576774, 0.02551756, 0.0233911 ,\n",
       "        0.02489213, 0.02839454, 0.02264058, 0.02189007, 0.02088938]),\n",
       " array([ 81.00015507,  84.99740186,  88.99464865,  92.99189544,\n",
       "         96.98914223, 100.98638902, 104.98363581, 108.9808826 ,\n",
       "        112.97812939, 116.97537618, 120.97262297]),\n",
       " <a list of 10 Patch objects>)"
      ]
     },
     "execution_count": 26,
     "metadata": {},
     "output_type": "execute_result"
    },
    {
     "data": {
      "image/png": "[encoded data removed]",
      "text/plain": [
       "<Figure size 432x288 with 2 Axes>"
      ]
     },
     "metadata": {
      "needs_background": "light"
     },
     "output_type": "display_data"
    }
   ],
   "source": [
    "fig, ax = plt.subplots(1, 2, sharey=True)\n",
    "ax[0].hist(Xs, density=True)\n",
    "ax[1].hist(Ys, density=True)"
   ]
  },
  {
   "cell_type": "markdown",
   "id": "c15642cd-10dd-4344-975b-893315e31058",
   "metadata": {},
   "source": [
    "Now both distributions look uniform in character.  What are the mean and variance in each case?"
   ]
  },
  {
   "cell_type": "code",
   "execution_count": 27,
   "id": "3dd5d99c-f0ca-4a73-9ce9-102be43a06b2",
   "metadata": {},
   "outputs": [
    {
     "name": "stdout",
     "output_type": "stream",
     "text": [
      "X has mean 9.99 and variance 0.33\n"
     ]
    }
   ],
   "source": [
    "print(f\"X has mean {Xs.mean():.2f} and variance {Xs.var():.2f}\")"
   ]
  },
  {
   "cell_type": "markdown",
   "id": "5d264c66-033d-4fc2-a975-dca8af9af844",
   "metadata": {},
   "source": [
    "These are close to the analytical values of $(9+11)/2 = 10$ and 1/3."
   ]
  },
  {
   "cell_type": "code",
   "execution_count": 28,
   "id": "37cd3009-1997-4768-9052-cfc140497014",
   "metadata": {},
   "outputs": [
    {
     "name": "stdout",
     "output_type": "stream",
     "text": [
      "Y has mean 100.06 and variance 131.03\n"
     ]
    }
   ],
   "source": [
    "print(f\"Y has mean {Ys.mean():.2f} and variance {Ys.var():.2f}\")"
   ]
  },
  {
   "cell_type": "markdown",
   "id": "2d63cbdb-4e60-4ce2-ac9e-eeb55f190439",
   "metadata": {},
   "source": [
    "$Y$ now acts like a uniform distribution with parameters $9^2=81$ and $11^2=121,$ which would have expectation $(81+121)/2 = 101$ and variance $(121-81)^2/12$."
   ]
  },
  {
   "cell_type": "code",
   "execution_count": 31,
   "id": "c3eac4d5-dc85-4aed-86ed-678526d39d6f",
   "metadata": {},
   "outputs": [
    {
     "data": {
      "text/plain": [
       "array([[  0.32833397,   6.55852752],\n",
       "       [  6.55852752, 131.09479795]])"
      ]
     },
     "execution_count": 31,
     "metadata": {},
     "output_type": "execute_result"
    }
   ],
   "source": [
    "np.cov(Xs, Ys)"
   ]
  },
  {
   "cell_type": "markdown",
   "id": "30188c10-4ab7-4a46-a4ad-64cef75932e0",
   "metadata": {},
   "source": [
    "The off-diagonal elements of the covariance matrix are no longer 0, so the variables _are_ correlated in this case, with a correlation given by:"
   ]
  },
  {
   "cell_type": "code",
   "execution_count": 34,
   "id": "03070333-1b51-4900-b40f-a21da0cfee98",
   "metadata": {},
   "outputs": [
    {
     "data": {
      "text/plain": [
       "1.0001678888983798"
      ]
     },
     "execution_count": 34,
     "metadata": {},
     "output_type": "execute_result"
    }
   ],
   "source": [
    "np.cov(Xs, Ys)[0, 1] / np.sqrt(Xs.var() * Ys.var())"
   ]
  },
  {
   "cell_type": "markdown",
   "id": "e6240012-42cb-4c50-8126-f58a0dca099c",
   "metadata": {},
   "source": [
    "I.e., they are linearly related to one another; it is only if the uniform distribution is symmetric around 0 that we see the zero correlation."
   ]
  },
  {
   "cell_type": "markdown",
   "id": "29c29aa5-6809-45fe-b43f-3688df5d7ffc",
   "metadata": {},
   "source": [
    "**Exercise 3.2** [Correlation coefficient is between -1 and +1]\n",
    "\n",
    "Prove that −1 ≤ ρ(X, Y ) ≤ 1"
   ]
  },
  {
   "cell_type": "markdown",
   "id": "00539640-e56d-4ff9-ac2c-64afe620f3fd",
   "metadata": {},
   "source": [
    "We have that \n",
    "\n",
    "$\\rho(X, Y) = \\frac{\\text{Cov}[X, Y]}{\\sqrt{V[X]V[Y]}},$\n",
    "\n",
    "and we know that the denominator has a lower bound of $0.$\n",
    "\n",
    "We also know that if the two variables are perfectly uncorrelated (i.e., independent), then\n",
    "\n",
    "$\\text{Cov}[X, Y] = E[XY] - E[X]E[Y] = E[X]E[Y] - E[X]E[Y] = 0,$\n",
    "\n",
    "so $0$ provides a lower bound for $|\\text{Cov}[X, Y]|.$\n",
    "\n",
    "Considering the upper bound, the Cauchy-Schwarz inequality gives us that:\n",
    "\n",
    "$|\\langle \\mathbf{u}, \\mathbf{v} \\rangle| \\leq \\|\\mathbf{u}\\|\\|\\mathbf{v}\\|,$\n",
    "\n",
    "and\n",
    "\n",
    "$|\\langle \\mathbf{u}, \\mathbf{v} \\rangle|^2 \\leq \\langle \\mathbf{u}, \\mathbf{u} \\rangle \\cdot \\langle \\mathbf{v}, \\mathbf{v} \\rangle,$\n",
    "\n",
    "where $\\langle \\cdot , \\cdot \\rangle$ denotes the inner product, and $\\|\\cdot\\|$ the L2 norm.\n",
    "\n",
    "In our case, this can be expressed as\n",
    "\n",
    "$|\\langle \\mathbf{X} - E[\\mathbf{X}], \\mathbf{Y} - E[\\mathbf{Y}] \\rangle| \\leq \\|\\mathbf{X}-E[\\mathbf{X}]\\|\\|\\mathbf{Y}-E[\\mathbf{Y}]\\|,$\n",
    "\n",
    "or\n",
    "\n",
    "$|\\text{Cov}[X, Y]| \\leq \\sqrt{V[X]}\\sqrt{V[Y]},$\n",
    "\n",
    "where $\\text{Cov}[X, Y]$ is understood to be $E[\\langle X-E[X] , Y - E[Y] \\rangle],$ or the expectation of the inner product of each of $X$ and $Y$ less their respective means.\n",
    "\n",
    "This means that we also have:\n",
    "\n",
    "$|\\text{Cov}[X, Y]|^2 \\leq V[X]V[Y],$ so that\n",
    "\n",
    "$|\\rho(X, Y)| = \\left|\\frac{\\text{Cov}[X, Y]}{\\sqrt{V[X]V[Y]}}\\right| \\leq \n",
    "    \\frac{\\sqrt{V[X]V[Y]}}{\\sqrt{V[X]V[Y]}} = 1,$\n",
    "    \n",
    "so we know that \n",
    "\n",
    "$|\\rho(X, Y)| \\leq 1$ and therefore that\n",
    "\n",
    "$-1 \\leq \\rho(X, Y) \\leq 1.$"
   ]
  },
  {
   "cell_type": "markdown",
   "id": "9f9528c4-d083-4118-bf38-88eebc5af27c",
   "metadata": {},
   "source": [
    "**Exercise 3.3** [Correlation coefficient for linearly related variables is ±1 *]\n",
    "\n",
    "Show that, if $Y = aX +b$ for some parameters $a > 0$ and $b$, then $ρ(X,Y) = 1$. Similarly show that if $a < 0$, then $ρ(X, Y) = −1.$"
   ]
  },
  {
   "cell_type": "markdown",
   "id": "ad10258c-7962-4270-b4a4-c7b3afd83bc7",
   "metadata": {},
   "source": [
    "We have that\n",
    "\n",
    "$\\rho(X, Y) = \\frac{\\text{Cov}[X, Y]}{\\sqrt{V[X]V[Y]}},$\n",
    "\n",
    "and we know that, if $Y = aX +b,$ then $V[Y] = a^2V[X],$ so that\n",
    "\n",
    "$\\rho(X, aX+b) = \\frac{\\text{Cov}[X, aX+b]}{\\sqrt{a^2V[X]^2}}.$\n",
    "\n",
    "The covariance $\\text{Cov}[X, aX+b]$ is given by:\n",
    "\n",
    "$E[(X - E[X])(aX+b - E[aX + b])] = E[(X - E[X])(aX+b - E[aX] - b)] = E[(X - E[X])(aX - aE[X])]$\n",
    "\n",
    "$ = aE[X^2 - 2XE[X] + (E[X])^2] = a(E[X^2] - (E[X])^2) = aV[X].$\n",
    "\n",
    "Hence the correlation is given by\n",
    "\n",
    "$\\rho(X, aX+b) = \\frac{a}{\\sqrt{a^2}} \\frac{V[X]}{\\sqrt{V[X]^2}} = \\frac{a}{\\sqrt{a^2}}$ since the variance $V[X]$ is necessarily non-negative.\n",
    "\n",
    "This last quantity is equal to $+1$ for $a > 0$ and $-1$ for $a <0.$"
   ]
  },
  {
   "cell_type": "markdown",
   "id": "3ec2d268-7fc7-462b-9d7e-ee2678d1ae56",
   "metadata": {},
   "source": [
    "**Exercise 3.4** [Linear combinations of random variables]\n",
    "\n",
    "Let $x$ be a random vector with mean $m$ and covariance matrix $\\Sigma$. Let $A$ and $B$ be matrices.\n",
    "\n",
    "a. Derive the covariance matrix of $Ax$. \n",
    "\n",
    "b. Show that $\\text{tr}(AB)$ = $\\text{tr}(BA)$.\n",
    "\n",
    "c. Derive an expression for $E[x^TAx]$."
   ]
  },
  {
   "cell_type": "markdown",
   "id": "6ef65e51-786b-4807-83f4-68d1b2d4b220",
   "metadata": {},
   "source": [
    "(a)\n",
    "\n",
    "The covariance matrix for $x$ is:\n",
    "\n",
    "$\\Sigma = \n",
    "\\begin{pmatrix}\n",
    "E[(x_1 - \\mu_1)(x_1 - \\mu_1)]     & E[(x_1 - \\mu_1)(x_2 - \\mu_2)]  & \\cdots & E[(x_1 - \\mu_1)(x_N - \\mu_N)]\\\\\n",
    "E[(x_2 - \\mu_2)(x_1 - \\mu_1)]     & E[(x_2 - \\mu_2)(x_2 - \\mu_2)]  & \\cdots & E[(x_2 - \\mu_2)(x_N - \\mu_N)]\\\\\n",
    "\\cdot &    &        & \\cdot \\\\\n",
    "\\cdot &    &        & \\cdot \\\\\n",
    "\\cdot &    &        & \\cdot \\\\\n",
    "E[(x_N - \\mu_N)(x_1 - \\mu_1)]     & E[(x_N - \\mu_N)(x_2 - \\mu_2)]  & \\cdots & E[(x_N - \\mu_N)(x_N - \\mu_N)]\\\\\n",
    "\\end{pmatrix},$\n",
    "\n",
    "where $x_i$ and $\\mu_i$ are the elements of $x$ and $\\mu$ respectively.  If $x$ has $N$ elements and matrix $A$ is $(M \\times N),$ then $Ax$ will have $M$ elements.\n",
    "\n",
    "The random vector $Ax$ and its mean vector will have elements\n",
    "\n",
    "$Ax = \\begin{pmatrix}\n",
    "\\sum_{i=1}^N A_{1i}x_i \\\\\n",
    "\\sum_{i=1}^N A_{2i}x_i \\\\\n",
    "\\sum_{i=1}^N A_{3i}x_i \\\\\n",
    "\\cdot \\\\\n",
    "\\cdot \\\\\n",
    "\\cdot \\\\\n",
    "\\sum_{i=1}^N A_{Mi}x_i \\\\\n",
    "\\end{pmatrix}\n",
    "$, $\\mu_{Ax} = \\begin{pmatrix}\n",
    "\\sum_{i=1}^N A_{1i}\\mu_i \\\\\n",
    "\\sum_{i=1}^N A_{2i}\\mu_i \\\\\n",
    "\\sum_{i=1}^N A_{3i}\\mu_i \\\\\n",
    "\\cdot \\\\\n",
    "\\cdot \\\\\n",
    "\\cdot \\\\\n",
    "\\sum_{i=1}^N A_{Mi}\\mu_i \\\\\n",
    "\\end{pmatrix},$\n",
    "\n",
    "respectively, leading to a covariance matrix:\n",
    "\n",
    "$\\Sigma_{Ax} = E\n",
    "\\begin{pmatrix}\n",
    "\\sum_{i=1}^N A_{1i}(x_i - \\mu_i)\\sum_{j=1}^N A_{1j}(x_j - \\mu_j) & \\sum_{i=1}^N A_{1i}(x_i - \\mu_i)\\sum_{j=1}^N A_{2j}(x_j - \\mu_j) & \\cdots & \\sum_{i=1}^N A_{1i}(x_i - \\mu_i)\\sum_{j=1}^N A_{Mj}(x_j - \\mu_j)\\\\\n",
    "\\sum_{i=1}^N A_{2i}(x_i - \\mu_i)\\sum_{j=1}^N A_{1j}(x_j - \\mu_j) & \\sum_{i=1}^N A_{2i}(x_i - \\mu_i)\\sum_{j=1}^N A_{2j}(x_j - \\mu_j) & \\cdots & \\sum_{i=1}^N A_{2i}(x_i - \\mu_i)\\sum_{j=1}^N A_{Mj}(x_j - \\mu_j)\\\\\n",
    "\\cdot &    &        & \\cdot \\\\\n",
    "\\cdot &    &        & \\cdot \\\\\n",
    "\\cdot &    &        & \\cdot \\\\\n",
    "\\sum_{i=1}^N A_{Mi}(x_i - \\mu_i)\\sum_{j=1}^N A_{1j}(x_j - \\mu_j) & \\sum_{i=1}^N A_{Mi}(x_i - \\mu_i)\\sum_{j=1}^N A_{2j}(x_j - \\mu_j) & \\cdots & \\sum_{i=1}^N A_{Mi}(x_i - \\mu_i)\\sum_{j=1}^N A_{Mj}(x_j - \\mu_j)\\\\\n",
    "\\end{pmatrix}$\n",
    "\n",
    "$= \n",
    "\\begin{pmatrix}\n",
    "\\sum_{i,j}^N A_{1i}A_{1j}\\Sigma_{ij} & \\sum_{i,j}^N A_{1i}A_{2j}\\Sigma_{ij} & \\cdots & \\sum_{i,j}^N A_{1i}A_{Mj}\\Sigma_{ij} \\\\\n",
    "\\sum_{i,j}^N A_{2i}A_{1j}\\Sigma_{ij} & \\sum_{i,j}^N A_{2i}A_{2j}\\Sigma_{ij} & \\cdots & \\sum_{i,j}^N A_{2i}A_{Mj}\\Sigma_{ij} \\\\\n",
    "\\cdot &    &        & \\cdot \\\\\n",
    "\\cdot &    &        & \\cdot \\\\\n",
    "\\cdot &    &        & \\cdot \\\\\n",
    "\\sum_{i,j}^N A_{Mi}A_{1j}\\Sigma_{ij} & \\sum_{i,j}^N A_{Mi}A_{2j}\\Sigma_{ij} & \\cdots & \\sum_{i,j}^N A_{Mi}A_{Mj}\\Sigma_{ij} \\\\\n",
    "\\end{pmatrix}.$\n",
    "\n",
    "Below we attempt to verify this by dummying up some numbers:"
   ]
  },
  {
   "cell_type": "code",
   "execution_count": 167,
   "id": "40c9dee1-24ff-4d61-acd7-bdfb0477eed7",
   "metadata": {},
   "outputs": [],
   "source": [
    "# original random vector x has size (3 x 1)\n",
    "m = np.array([5., 7., 9.])\n",
    "cov_half = np.array([[1, 1, 3],                   \n",
    "                [1, 4, 6], \n",
    "                [3, 6, 9]])\n",
    "cov = cov_half.T @ cov_half\n",
    "x_dist = multivariate_normal(mean=m, cov=cov)"
   ]
  },
  {
   "cell_type": "code",
   "execution_count": 184,
   "id": "350fc6f1-9571-4c2c-8bb7-ed3f99db49c7",
   "metadata": {},
   "outputs": [
    {
     "data": {
      "text/plain": [
       "array([[ 11,  23,  36],\n",
       "       [ 23,  53,  81],\n",
       "       [ 36,  81, 126]])"
      ]
     },
     "execution_count": 184,
     "metadata": {},
     "output_type": "execute_result"
    }
   ],
   "source": [
    "# covariance matrix for x\n",
    "cov"
   ]
  },
  {
   "cell_type": "code",
   "execution_count": 185,
   "id": "1fda7c22-2aea-4a2c-b5b7-c4a4aba3504c",
   "metadata": {},
   "outputs": [],
   "source": [
    "# matrix A has size (4 x 3)\n",
    "A = np.array([[1, 7, 3],\n",
    "              [4, 11, 4], \n",
    "              [5, 6, 7],\n",
    "              [2, 8, 5]])\n",
    "Ax_mean = A @ m"
   ]
  },
  {
   "cell_type": "code",
   "execution_count": 186,
   "id": "5749b091-37d0-45a3-996c-0ccfe94bee32",
   "metadata": {},
   "outputs": [
    {
     "data": {
      "text/plain": [
       "array([ 81., 133., 130., 111.])"
      ]
     },
     "execution_count": 186,
     "metadata": {},
     "output_type": "execute_result"
    }
   ],
   "source": [
    "Ax_mean"
   ]
  },
  {
   "cell_type": "code",
   "execution_count": 187,
   "id": "db4ff6ce-a8e6-4e34-876c-0bd32247b7de",
   "metadata": {},
   "outputs": [],
   "source": [
    "def get_cov_pq(A, cov, p, q):\n",
    "    \"\"\"\n",
    "    get the p,q-th element of the covariance matrix for Ax,\n",
    "    where cov is the covariance matrix for rabdom vector x\n",
    "    \"\"\"\n",
    "    out = 0\n",
    "    N = A.shape[1]\n",
    "    for ii in range(N):\n",
    "        for ij in range(N):\n",
    "            out += A[p, ii] * A[q, ij] * cov[ii, ij]\n",
    "    return out"
   ]
  },
  {
   "cell_type": "code",
   "execution_count": 188,
   "id": "415313ef-a9ba-4839-939a-e02bd899eb8a",
   "metadata": {},
   "outputs": [],
   "source": [
    "M = A.shape[0]\n",
    "cov_Ax = np.zeros((M, M))\n",
    "for pp in range(M):\n",
    "    for pq in range(M):\n",
    "        cov_Ax[pp, pq] = get_cov_pq(A, cov, pp, pq)"
   ]
  },
  {
   "cell_type": "code",
   "execution_count": 189,
   "id": "c373b0cf-bd69-4d57-9642-4e7125f40f0c",
   "metadata": {},
   "outputs": [
    {
     "data": {
      "text/plain": [
       "array([[ 7682., 12051., 12089., 10561.],\n",
       "       [12051., 18909., 18972., 16569.],\n",
       "       [12089., 18972., 19061., 16630.],\n",
       "       [10561., 16569., 16630., 14522.]])"
      ]
     },
     "execution_count": 189,
     "metadata": {},
     "output_type": "execute_result"
    }
   ],
   "source": [
    "cov_Ax"
   ]
  },
  {
   "cell_type": "code",
   "execution_count": 209,
   "id": "a94a9ebd-6d48-4377-9b6f-3b9bfb1fd167",
   "metadata": {},
   "outputs": [],
   "source": [
    "# n.b., the covariance matrix is rejected as a singular matrix.\n",
    "#Ax_dist = multivariate_normal(mean=Ax_mean, cov=cov_Ax)"
   ]
  },
  {
   "cell_type": "code",
   "execution_count": 242,
   "id": "f7016fce-6576-43bc-a875-ab0fd625f252",
   "metadata": {},
   "outputs": [],
   "source": [
    "# what if we try with a square matrix?\n",
    "B = np.array([[5, 6, 7], [1.1, 1.2, 1.3], [5.5, 5.6, 5.7]])\n",
    "cov_Bx = np.zeros((3, 3))\n",
    "for pp in range(3):\n",
    "    for pq in range(3):\n",
    "        cov_Bx[pp, pq] = get_cov_pq(B, cov, pp, pq)"
   ]
  },
  {
   "cell_type": "code",
   "execution_count": 243,
   "id": "ca0e69e8-86c3-4a6d-b3d8-6f54a73eaad8",
   "metadata": {},
   "outputs": [
    {
     "data": {
      "text/plain": [
       "array([[ 7.10e+10, -8.06e+11,  9.68e+10],\n",
       "       [-8.06e+11,  9.16e+12, -1.10e+12],\n",
       "       [ 9.68e+10, -1.10e+12,  1.32e+11]])"
      ]
     },
     "execution_count": 243,
     "metadata": {},
     "output_type": "execute_result"
    }
   ],
   "source": [
    "# in this case we do not get a singular matrix?  Possibly it is necessary to use a square matrix (which \n",
    "# consequently must be of the same size as the original random vector) to avoid singular matrices\n",
    "np.linalg.inv(cov_Bx)"
   ]
  },
  {
   "cell_type": "code",
   "execution_count": 215,
   "id": "a0d28930-23c1-4de3-9b12-92981476866e",
   "metadata": {},
   "outputs": [
    {
     "data": {
      "text/plain": [
       "array([[ 0.09, -0.14, -0.03,  0.13],\n",
       "       [-0.14,  0.28,  0.  , -0.22],\n",
       "       [-0.03,  0.  ,  0.04, -0.02],\n",
       "       [ 0.13, -0.22, -0.02,  0.19]])"
      ]
     },
     "execution_count": 215,
     "metadata": {},
     "output_type": "execute_result"
    }
   ],
   "source": [
    "# we can still find the \"pseudo-inverse\"\n",
    "np.linalg.pinv(cov_Ax)"
   ]
  },
  {
   "cell_type": "code",
   "execution_count": 216,
   "id": "d0e273bc-5430-45da-be38-dd217396a249",
   "metadata": {},
   "outputs": [],
   "source": [
    "# we can also create a distribution with the pseudo-inverse\n",
    "Ax_dist = multivariate_normal(mean=Ax_mean, cov=cov_Ax, allow_singular=True)"
   ]
  },
  {
   "cell_type": "markdown",
   "id": "6d83d73d-7800-4454-8789-9ce7df3598bc",
   "metadata": {},
   "source": [
    "The matrix produced in this way is supposedly singular.  Let's get an estimate of the covariance matrix produced using random variables drawn from vector Ax:"
   ]
  },
  {
   "cell_type": "code",
   "execution_count": 190,
   "id": "ced4fe6b-8567-40f8-8dae-6a1dbe9515c4",
   "metadata": {},
   "outputs": [],
   "source": [
    "rvs = x_dist.rvs(2000)"
   ]
  },
  {
   "cell_type": "code",
   "execution_count": 192,
   "id": "7a891fc5-62b2-4b00-959b-7578df4bb8ed",
   "metadata": {},
   "outputs": [
    {
     "data": {
      "text/plain": [
       "(2000, 3)"
      ]
     },
     "execution_count": 192,
     "metadata": {},
     "output_type": "execute_result"
    }
   ],
   "source": [
    "rvs.shape"
   ]
  },
  {
   "cell_type": "code",
   "execution_count": 193,
   "id": "61665d15-7efa-428e-9c3e-801d5877cd94",
   "metadata": {},
   "outputs": [
    {
     "data": {
      "text/plain": [
       "(4, 3)"
      ]
     },
     "execution_count": 193,
     "metadata": {},
     "output_type": "execute_result"
    }
   ],
   "source": [
    "A.shape"
   ]
  },
  {
   "cell_type": "code",
   "execution_count": 195,
   "id": "86898f7b-c9bb-42fe-b0f0-35d8dc02262f",
   "metadata": {},
   "outputs": [],
   "source": [
    "# generate transformed rvs by multiplying by A\n",
    "Ax_rvs = (rvs @ A.T)"
   ]
  },
  {
   "cell_type": "code",
   "execution_count": 196,
   "id": "5e3cf688-d5e8-422f-9bd4-5777a51052a0",
   "metadata": {},
   "outputs": [
    {
     "data": {
      "text/plain": [
       "array([ 82.40621043, 135.17988356, 132.14390781, 112.91609514])"
      ]
     },
     "execution_count": 196,
     "metadata": {},
     "output_type": "execute_result"
    }
   ],
   "source": [
    "Ax_rvs.mean(axis=0)"
   ]
  },
  {
   "cell_type": "code",
   "execution_count": 208,
   "id": "e6a423c2-4276-4b0f-9bad-371a222f74e2",
   "metadata": {},
   "outputs": [
    {
     "name": "stdout",
     "output_type": "stream",
     "text": [
      "Numpy estimate:\n",
      "[[ 7647.82 11998.25 12025.1  10510.57]\n",
      " [11998.25 18827.57 18873.3  16491.15]\n",
      " [12025.1  18873.3  18945.76 16537.1 ]\n",
      " [10510.57 16491.15 16537.1  14448.05]]\n",
      "Computed analytically:\n",
      "[[ 7682. 12051. 12089. 10561.]\n",
      " [12051. 18909. 18972. 16569.]\n",
      " [12089. 18972. 19061. 16630.]\n",
      " [10561. 16569. 16630. 14522.]]\n"
     ]
    }
   ],
   "source": [
    "np.set_printoptions(precision=2)\n",
    "print(\"Numpy estimate:\")\n",
    "print(np.cov(Ax_rvs.T))\n",
    "print(\"Computed analytically:\")\n",
    "print(cov_Ax)"
   ]
  },
  {
   "cell_type": "markdown",
   "id": "ba8741a5-d769-4243-a4e4-30cfd5f558df",
   "metadata": {},
   "source": [
    "The above are close enough that it appears that the elements of the covariance matrix are being calculated correctly, even though numpy complains that the resulting matrix is singular."
   ]
  },
  {
   "cell_type": "code",
   "execution_count": 217,
   "id": "ced6b9bd-b69f-4a5f-8179-d9c68e2cd73c",
   "metadata": {},
   "outputs": [],
   "source": [
    "Ax_rvs_pinv = Ax_dist.rvs(2000)"
   ]
  },
  {
   "cell_type": "code",
   "execution_count": 219,
   "id": "8322b7a7-151d-4078-8420-5b07fd224d30",
   "metadata": {},
   "outputs": [
    {
     "data": {
      "text/plain": [
       "array([[ 7473.28, 11719.63, 11747.19, 10270.53],\n",
       "       [11719.63, 18383.06, 18429.64, 16107.9 ],\n",
       "       [11747.19, 18429.64, 18502.18, 16154.55],\n",
       "       [10270.53, 16107.9 , 16154.55, 14117.81]])"
      ]
     },
     "execution_count": 219,
     "metadata": {},
     "output_type": "execute_result"
    }
   ],
   "source": [
    "np.cov(Ax_rvs_pinv.T)"
   ]
  },
  {
   "cell_type": "markdown",
   "id": "41b8eb3c-8e0f-42ae-b5a1-87df2aba3c10",
   "metadata": {},
   "source": [
    "We see that the random variables produced by the elements of $Ax$ are similar, whether we use the computed covariance matrix (allowing for the fact that we need the pseudo-inverse) or we multiply random variables produced by $x$ by matrix $A$:"
   ]
  },
  {
   "cell_type": "code",
   "execution_count": 228,
   "id": "26ec17ba-6c7e-41c8-929e-f61a55f8bece",
   "metadata": {},
   "outputs": [
    {
     "data": {
      "text/plain": [
       "(array([2.41e-05, 6.03e-05, 1.57e-04, 2.77e-04, 7.36e-04, 1.22e-03,\n",
       "        1.68e-03, 2.81e-03, 3.34e-03, 3.17e-03, 3.09e-03, 2.54e-03,\n",
       "        2.06e-03, 1.36e-03, 9.41e-04, 4.22e-04, 1.33e-04, 4.82e-05,\n",
       "        2.41e-05, 2.41e-05]),\n",
       " array([-284.82, -243.36, -201.9 , -160.45, -118.99,  -77.54,  -36.08,\n",
       "           5.38,   46.83,   88.29,  129.75,  171.2 ,  212.66,  254.11,\n",
       "         295.57,  337.03,  378.48,  419.94,  461.4 ,  502.85,  544.31]),\n",
       " <a list of 20 Patch objects>)"
      ]
     },
     "execution_count": 228,
     "metadata": {},
     "output_type": "execute_result"
    },
    {
     "data": {
      "image/png": "[encoded data removed]",
      "text/plain": [
       "<Figure size 432x288 with 4 Axes>"
      ]
     },
     "metadata": {
      "needs_background": "light"
     },
     "output_type": "display_data"
    }
   ],
   "source": [
    "fig, ax = plt.subplots(2, 2)\n",
    "\n",
    "ax[0, 0].hist(Ax_rvs[:, 0], density=True, bins=20)\n",
    "ax[0, 0].hist(Ax_rvs_pinv[:, 0], density=True, bins=20)\n",
    "\n",
    "ax[0, 1].hist(Ax_rvs[:, 1], density=True, bins=20)\n",
    "ax[0, 1].hist(Ax_rvs_pinv[:, 1], density=True, bins=20)\n",
    "\n",
    "ax[1, 0].hist(Ax_rvs[:, 2], density=True, bins=20)\n",
    "ax[1, 0].hist(Ax_rvs_pinv[:, 2], density=True, bins=20)\n",
    "\n",
    "ax[1, 1].hist(Ax_rvs[:, 3], density=True, bins=20)\n",
    "ax[1, 1].hist(Ax_rvs_pinv[:, 3], density=True, bins=20)"
   ]
  },
  {
   "cell_type": "markdown",
   "id": "c43547ac-56d9-463c-b4c0-367dd91d1912",
   "metadata": {},
   "source": [
    "(b)\n",
    "\n",
    "$A$ and $B$ must be square matrices for their traces to be defined, hence $A$ and $B$ must be of the same size, say $M$.\n",
    "\n",
    "The diagonal elements of $AB$ will be equal to the diagonal elements of $BA$:\n",
    "\n",
    "$(AB)_{ii} = (BA)_{ii}$\n",
    "\n",
    "where $1 \\leq i \\leq M$.  Since $\\text{tr}(A)$ is simply the sum of the diagonal elements, we must have $\\text{tr}(AB) = \\text{tr}(BA).$"
   ]
  },
  {
   "cell_type": "markdown",
   "id": "38c294e3-fd7b-4c9c-ac87-f59770fd62d4",
   "metadata": {},
   "source": [
    "(c)\n",
    "\n",
    "For $x^TAx$ to be defined, $A$ must be a square matrix with the same size as $x$ ($M = N$).  In that case,\n",
    "\n",
    "$x^tAx = \\begin{pmatrix}\n",
    "x_1 & x_2 & x_3 & \\cdots & x_N\n",
    "\\end{pmatrix}\n",
    "\\cdot\n",
    "\\begin{pmatrix}\n",
    "\\sum_{i=1}^N A_{1i}x_i \\\\\n",
    "\\sum_{i=1}^N A_{2i}x_i \\\\\n",
    "\\sum_{i=1}^N A_{3i}x_i \\\\\n",
    "\\cdot \\\\\n",
    "\\cdot \\\\\n",
    "\\cdot \\\\\n",
    "\\sum_{i=1}^N A_{Ni}x_i \\\\\n",
    "\\end{pmatrix}$\n",
    "\n",
    "$=\\sum_{i,j}^N A_{ji} x_jx_i.$  The expectation $E[x^TAx]$ must then be\n",
    "\n",
    "$E[x^TAx] = E[\\sum_{i,j}^N A_{ji} x_jx_i] = \\sum_{i,j}^N A_{ji}E[x_jx_i].$"
   ]
  },
  {
   "cell_type": "markdown",
   "id": "37eef873-a60f-4ebc-8830-efcc96dcf56a",
   "metadata": {},
   "source": [
    "**Exercise 3.7** [Sensor fusion with known variances in 1d]\n",
    "\n",
    "Suppose we have two sensors with known (and different) variances $v_1$ and $v_2$, but unknown (and the same)\n",
    "mean $\\mu$. Suppose we observe $n_1$ observations $y_i^{(1)} \\sim N(\\mu,v_1)$ from the first sensor and $n_2$ observations $y_i^{(2)} \\sim N(\\mu,v_2)$ from the second sensor. (For example, suppose $\\mu$ is the true temperature outside, and sensor $1$ is a precise (low variance) digital thermosensing device, and sensor $2$ is an imprecise (high variance) mercury thermometer.) Let $D$ represent all the data from both sensors. What is the posterior $p(\\mu|D)$, assuming a non-informative prior for $\\mu$ (which we can simulate using a Gaussian with a precision of $0$)? Give an explicit expression for the posterior mean and variance."
   ]
  },
  {
   "cell_type": "markdown",
   "id": "5a72a486-1fea-47c5-90a5-3bd866f75ca5",
   "metadata": {},
   "source": [
    "We can set this up as a linear Gaussian system:\n",
    "\n",
    "$p(\\mu) = \\mathcal{N}(\\mu|\\mu_0, \\Sigma_\\mu)$ (for the non-informative prior we can set $\\frac{1}{\\Sigma_\\mu}=0$),\n",
    "\n",
    "$p(y^{(1)}|\\mu) = \\mathcal{N}(y^{(1)}|W_1\\mu, \\Sigma_1),$\n",
    "\n",
    "$p(y^{(2)}|\\mu) = \\mathcal{N}(y^{(2)}|W_2\\mu, \\Sigma_2),$\n",
    "\n",
    "where $W_1$ is a $n_1 \\times 1$ column (n.b., KPM has this as row) vector of $1$s and $W_2$ is a $n_2 \\times 1$ column (KPM has row) vector of $1$s; $\\Sigma_1$ and $\\Sigma_2$ are diagonal square matrices of side $n_1$ and $n_2$ respectively, whose diagonal elements are the known quantities $v_1$ and $v_2$, respectively.\n",
    "\n",
    "$y^{(1)}$ and $y^{(2)}$ can be combined into a single system:\n",
    "\n",
    "$y = \\begin{pmatrix}\n",
    "y_1 \\\\\n",
    "y_2 \\\\\n",
    "\\end{pmatrix},$\n",
    "\n",
    "where the mean vector $\\mu$, ($(n_1 + n_2) \\times 1)$ weight (column, n.b., KPM has this as row) vector $W$ and $((n_1 + n_2) \\times (n_1 + n_2))$ variance matrix $\\Sigma_y$ can be easily constructed by concatenating the corresponding quantities from the separate systems.\n",
    "\n",
    "We can then apply Bayes' rule for Gaussians to find the posterior precision:\n",
    "\n",
    "$\\Sigma_{\\mu|y}^{-1} = \\Sigma_\\mu^{-1} + W^T\\Sigma_y^{-1}W,$\n",
    "\n",
    "so that \n",
    "\n",
    "$\\Sigma_{\\mu|y}^{-1} = W^T\\Sigma_y^{-1}W = \\frac{n_1}{v_1} + \\frac{n_2}{v_2},$\n",
    "\n",
    "since the prior precision $\\Sigma_\\mu^{-1} = 0$.\n",
    "\n",
    "The posterior mean will then be given by:\n",
    "\n",
    "$\\mu_{\\mu|y} = \\Sigma_{\\mu|y}[W^T\\Sigma_{y}^{-1}(y-b) + \\Sigma_\\mu^{-1}\\mu_0]$\n",
    "\n",
    "$= \\left[\\frac{n_1}{v_1} + \\frac{n_2}{v_2}\\right]^{-1}\\left (\\sum_{i=1}^{n_1}y_i/v_1 + \\sum_{i=n_1+1}^{n_1+n_2}y_i/v_2 \\right)\n",
    "= \\left[\\frac{n_1}{v_1} + \\frac{n_2}{v_2}\\right]^{-1} \\left( \\frac{n_1\\bar{y}_1}{v_1} + \\frac{n_2\\bar{y}_2}{v_2} \\right).$ \n",
    "\n",
    "We can simplify the system using the sample means of $y_1$ and $y_2$ so that \n",
    "\n",
    "$y = \\begin{pmatrix}\n",
    "\\bar{y}_1 \\\\\n",
    "\\bar{y}_2 \\\\\n",
    "\\end{pmatrix},$\n",
    "\n",
    "with $W$ as before, and $\\Sigma_y$ now a $2 \\times 1$ column vector with elements $v_1/n_1$ and $v_2/n_2.$\n",
    "\n",
    "With the noninformative prior, the Bayes rule for Gaussians will leads to the same posterior mean and variance:"
   ]
  },
  {
   "cell_type": "code",
   "execution_count": 292,
   "id": "a49497da-9ed4-4bd4-a0d4-1c43ce9980ed",
   "metadata": {},
   "outputs": [],
   "source": [
    "# set μ, v1, v2\n",
    "μ = 15.\n",
    "v1 = 1.0 # lower variance / higher precision\n",
    "v2 = 3.0 # higher variance / lower precision\n",
    "\n",
    "# say we have 20 observations from the high precision sensor\n",
    "# and 60 observations from the low precision sensor\n",
    "n1 = 20; n2 = 60\n",
    "y1 = np.random.normal(μ, v1, size=n1)\n",
    "y2 = np.random.normal(μ, v2, size=n2)"
   ]
  },
  {
   "cell_type": "code",
   "execution_count": 341,
   "id": "59860509-9b48-43fe-8573-36be99929c35",
   "metadata": {},
   "outputs": [
    {
     "name": "stdout",
     "output_type": "stream",
     "text": [
      "W is a column vector with shape: (80, 1)\n",
      "Σ_y is a diagonal matrix with shape: (80, 80)\n",
      "\n",
      "Posterior variance via matrix multiplication: 0.025\n",
      "1/((n1/v1) + (n2/v2)): 0.025\n",
      "\n",
      "Posterior mean via matrix multiplication: 14.9393\n",
      "1/((n1/v1) + (n2/v2)) * (n1 * y1.mean()/v1 + n2 * y2.mean()/v2):     14.9393\n"
     ]
    }
   ],
   "source": [
    "# the combined y is the concatenation of y1, y2\n",
    "y = np.concatenate([y1, y2], axis=0)\n",
    "\n",
    "# the individual weights are column vectors\n",
    "W1 = np.ones(n1).reshape(n1, 1)\n",
    "W2 = np.ones(n2).reshape(n2, 1)\n",
    "\n",
    "# the individual variance matrices are diagonal\n",
    "Σ_y1 = v1 * np.eye(n1)\n",
    "Σ_y2 = v2 * np.eye(n2)\n",
    "\n",
    "# the combined system consists of concatenations of these:\n",
    "W = np.concatenate([W1, W2], axis=0)\n",
    "print(f\"W is a column vector with shape: {W.shape}\")\n",
    "Σ_y = np.vstack([np.hstack([Σ_y1, np.zeros((20, 60))]),\n",
    "                 np.hstack([np.zeros((60, 20)), Σ_y2])])\n",
    "print(f\"Σ_y is a diagonal matrix with shape: {Σ_y.shape}\")\n",
    "print()\n",
    "postvar = np.linalg.inv(W.T @ np.linalg.inv(Σ_y) @ W)\n",
    "print(f\"Posterior variance via matrix multiplication: {postvar.squeeze()}\")\n",
    "print(f\"1/((n1/v1) + (n2/v2)): {1/((n1/v1) + (n2/v2))}\")\n",
    "print()\n",
    "postmean = postvar @ W.T @ np.linalg.inv(Σ_y) @ y\n",
    "print(f\"Posterior mean via matrix multiplication: {postmean.squeeze():.4f}\")\n",
    "print(f\"1/((n1/v1) + (n2/v2)) * (n1 * y1.mean()/v1 + n2 * y2.mean()/v2): \\\n",
    "    {1/((n1/v1) + (n2/v2)) * (n1 * y1.mean()/v1 + n2 * y2.mean()/v2):.4f}\")"
   ]
  },
  {
   "cell_type": "markdown",
   "id": "88460545-e814-4080-8853-67483ba2ebaf",
   "metadata": {},
   "source": [
    "**Exercise 3.8** [Show that the Student distribution can be written as a Gaussian scale mixture]\n",
    "\n",
    "Show that a Student distribution can be written as a Gaussian scale mixture, where we use a Gamma\n",
    "mixing distribution on the precision α, i.e.\n",
    "\n",
    "$p(x|\\mu, a, b) = \\int_{0}^{\\infty} \\mathcal{N}(x|\\mu, \\alpha^{-1})\\text{Ga}(\\alpha, a, b)d\\alpha$\n",
    "\n",
    "This can be viewed as an infinite mixture of Gaussians, with different precisions."
   ]
  },
  {
   "cell_type": "markdown",
   "id": "be3fa317-a74b-4801-8005-e5514410528a",
   "metadata": {},
   "source": [
    "$\\mathcal{N}(x|\\mu, \\alpha^{-1}) = \\frac{\\alpha^{1/2}}{\\sqrt{2\\pi}}\\exp\\left\\{-\\frac{\\alpha}{2} (x-\\mu)^2 \\right\\}$\n",
    "\n",
    "$\\text{Ga}(\\alpha, a, b) = \\frac{b^a}{\\Gamma(a)}\\alpha^{a-1}\\exp\\{-b\\alpha\\}$\n",
    "\n",
    "$\\implies \\int_{0}^{\\infty} \\mathcal{N}(x|\\mu, \\alpha^{-1})\\text{Ga}(\\alpha, a, b)d\\alpha \n",
    "= \\int_{0}^{\\infty} \\frac{\\alpha^{a-1/2}}{\\sqrt{2\\pi}b^a\\Gamma(a)}\\exp\\left\\{-\\alpha \\left [\\frac{(x-\\mu)^2}{2} + \\frac{1}{b}\\right] \\right\\}  d\\alpha$\n",
    "\n",
    "$= \\frac{1}{\\sqrt{2\\pi}b^a\\Gamma(a)} \\int_{0}^{\\infty} \\alpha^{\\kappa_1-1} \\exp\\left\\{ \\alpha / \\kappa_2 \\right\\}  d\\alpha,$\n",
    "\n",
    "where\n",
    "\n",
    "$\\kappa_1 = a+1/2,$ and $\\kappa_2 = \\left[ \\frac{(x-\\mu)^2}{2} + \\frac{1}{b} \\right]^{-1}.$\n",
    "\n",
    "This means that\n",
    "\n",
    "$\\int_{0}^{\\infty} \\mathcal{N}(x|\\mu, \\alpha^{-1})\\text{Ga}(\\alpha, a, b)d\\alpha\n",
    " = \\frac{1}{\\sqrt{2\\pi}b^a\\Gamma(a)} \\frac{\\Gamma(\\kappa_1)}{\\kappa_2^{\\kappa_1}} \\int_{0}^{\\infty} \\text{Ga}(\\alpha|\\kappa_1, \\kappa_2) d\\alpha,$\n",
    " \n",
    "and since the integral over a Gamma distribution from $0$ to infinity is equal to one, we have:\n",
    "\n",
    "$\\int_{0}^{\\infty} \\mathcal{N}(x|\\mu, \\alpha^{-1})\\text{Ga}(\\alpha, a, b)d\\alpha\n",
    " = \\frac{1}{\\sqrt(2\\pi)b^a\\Gamma(a)} \\frac{\\Gamma(a+1/2)}{\\left[ \\frac{(x-\\mu)^2}{2} + \\frac{1}{b} \\right]^{a+1/2}}\n",
    "= \\frac{\\sqrt{b}}{\\sqrt(2\\pi)}\\frac{\\Gamma(a+1/2)}{\\Gamma(a)}\\left[ \\frac{b(x-\\mu)^2}{2} + 1 \\right]^{-(a+1/2)}.$\n",
    "\n",
    "The Student-$t$ distribuution has the form:\n",
    "\n",
    "$t_{\\nu}(x|\\mu, \\sigma^2) = \\frac{\\Gamma(\\frac{\\nu+1}{2})}{\\Gamma(\\frac{\\nu}{2})\\sqrt{\\nu\\pi}\\sigma}\\left[ 1 + \\frac{1}{\\nu}\\left(\\frac{x-\\mu}{\\sigma}\\right)^2 \\right]^{-\\frac{\\nu+1}{2}}.$\n",
    "\n",
    "So, with \n",
    "\n",
    "$a = \\nu / 2 \\Leftrightarrow \\nu = 2a,$\n",
    "\n",
    "and\n",
    "\n",
    "$b = \\frac{2}{\\nu \\sigma^2} \\Leftrightarrow \\sigma^2 = \\frac{2}{\\nu b},$\n",
    "\n",
    "we can write\n",
    "\n",
    "$t_{2a}(x|\\mu, \\frac{2}{\\nu b}) = \\frac{\\Gamma(a+1/2)}{\\Gamma(a)} \\frac{1}{\\sqrt{\\nu\\pi}} \\sqrt{\\frac{\\nu b}{2}} \\left[ 1 + \\frac{b \\sigma^2}{2}\\left( \\frac{x-\\mu}{\\sigma}\\right)^2 \\right]^{-(a+1/2)}\n",
    "= \\frac{\\Gamma(a+1/2)}{\\Gamma(a)} \\sqrt{\\frac{b}{2\\pi}} \\left[ 1 + \\frac{b}{2}\\left( x-\\mu\\right)^2 \\right]^{-(a+1/2)}\n",
    "= \\int_{0}^{\\infty} \\mathcal{N}(x|\\mu, \\alpha^{-1})\\text{Ga}(\\alpha, a, b)d\\alpha.$\n",
    "\n",
    "We can therefore consider the $t$-distribution to be a scale mix of Gaussians."
   ]
  },
  {
   "cell_type": "code",
   "execution_count": null,
   "id": "8843eee8-8bc9-4c06-93c5-c646f53d7db3",
   "metadata": {},
   "outputs": [],
   "source": []
  }
 ],
 "metadata": {
  "kernelspec": {
   "display_name": "Python 3",
   "language": "python",
   "name": "python3"
  },
  "language_info": {
   "codemirror_mode": {
    "name": "ipython",
    "version": 3
   },
   "file_extension": ".py",
   "mimetype": "text/x-python",
   "name": "python",
   "nbconvert_exporter": "python",
   "pygments_lexer": "ipython3",
   "version": "3.6.13"
  }
 },
 "nbformat": 4,
 "nbformat_minor": 5
}
