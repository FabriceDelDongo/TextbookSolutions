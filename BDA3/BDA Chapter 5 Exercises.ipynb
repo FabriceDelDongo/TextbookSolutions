{
 "cells": [
  {
   "cell_type": "markdown",
   "id": "departmental-commitment",
   "metadata": {},
   "source": [
    "### 3. Hierarchical models and multiple comparisons:\n",
    "\n",
    "(a) Reproduce the computations in Section 5.5 for the educational testing example. Use the posterior simulations to estimate \n",
    "\n",
    "   (i) for each school j, the probability that its coaching program is the best of the eight; and \n",
    "    \n",
    "   (ii) for each pair of schools, j and k, the probability that the coaching program in school j is better than that in school k.\n",
    "\n",
    "(b) Repeat (a), but for the simpler model with τ set to ∞ (that is, separate estimation for the eight schools). In this case, the probabilities (ii) can be computed analytically.\n",
    "\n",
    "(c) Discuss how the answers in (a) and (b) differ.\n",
    "\n",
    "(d) In the model with τ set to 0, the probabilities (i) and (ii) have degenerate values; what are they?"
   ]
  },
  {
   "cell_type": "markdown",
   "id": "stylish-sculpture",
   "metadata": {},
   "source": [
    "(a) We use the normal model presented in Section 5.4:\n",
    "\n",
    "Posterior distribution for $\\tau$ is given in equation (5.21):\n",
    "\n",
    "$P(\\tau|y) \\propto P(\\tau)V_\\mu^{1/2}\\Pi_{j=1}^{J}(\\sigma_j^2+\\tau^2)^{-1/2}\\exp\\left(-\\frac{(\\bar{y}_{.j}-\\hat{\\mu})^{2}}{2(\\sigma_j^2+\\tau^2)}\\right)$,\n",
    "\n",
    "where\n",
    "\n",
    "$\\hat{\\mu} = \\frac{\\sum_{j=1}^{J}\\frac{1}{\\sigma_j^2+\\tau^2}\\bar{y_{.j}}}{\\sum_{j=1}^{J}\\frac{1}{\\sigma_j^2+\\tau^2}}$,\n",
    "\n",
    "$V_{\\mu}^{-1} = \\sum_{j=1}^{J}\\frac{1}{\\sigma_{j}^2+\\tau^2}$.\n",
    "\n",
    "\n",
    "To simulate $\\tau$ we use the inverse CDF method, described in Section 1.9, on a uniformly-spaced grid of values of $\\tau$:\n",
    "\n"
   ]
  },
  {
   "cell_type": "code",
   "execution_count": 1,
   "id": "abandoned-architecture",
   "metadata": {},
   "outputs": [],
   "source": [
    "import numpy as np\n",
    "from matplotlib import pyplot as plt"
   ]
  },
  {
   "cell_type": "code",
   "execution_count": 12,
   "id": "essential-wiring",
   "metadata": {},
   "outputs": [],
   "source": [
    "%matplotlib inline"
   ]
  },
  {
   "cell_type": "code",
   "execution_count": 30,
   "id": "incorrect-tucson",
   "metadata": {},
   "outputs": [],
   "source": [
    "# We first get an unnormalized posterior PDF for 0 < tau < 10\n",
    "# assuming a flat prior\n",
    "x = np.linspace(0., 30., 1000)"
   ]
  },
  {
   "cell_type": "code",
   "execution_count": 31,
   "id": "confident-kidney",
   "metadata": {},
   "outputs": [],
   "source": [
    "def logtau_postr_dens(t, sigjs, yjs):\n",
    "    def getmuhat(t, sigjs, yjs):\n",
    "        muhat = 0.\n",
    "        for ii, sigj in enumerate(sigjs):\n",
    "            muhat += yjs[ii]/(sigj**2.+t**2.)\n",
    "        muhat = muhat / getVmuinv(sigjs, t)\n",
    "        return muhat\n",
    "    def getVmuinv(sigjs, t):\n",
    "        Vmuinv = 0.\n",
    "        for sigj in sigjs:\n",
    "            Vmuinv += 1./(sigj**2.+t**2.)\n",
    "        return Vmuinv\n",
    "    muhat = getmuhat(t, sigjs, yjs)\n",
    "    logdens = np.log(np.sqrt(1./(getVmuinv(sigjs, t))))\n",
    "    for ii, sigj in enumerate(sigjs):\n",
    "        logdens = logdens - np.log(np.sqrt(sigj**2.+t**2.)) + \\\n",
    "          -(yjs[ii]-muhat)**2./(2.*(sigj**2.+t**2.))\n",
    "    return logdens"
   ]
  },
  {
   "cell_type": "code",
   "execution_count": 32,
   "id": "commercial-polyester",
   "metadata": {},
   "outputs": [],
   "source": [
    "yjs = [28., 8., -3., 7., -1., 1., 18., 12.]\n",
    "sigjs = [15., 10., 16., 11., 9., 11., 10., 18.]"
   ]
  },
  {
   "cell_type": "code",
   "execution_count": 33,
   "id": "super-laundry",
   "metadata": {},
   "outputs": [],
   "source": [
    "y = np.zeros(x.shape)"
   ]
  },
  {
   "cell_type": "code",
   "execution_count": 40,
   "id": "atlantic-needle",
   "metadata": {},
   "outputs": [],
   "source": [
    "y = logtau_postr_dens(x, sigjs, yjs)\n",
    "taudens = np.exp(y-y.max())"
   ]
  },
  {
   "cell_type": "code",
   "execution_count": 41,
   "id": "headed-casino",
   "metadata": {},
   "outputs": [
    {
     "data": {
      "text/plain": [
       "<matplotlib.collections.PathCollection at 0x7f95df616e48>"
      ]
     },
     "execution_count": 41,
     "metadata": {},
     "output_type": "execute_result"
    },
    {
     "data": {
      "image/png": "[encoded data removed]",
      "text/plain": [
       "<Figure size 432x288 with 1 Axes>"
      ]
     },
     "metadata": {
      "needs_background": "light"
     },
     "output_type": "display_data"
    }
   ],
   "source": [
    "plt.scatter(x, taudens)"
   ]
  },
  {
   "cell_type": "code",
   "execution_count": 43,
   "id": "rocky-governor",
   "metadata": {},
   "outputs": [],
   "source": [
    "# normalize on our grid\n",
    "taudens = taudens / taudens.sum()"
   ]
  },
  {
   "cell_type": "code",
   "execution_count": 47,
   "id": "satisfied-reduction",
   "metadata": {},
   "outputs": [],
   "source": [
    "# Approximate the CDF on our grid:\n",
    "taucdf = np.zeros(taudens.shape)\n",
    "for ii in range(len(taucdf)):\n",
    "    taucdf[ii] = sum(taudens[:ii])"
   ]
  },
  {
   "cell_type": "code",
   "execution_count": 48,
   "id": "average-interest",
   "metadata": {},
   "outputs": [
    {
     "data": {
      "text/plain": [
       "<matplotlib.collections.PathCollection at 0x7f95df960e10>"
      ]
     },
     "execution_count": 48,
     "metadata": {},
     "output_type": "execute_result"
    },
    {
     "data": {
      "image/png": "[encoded data removed]",
      "text/plain": [
       "<Figure size 432x288 with 1 Axes>"
      ]
     },
     "metadata": {
      "needs_background": "light"
     },
     "output_type": "display_data"
    }
   ],
   "source": [
    "plt.scatter(x, taucdf)"
   ]
  },
  {
   "cell_type": "code",
   "execution_count": 76,
   "id": "continent-blast",
   "metadata": {},
   "outputs": [],
   "source": [
    "def randomtau(x, taucdf):\n",
    "    # quick approach\n",
    "    # return first tau for which a \n",
    "    # uniform random is greater than CDF\n",
    "    U = np.random.uniform()\n",
    "    tau = x[np.argmax(taucdf > U)]\n",
    "    return tau"
   ]
  },
  {
   "cell_type": "code",
   "execution_count": 84,
   "id": "sunset-muslim",
   "metadata": {},
   "outputs": [],
   "source": [
    "taus = np.zeros(1000)"
   ]
  },
  {
   "cell_type": "code",
   "execution_count": 85,
   "id": "second-london",
   "metadata": {},
   "outputs": [],
   "source": [
    "for ii in range(len(taus)):\n",
    "    taus[ii] = randomtau(x, taucdf)"
   ]
  },
  {
   "cell_type": "code",
   "execution_count": 87,
   "id": "seventh-gazette",
   "metadata": {},
   "outputs": [
    {
     "data": {
      "text/plain": [
       "(array([ 304.,  277.,  166.,  111.,   64.,   41.,   24.,    6.,    2.,    5.]),\n",
       " array([  0.03003003,   2.96696697,   5.9039039 ,   8.84084084,\n",
       "         11.77777778,  14.71471471,  17.65165165,  20.58858859,\n",
       "         23.52552553,  26.46246246,  29.3993994 ]),\n",
       " <a list of 10 Patch objects>)"
      ]
     },
     "execution_count": 87,
     "metadata": {},
     "output_type": "execute_result"
    },
    {
     "data": {
      "image/png": "[encoded data removed]",
      "text/plain": [
       "<Figure size 432x288 with 1 Axes>"
      ]
     },
     "metadata": {
      "needs_background": "light"
     },
     "output_type": "display_data"
    }
   ],
   "source": [
    "plt.hist(taus)"
   ]
  },
  {
   "cell_type": "code",
   "execution_count": 90,
   "id": "advance-prison",
   "metadata": {},
   "outputs": [],
   "source": [
    "# simulate the density of mu conditioned on tau:\n",
    "def randommu(t, sigjs, yjs):\n",
    "    def getmuhat(t, sigjs, yjs):\n",
    "        muhat = 0.\n",
    "        for ii, sigj in enumerate(sigjs):\n",
    "            muhat += yjs[ii]/(sigj**2.+t**2.)\n",
    "        muhat = muhat / getVmuinv(sigjs, t)\n",
    "        return muhat\n",
    "    def getVmuinv(sigjs, t):\n",
    "        Vmuinv = 0.\n",
    "        for sigj in sigjs:\n",
    "            Vmuinv += 1./(sigj**2.+t**2.)\n",
    "        return Vmuinv\n",
    "    muhat = getmuhat(t, sigjs, yjs)\n",
    "    Vmu = 1./getVmuinv(sigjs, t)\n",
    "    mu = np.random.normal(loc=muhat, scale=np.sqrt(Vmu))\n",
    "    return mu"
   ]
  },
  {
   "cell_type": "code",
   "execution_count": 91,
   "id": "photographic-cooler",
   "metadata": {},
   "outputs": [],
   "source": [
    "mus = np.zeros(taus.shape)\n",
    "for ii, tau in enumerate(taus):\n",
    "    mus[ii] = randommu(tau, sigjs, yjs)"
   ]
  },
  {
   "cell_type": "code",
   "execution_count": 93,
   "id": "downtown-truck",
   "metadata": {},
   "outputs": [
    {
     "data": {
      "text/plain": [
       "(array([   2.,    8.,   43.,  147.,  313.,  311.,  134.,   30.,   11.,    1.]),\n",
       " array([-12.7909827 ,  -8.6800721 ,  -4.56916151,  -0.45825091,\n",
       "          3.65265968,   7.76357028,  11.87448087,  15.98539147,\n",
       "         20.09630207,  24.20721266,  28.31812326]),\n",
       " <a list of 10 Patch objects>)"
      ]
     },
     "execution_count": 93,
     "metadata": {},
     "output_type": "execute_result"
    },
    {
     "data": {
      "image/png": "[encoded data removed]",
      "text/plain": [
       "<Figure size 432x288 with 1 Axes>"
      ]
     },
     "metadata": {
      "needs_background": "light"
     },
     "output_type": "display_data"
    }
   ],
   "source": [
    "plt.hist(mus)"
   ]
  },
  {
   "cell_type": "code",
   "execution_count": 96,
   "id": "behavioral-george",
   "metadata": {},
   "outputs": [],
   "source": [
    "# simulate the density of the thetas conditioned on mu, tau:\n",
    "def randomthetas(mu, t, sigjs, yjs):\n",
    "    def getthetahats(mu, t, sigjs, yjs, Vjs):\n",
    "        thetahats = np.zeros(len(sigjs))\n",
    "        for ii, sigj in enumerate(sigjs):\n",
    "            thetahats[ii] = (yjs[ii]/sigjs[ii]**2.+mu/t**2.)/\\\n",
    "              (1./sigjs[ii]**2.+1./t**2.)\n",
    "        return thetahats\n",
    "    def getVjs(sigjs, t):\n",
    "        Vjs = np.zeros(len(sigjs))\n",
    "        for ii in range(len(sigjs)):\n",
    "            Vjs[ii] = 1./((1./sigjs[ii]**2.)+(1./t**2.))\n",
    "        return Vjs\n",
    "    Vjs = getVjs(sigjs, t)\n",
    "    thetahats = getthetahats(mu, t, sigjs, yjs, Vjs)\n",
    "    thetas = np.zeros(thetahats.size)\n",
    "    for ii, thetahat in enumerate(thetahats):\n",
    "        thetas[ii] = np.random.normal(loc=thetahat, \n",
    "                                      scale=np.sqrt(Vjs[ii]))\n",
    "    return thetas"
   ]
  },
  {
   "cell_type": "code",
   "execution_count": 98,
   "id": "corporate-arena",
   "metadata": {},
   "outputs": [],
   "source": [
    "thetas = []\n",
    "for ii, tau in enumerate(taus):\n",
    "    thetas.append(randomthetas(mus[ii], tau, sigjs, yjs))"
   ]
  },
  {
   "cell_type": "code",
   "execution_count": 100,
   "id": "reserved-simulation",
   "metadata": {},
   "outputs": [
    {
     "data": {
      "text/plain": [
       "(array([   6.,   40.,  131.,  325.,  269.,  131.,   59.,   21.,   13.,    5.]),\n",
       " array([-12.43416604,  -6.73707428,  -1.03998251,   4.65710925,\n",
       "         10.35420101,  16.05129277,  21.74838453,  27.44547629,\n",
       "         33.14256805,  38.83965981,  44.53675157]),\n",
       " <a list of 10 Patch objects>)"
      ]
     },
     "execution_count": 100,
     "metadata": {},
     "output_type": "execute_result"
    },
    {
     "data": {
      "image/png": "[encoded data removed]",
      "text/plain": [
       "<Figure size 432x288 with 1 Axes>"
      ]
     },
     "metadata": {
      "needs_background": "light"
     },
     "output_type": "display_data"
    }
   ],
   "source": [
    "plt.hist([t[0] for t in thetas])"
   ]
  },
  {
   "cell_type": "markdown",
   "id": "related-precipitation",
   "metadata": {},
   "source": [
    "Now we are in a position to calculate:\n",
    "\n",
    "   (i) for each school j, the probability that its coaching program is the best of the eight; and \n",
    "    \n",
    "   (ii) for each pair of schools, j and k, the probability that the coaching program in school j is better than that in school k."
   ]
  },
  {
   "cell_type": "code",
   "execution_count": 160,
   "id": "pacific-tongue",
   "metadata": {},
   "outputs": [
    {
     "name": "stdout",
     "output_type": "stream",
     "text": [
      "School\t\tProbability that coaching program is best\n",
      "A\t\t25.7%\n",
      "B\t\t12.3%\n",
      "C\t\t8.1%\n",
      "D\t\t10.3%\n",
      "E\t\t5.7%\n",
      "F\t\t6.7%\n",
      "G\t\t18.8%\n",
      "H\t\t12.4%\n"
     ]
    }
   ],
   "source": [
    "# Calculate the proportion of the simulation that each school was the best\n",
    "best = np.zeros(8)\n",
    "for sc in range(8):\n",
    "    for theta in thetas:\n",
    "        best[np.argmax(theta)] += 1\n",
    "# normalize so that the sum adds to 1\n",
    "best = best/best.sum()\n",
    "print(\"School\\t\\tProbability that coaching program is best\")\n",
    "for ii, sc in enumerate(best):\n",
    "    print(\"{0}\\t\\t{1}%\".format(\"ABCDEFGH\"[ii], np.around(sc*100, 1)))"
   ]
  },
  {
   "cell_type": "code",
   "execution_count": 109,
   "id": "hairy-hello",
   "metadata": {},
   "outputs": [
    {
     "data": {
      "text/plain": [
       "6"
      ]
     },
     "execution_count": 109,
     "metadata": {},
     "output_type": "execute_result"
    }
   ],
   "source": [
    "np.argmax(thetas[2])"
   ]
  },
  {
   "cell_type": "code",
   "execution_count": 161,
   "id": "adverse-plastic",
   "metadata": {},
   "outputs": [
    {
     "name": "stdout",
     "output_type": "stream",
     "text": [
      "Probability that school A's coaching program is better than that for school\n",
      "\tB:\t63.4%\n",
      "\tC:\t67.5%\n",
      "\tD:\t65.7%\n",
      "\tE:\t72.7%\n",
      "\tF:\t68.9%\n",
      "\tG:\t53.8%\n",
      "\tH:\t62.2%\n",
      "Probability that school B's coaching program is better than that for school\n",
      "\tA:\t36.6%\n",
      "\tC:\t56.4%\n",
      "\tD:\t51.2%\n",
      "\tE:\t61.4%\n",
      "\tF:\t58.1%\n",
      "\tG:\t38.5%\n",
      "\tH:\t48.8%\n",
      "Probability that school C's coaching program is better than that for school\n",
      "\tA:\t32.5%\n",
      "\tB:\t43.6%\n",
      "\tD:\t44.4%\n",
      "\tE:\t55.5%\n",
      "\tF:\t50.8%\n",
      "\tG:\t32.5%\n",
      "\tH:\t44.1%\n",
      "Probability that school D's coaching program is better than that for school\n",
      "\tA:\t34.3%\n",
      "\tB:\t48.8%\n",
      "\tC:\t55.6%\n",
      "\tE:\t60.4%\n",
      "\tF:\t57.7%\n",
      "\tG:\t37.2%\n",
      "\tH:\t48.3%\n",
      "Probability that school E's coaching program is better than that for school\n",
      "\tA:\t27.3%\n",
      "\tB:\t38.6%\n",
      "\tC:\t44.5%\n",
      "\tD:\t39.6%\n",
      "\tF:\t43.5%\n",
      "\tG:\t26.9%\n",
      "\tH:\t37.1%\n",
      "Probability that school F's coaching program is better than that for school\n",
      "\tA:\t31.1%\n",
      "\tB:\t41.9%\n",
      "\tC:\t49.2%\n",
      "\tD:\t42.3%\n",
      "\tE:\t56.5%\n",
      "\tG:\t31.2%\n",
      "\tH:\t43.1%\n",
      "Probability that school G's coaching program is better than that for school\n",
      "\tA:\t46.2%\n",
      "\tB:\t61.5%\n",
      "\tC:\t67.5%\n",
      "\tD:\t62.8%\n",
      "\tE:\t73.1%\n",
      "\tF:\t68.8%\n",
      "\tH:\t60.5%\n",
      "Probability that school H's coaching program is better than that for school\n",
      "\tA:\t37.8%\n",
      "\tB:\t51.2%\n",
      "\tC:\t55.9%\n",
      "\tD:\t51.7%\n",
      "\tE:\t62.9%\n",
      "\tF:\t56.9%\n",
      "\tG:\t39.5%\n"
     ]
    }
   ],
   "source": [
    "for j in range(8):\n",
    "    print(\"Probability that school {0}'s coaching program is better than that for school\".format(\"ABCDEFGH\"[j]))\n",
    "    for k in range(0, 8):\n",
    "        if j != k:\n",
    "            print(\"\\t{0}:\\t{1}%\"\\\n",
    "             .format(\"ABCDEFGH\"[k], \\\n",
    "                     100.*sum([t[j] > t[k] for t in thetas])/len(thetas)))"
   ]
  },
  {
   "cell_type": "markdown",
   "id": "stainless-letter",
   "metadata": {},
   "source": [
    "(b)\n",
    "\n",
    "With $\\tau$ set to $\\infty$ the conditional posterior distribution for $\\hat{\\theta}_{j}$s is no longer a function of $\\mu$ or $\\tau$, and equations (5.17) simplify to:\n",
    "\n",
    "$\\theta_{j}|y \\sim \\mathcal{N}(\\bar{y}_{.j}, \\sigma_j^{2})$."
   ]
  },
  {
   "cell_type": "code",
   "execution_count": 170,
   "id": "novel-scanner",
   "metadata": {},
   "outputs": [],
   "source": [
    "thetas_b = []"
   ]
  },
  {
   "cell_type": "code",
   "execution_count": 171,
   "id": "thermal-reform",
   "metadata": {},
   "outputs": [],
   "source": [
    "for ii in range(1000):\n",
    "    thetas_b.append([np.random.normal(loc=yjs[jj], scale=sigjs[jj]) \\\n",
    "                     for jj in range(8)])"
   ]
  },
  {
   "cell_type": "code",
   "execution_count": 174,
   "id": "renewable-giant",
   "metadata": {},
   "outputs": [
    {
     "name": "stdout",
     "output_type": "stream",
     "text": [
      "School\t\tProbability that coaching program is best\n",
      "A\t\t56.9%\n",
      "B\t\t3.5%\n",
      "C\t\t2.9%\n",
      "D\t\t2.5%\n",
      "E\t\t0.0%\n",
      "F\t\t1.6%\n",
      "G\t\t17.3%\n",
      "H\t\t15.3%\n"
     ]
    }
   ],
   "source": [
    "# Calculate the proportion of the simulation that each school was the best\n",
    "best = np.zeros(8)\n",
    "for sc in range(8):\n",
    "    for theta in thetas_b:\n",
    "        best[np.argmax(theta)] += 1\n",
    "# normalize so that the sum adds to 1\n",
    "best = best/best.sum()\n",
    "print(\"School\\t\\tProbability that coaching program is best\")\n",
    "for ii, sc in enumerate(best):\n",
    "    print(\"{0}\\t\\t{1}%\".format(\"ABCDEFGH\"[ii], np.around(sc*100, 1)))"
   ]
  },
  {
   "cell_type": "code",
   "execution_count": 175,
   "id": "caroline-pulse",
   "metadata": {},
   "outputs": [
    {
     "name": "stdout",
     "output_type": "stream",
     "text": [
      "Probability that school A's coaching program is better than that for school\n",
      "\tB:\t86.6%\n",
      "\tC:\t92.3%\n",
      "\tD:\t87.7%\n",
      "\tE:\t95.3%\n",
      "\tF:\t91.8%\n",
      "\tG:\t70.3%\n",
      "\tH:\t77.5%\n",
      "Probability that school B's coaching program is better than that for school\n",
      "\tA:\t13.4%\n",
      "\tC:\t72.1%\n",
      "\tD:\t54.2%\n",
      "\tE:\t76.8%\n",
      "\tF:\t67.1%\n",
      "\tG:\t23.1%\n",
      "\tH:\t43.0%\n",
      "Probability that school C's coaching program is better than that for school\n",
      "\tA:\t7.7%\n",
      "\tB:\t27.9%\n",
      "\tD:\t29.4%\n",
      "\tE:\t44.8%\n",
      "\tF:\t41.7%\n",
      "\tG:\t12.5%\n",
      "\tH:\t27.1%\n",
      "Probability that school D's coaching program is better than that for school\n",
      "\tA:\t12.3%\n",
      "\tB:\t45.8%\n",
      "\tC:\t70.6%\n",
      "\tE:\t71.7%\n",
      "\tF:\t63.2%\n",
      "\tG:\t20.9%\n",
      "\tH:\t39.2%\n",
      "Probability that school E's coaching program is better than that for school\n",
      "\tA:\t4.7%\n",
      "\tB:\t23.2%\n",
      "\tC:\t55.2%\n",
      "\tD:\t28.3%\n",
      "\tF:\t41.7%\n",
      "\tG:\t5.7%\n",
      "\tH:\t25.1%\n",
      "Probability that school F's coaching program is better than that for school\n",
      "\tA:\t8.2%\n",
      "\tB:\t32.9%\n",
      "\tC:\t58.3%\n",
      "\tD:\t36.8%\n",
      "\tE:\t58.3%\n",
      "\tG:\t12.8%\n",
      "\tH:\t30.7%\n",
      "Probability that school G's coaching program is better than that for school\n",
      "\tA:\t29.7%\n",
      "\tB:\t76.9%\n",
      "\tC:\t87.5%\n",
      "\tD:\t79.1%\n",
      "\tE:\t94.3%\n",
      "\tF:\t87.2%\n",
      "\tH:\t64.1%\n",
      "Probability that school H's coaching program is better than that for school\n",
      "\tA:\t22.5%\n",
      "\tB:\t57.0%\n",
      "\tC:\t72.9%\n",
      "\tD:\t60.8%\n",
      "\tE:\t74.9%\n",
      "\tF:\t69.3%\n",
      "\tG:\t35.9%\n"
     ]
    }
   ],
   "source": [
    "for j in range(8):\n",
    "    print(\"Probability that school {0}'s coaching program is better than that for school\".format(\"ABCDEFGH\"[j]))\n",
    "    for k in range(0, 8):\n",
    "        if j != k:\n",
    "            print(\"\\t{0}:\\t{1}%\"\\\n",
    "             .format(\"ABCDEFGH\"[k], \\\n",
    "                     100.*sum([t[j] > t[k] for t in thetas_b])/len(thetas_b)))"
   ]
  },
  {
   "cell_type": "markdown",
   "id": "legendary-charter",
   "metadata": {},
   "source": [
    "The pairwise probabilities can be calculated analytically:\n",
    "\n",
    "$Pr(\\theta_{j} > \\theta_{k}) = \\frac{\\Phi(\\bar{y}_j - \\bar{y}_k)}{\\sqrt{\\sigma_j^2 + \\sigma_k^2}}$"
   ]
  },
  {
   "cell_type": "code",
   "execution_count": 176,
   "id": "blond-technician",
   "metadata": {},
   "outputs": [],
   "source": [
    "from scipy.stats import norm"
   ]
  },
  {
   "cell_type": "code",
   "execution_count": 200,
   "id": "honest-uncle",
   "metadata": {},
   "outputs": [
    {
     "name": "stdout",
     "output_type": "stream",
     "text": [
      "Analytical probability that school A's coaching program is better than that for school\n",
      "\tB:\t86.6%\n",
      "\tC:\t92.1%\n",
      "\tD:\t87.1%\n",
      "\tE:\t95.1%\n",
      "\tF:\t92.7%\n",
      "\tG:\t71.0%\n",
      "\tH:\t75.3%\n",
      "Analytical probability that school B's coaching program is better than that for school\n",
      "\tA:\t13.4%\n",
      "\tC:\t72.0%\n",
      "\tD:\t52.7%\n",
      "\tE:\t74.8%\n",
      "\tF:\t68.1%\n",
      "\tG:\t24.0%\n",
      "\tH:\t42.3%\n",
      "Analytical probability that school C's coaching program is better than that for school\n",
      "\tA:\t7.9%\n",
      "\tB:\t28.0%\n",
      "\tD:\t30.3%\n",
      "\tE:\t45.7%\n",
      "\tF:\t41.8%\n",
      "\tG:\t13.3%\n",
      "\tH:\t26.7%\n",
      "Analytical probability that school D's coaching program is better than that for school\n",
      "\tA:\t12.9%\n",
      "\tB:\t47.3%\n",
      "\tC:\t69.7%\n",
      "\tE:\t71.3%\n",
      "\tF:\t65.0%\n",
      "\tG:\t23.0%\n",
      "\tH:\t40.6%\n",
      "Analytical probability that school E's coaching program is better than that for school\n",
      "\tA:\t4.9%\n",
      "\tB:\t25.2%\n",
      "\tC:\t54.3%\n",
      "\tD:\t28.7%\n",
      "\tF:\t44.4%\n",
      "\tG:\t7.9%\n",
      "\tH:\t25.9%\n",
      "Analytical probability that school F's coaching program is better than that for school\n",
      "\tA:\t7.3%\n",
      "\tB:\t31.9%\n",
      "\tC:\t58.2%\n",
      "\tD:\t35.0%\n",
      "\tE:\t55.6%\n",
      "\tG:\t12.6%\n",
      "\tH:\t30.1%\n",
      "Analytical probability that school G's coaching program is better than that for school\n",
      "\tA:\t29.0%\n",
      "\tB:\t76.0%\n",
      "\tC:\t86.7%\n",
      "\tD:\t77.0%\n",
      "\tE:\t92.1%\n",
      "\tF:\t87.4%\n",
      "\tH:\t61.5%\n",
      "Analytical probability that school H's coaching program is better than that for school\n",
      "\tA:\t24.7%\n",
      "\tB:\t57.7%\n",
      "\tC:\t73.3%\n",
      "\tD:\t59.4%\n",
      "\tE:\t74.1%\n",
      "\tF:\t69.9%\n",
      "\tG:\t38.5%\n"
     ]
    }
   ],
   "source": [
    "for j in range(8):\n",
    "    print(\"Analytical probability that school {0}'s coaching program is better than that for school\".format(\"ABCDEFGH\"[j]))\n",
    "    for k in range(0, 8):\n",
    "        if j != k:\n",
    "            print(\"\\t{0}:\\t{1:.1f}%\"\\\n",
    "             .format(\"ABCDEFGH\"[k], \\\n",
    "                     100.*norm.cdf((yjs[j]-yjs[k])/np.sqrt(sigjs[j]**2.+sigjs[k]**2.))))"
   ]
  },
  {
   "cell_type": "markdown",
   "id": "defined-filename",
   "metadata": {},
   "source": [
    "(c)\n",
    "\n",
    "The results for which $\\tau$ was set to infinity make firmer conclusions on the basis of the data, e.g., in that case school A has a greater than 50% chance of being the best school outright, whereas in the case where a finite $\\tau$ was included the corresponding probability is ~25%.  Similarly the probability that school E is the best is reduced by an order of magnitude when $\\tau$ is set to infinity.\n",
    "\n",
    "The hierarchical model in general reduces the \"extreme\" conclusions that the $\\tau \\rightarrow \\infty$ model draw.\n",
    "\n",
    "It is also possible for the pairwise comparisons to swap with respect to which is more likely to be the best.  See for example schools C and E; school C's program is predicted better than school E's for the hierarchichal model, whereas school E's is predicted better than C's for the $\\tau \\rightarrow \\infty$ case."
   ]
  },
  {
   "cell_type": "markdown",
   "id": "cognitive-morning",
   "metadata": {},
   "source": [
    "(d)\n",
    "\n",
    "At $\\tau = 0$ the experiments are all inferred to have the same size effect, 7.7 points, and the same standard error, 4.1 points.\n",
    "\n",
    "Hence there are degenerate values for the probabilities calculated above: 100%/8 = 12.5% probability that each school is the best overall, and 50% probability for the pairwise probabilities."
   ]
  },
  {
   "cell_type": "markdown",
   "id": "pregnant-impossible",
   "metadata": {},
   "source": [
    "### 4. Exchangeable prior distributions\n",
    "Suppose it is known a priori that the 2J parameters θ1 , . . . , θ2J are clustered into two groups, with exactly half being drawn from a N(1, 1) distribution, and the other half being drawn from a N(−1, 1) distribution, but we have not observed which parameters come from which distribution.\n",
    "\n",
    "(a) Are θ1 , . . . , θ2J exchangeable under this prior distribution?\n",
    "\n",
    "(b) Show that this distribution cannot be written as a mixture of independent and identically distributed components.\n",
    "\n",
    "(c) Why can we not simply take the limit as J → ∞ and get a counter-example to de Finetti’s theorem?"
   ]
  },
  {
   "cell_type": "markdown",
   "id": "distinct-locking",
   "metadata": {},
   "source": [
    "(a)\n",
    "\n",
    "Yes, the $\\theta_{j}$ are exchangeable.  Since we don't know which of the individual $\\theta_{j}$ belong to which of the two groups, exchanging any two of them will not alter the joint probability distribution.\n",
    "\n",
    "(b)\n",
    "\n",
    "The covariance of any pair $\\theta_i, \\theta_j$ is negative; if $\\theta_i$ comes from the one distribution, the probability that $\\theta_j$ comes from the other distribution is increased (since we know that initially there were exactly half in each group).  This implies that the $\\theta_j$ cannot be written as a mixture of two i.i.d. distributions, as the covariance in that case would necessarily be greater than or equal to zero (see question 5 below).\n",
    "\n",
    "(c)\n",
    "\n",
    "If the size of the distrubution is increased to $J \\rightarrow \\infty$, the covariances between the $\\theta_i, \\theta_j \\rightarrow 0$, which means that the joint distribution does approach i.i.d.  This can be understood as being a consequence of the fact that when the size of the two distributions are both infinite, it is no more likely that a the second picked $\\theta_j$ comes from the other distribution with respect to the first."
   ]
  },
  {
   "cell_type": "markdown",
   "id": "universal-plate",
   "metadata": {},
   "source": [
    "### 5. Mixtures of independent distributions\n",
    "Suppose the distribution of θ = (θ1, . . . , θJ ) can be written as a mixture of independent and identically distributed components:\n",
    "\n",
    "$p(\\theta) = \\int \\prod_{j=1}^J p(\\theta_j|\\phi)p(\\phi)d\\phi$\n",
    "\n",
    "Prove that the covariances cov(θi,θj) are all nonnegative."
   ]
  },
  {
   "cell_type": "markdown",
   "id": "polish-guinea",
   "metadata": {},
   "source": [
    "From equation (1.9), we have:\n",
    "    \n",
    "$cov(\\theta_i, \\theta_j) = E(cov(\\theta_i, \\theta_j | \\phi)) + cov(E(\\theta_i|\\phi),E(\\theta_j|\\phi))$.\n",
    "\n",
    "The $\\theta_j$ are conditionally independent, so $E(cov(\\theta_i, \\theta_j | \\phi)) = 0$.\n",
    "\n",
    "Also, $E(\\theta_i|\\phi) = E(\\theta_j|\\phi) = \\mu(\\phi)$, say.\n",
    "\n",
    "So \n",
    "\n",
    "$cov(\\theta_i, \\theta_j) = cov(\\mu(\\phi), \\mu(\\phi)) = var(\\mu(\\phi))$.\n",
    "\n",
    "This quantity must be $\\geq 0$, since variance cannot be negative."
   ]
  },
  {
   "cell_type": "markdown",
   "id": "approved-panama",
   "metadata": {},
   "source": [
    "### 7. Continuous mixture models\n",
    "\n",
    "(a) If y|θ ∼ Poisson(θ), and θ ∼ Gamma(α,β), then the marginal (prior predictive) distribution of y is negative binomial with parameters α and β (or p = β/(1 + β)). Use the formulas (2.7) and (2.8) to derive the mean and variance of the negative binomial.\n",
    "\n",
    "\n",
    "(b) In the normal model with unknown location and scale (μ,σ2), the noninformative prior density, p(μ, σ2) ∝ 1/σ2, results in a normal-inverse-χ2 posterior distribution for (μ, σ2).\n",
    "\n",
    "Marginally then $\\sqrt{n}(\\mu - \\bar{y})/s$ has a posterior distribution that is $t_{n-1}$.\n",
    "\n",
    "Use  (2.7) and (2.8) to derive the first two moments of the latter distribution, stating the appropriate condition on n for existence of both moments."
   ]
  },
  {
   "cell_type": "markdown",
   "id": "coral-whale",
   "metadata": {},
   "source": [
    "(a) \n",
    "\n",
    "The mean and binomial of the negative binomial are:\n",
    "\n",
    "$E(\\theta) = \\frac{\\alpha}{\\beta}$,\n",
    "\n",
    "var$(\\theta) = \\frac{\\alpha}{\\beta^2}(\\beta+1)$.\n",
    "\n",
    "Formulas (2.7) and (2.8) are (switching the $y$ and $\\theta$ variables):\n",
    "\n",
    "$E(y) = E(E(y|\\theta))$,\n",
    "\n",
    "$var(y) = E(var(y|\\theta)) + var(E(y|\\theta))$."
   ]
  },
  {
   "cell_type": "markdown",
   "id": "offensive-glory",
   "metadata": {},
   "source": [
    "$y|\\theta \\sim Poisson(\\theta) \\implies P(y|\\theta)=\\frac{\\theta^ye^{-\\theta}}{y!}$, which has mean and variance both equal to $\\theta$, i.e., both $E(y|\\theta)$ and $var(y|\\theta)$ are equal to $\\theta$."
   ]
  },
  {
   "cell_type": "markdown",
   "id": "intimate-forest",
   "metadata": {},
   "source": [
    "So \n",
    "\n",
    "$E(y) = E(\\theta) = E(Gamma(\\alpha, \\beta)) = \\frac{\\alpha}{\\beta}$, and\n",
    "\n",
    "$var(y) = E(\\theta) + var(\\theta) = E(Gamma(\\alpha, \\beta)) + var(Gamma(\\alpha, \\beta)) = \\frac{\\alpha}{\\beta} + \\frac{\\alpha}{\\beta^2} = \\frac{\\alpha}{\\beta^2}(\\beta+1)$"
   ]
  },
  {
   "cell_type": "markdown",
   "id": "dedicated-acrobat",
   "metadata": {},
   "source": [
    "(b)\n",
    "\n",
    "The form of the $t_\\nu$ distribution is:\n",
    "\n",
    "$p(\\theta) = \\frac{\\Gamma((\\nu+1)/2)}{\\Gamma(\\nu/2)\\sqrt{\\nu\\pi\\sigma}}(1+\\frac{1}{\\nu}(\\frac{\\theta-\\mu}{\\sigma})^2)^{-(\\nu+1)/2}$, so that\n",
    "\n",
    "$p(\\sqrt{n}(\\mu - \\bar{y})/s|\\sigma^2, y) = \\frac{\\Gamma(n/2)}{\\Gamma((n-1)/2)\\sqrt{(n-1)\\pi\\sigma}}(1+\\frac{1}{n-1}(\\frac{(\\sqrt{n}(\\mu - \\bar{y})/s)-\\mu}{\\sigma})^2)^{-n/2}$,\n",
    "\n",
    "where we are conditioning on $\\sigma^2$ per (3.3), and treating $\\bar{y}$, $s$, and $n$ as constants."
   ]
  },
  {
   "cell_type": "markdown",
   "id": "statistical-scratch",
   "metadata": {},
   "source": [
    "(2.7) then gives us that\n",
    "\n",
    "$E(\\sqrt{n}(\\mu - \\bar{y})/s|y) = E(E(\\sqrt{n}(\\mu - \\bar{y})/s|\\sigma^2, y)|y) = E((\\sqrt{n}/s)E(\\mu-\\bar{y}|\\sigma^2, y)|y) = E((\\sqrt{n}/s)\\times0)|y) = E(0|y) = 0.$\n",
    "\n",
    "for $n-1>1$, i.e., for $n>2$."
   ]
  },
  {
   "cell_type": "markdown",
   "id": "congressional-frank",
   "metadata": {},
   "source": [
    "(2.8) gives us that\n",
    "\n",
    "$var(\\sqrt{n}(\\mu-\\bar{y})/s|y) = E(var(\\sqrt{n}(\\mu-\\bar{y})/s|\\sigma^2, y)|y) + var(E(\\sqrt{n}(\\mu-\\bar{y})/s|\\sigma^2, y)|y) = E(var(\\sqrt{n}(\\mu-\\bar{y})/s|\\sigma^2, y)|y),$\n",
    "\n",
    "since $var(E(\\sqrt{n}(\\mu-\\bar{y})/s|\\sigma^2, y)|y) = 0$.\n",
    "\n",
    "Since\n",
    "\n",
    "$var(AX + B) = A^2 var X$ for random variable $X$,\n",
    "\n",
    "We have that\n",
    "\n",
    "$E(var(\\sqrt{n}(\\mu-\\bar{y})/s|\\sigma^2, y)|y) = $\n",
    "$E(n/s^2var(\\mu|\\sigma^2, y)|y),$\n",
    "\n",
    "which, using (3.3) is\n",
    "\n",
    "$E(n/s^2\\sigma^2/n|y) = E(\\sigma^2/s^2|y) = E(\\sigma^2|y)/s^2.$\n",
    "\n",
    "(3.5) tells us that \n",
    "\n",
    "$\\sigma^2|y \\sim Inv-\\chi^2(n-1, s^2)$, meaning\n",
    "\n",
    "$var(\\sqrt{n}(\\mu-\\bar{y})/s|y) = 1/s^2 E(Inv-\\chi^2(n-1, s^2)),$\n",
    "\n",
    "which from Appendix A we know is\n",
    "\n",
    "$1/s^2\\frac{n-1}{n-3}s^2 = \\frac{n-1}{n-3}$.\n",
    "\n",
    "This must have $n \\gt 3$ to be defined."
   ]
  },
  {
   "cell_type": "markdown",
   "id": "suspected-arbor",
   "metadata": {},
   "source": [
    "### 8. Discrete mixture models\n",
    "\n",
    "If pm(θ), for m = 1,...,M, are conjugate prior densities for the sampling model y|θ, show that the class of finite mixture prior densities given by\n",
    "\n",
    "$P(\\theta) = \\sum_{m=1}^{M}\\lambda_mP_m(\\theta)$\n",
    "\n",
    "is also a conjugate class, where the λm’s are nonnegative weights that sum to 1. This can provide a useful extension of the natural conjugate prior family to more flexible distributional forms. As an example, use the mixture form to create a bimodal prior density for a normal mean, that is thought to be near 1, with a standard deviation of 0.5, but has a small probability of being near −1, with the same standard deviation. If the variance of each observation y1, . . . , y10 is known to be 1, and their observed mean is y = −0.25, derive your posterior distribution for the mean, making a sketch of both prior and posterior densities. Be careful: the prior and posterior mixture proportions are different."
   ]
  },
  {
   "cell_type": "markdown",
   "id": "endless-tutorial",
   "metadata": {},
   "source": [
    "We have that\n",
    "\n",
    "$p_m(\\theta|y) = \\frac{p_m(\\theta)p(y|\\theta)}{p_m(y)},$\n",
    "\n",
    "where $p_m(y)$ is the prior predictive distribution for the prior $p_m(\\theta)$.\n",
    "\n",
    "So\n",
    "\n",
    "$p(\\theta|y) \\propto \\sum_m \\lambda_m p_m(\\theta) p(y|\\theta)$\n",
    "\n",
    "$= \\sum_m \\lambda_m p_m(y) p_m(\\theta|y),$\n",
    "\n",
    "i.e., the posterior distribution is proportional to a sum of the $m$ posterior distributions associated with the priors $p_m(\\theta)$, with weights given by the products of the $\\lambda_m$ weights and the prior predictive distributions.\n",
    "\n",
    "Since the $p_m(\\theta)$ were all conjugate, this shows that the prior defined as their mixture is also conjugate, producing a posterior which is a mixture of the m corresponding posteriors."
   ]
  },
  {
   "cell_type": "markdown",
   "id": "pressed-thought",
   "metadata": {},
   "source": [
    "Bimodal prior density with 90% chance of having mean 1, and 10% chance of having mean -1:\n",
    "\n",
    "$\\theta \\sim 0.9\\mathcal{N}(1, 0.5) + 0.1\\mathcal{N}(-1, 0.5)$"
   ]
  },
  {
   "cell_type": "code",
   "execution_count": 8,
   "id": "lucky-bahrain",
   "metadata": {},
   "outputs": [],
   "source": [
    "p1_samples = np.random.normal(loc=1., scale=0.5, size=900)\n",
    "p2_samples = np.random.normal(loc=-1., scale=0.5, size=100)"
   ]
  },
  {
   "cell_type": "code",
   "execution_count": 10,
   "id": "tutorial-christian",
   "metadata": {},
   "outputs": [],
   "source": [
    "mixture_samples = list(p1_samples) + list(p2_samples)"
   ]
  },
  {
   "cell_type": "code",
   "execution_count": 14,
   "id": "controlling-notebook",
   "metadata": {},
   "outputs": [
    {
     "data": {
      "text/plain": [
       "{'bodies': [<matplotlib.collections.PolyCollection at 0x7fbdec4b7dd8>],\n",
       " 'cmaxes': <matplotlib.collections.LineCollection at 0x7fbdec4c1c50>,\n",
       " 'cmins': <matplotlib.collections.LineCollection at 0x7fbdec4d73c8>,\n",
       " 'cbars': <matplotlib.collections.LineCollection at 0x7fbdec4d77f0>}"
      ]
     },
     "execution_count": 14,
     "metadata": {},
     "output_type": "execute_result"
    },
    {
     "data": {
      "image/png": "[encoded data removed]",
      "text/plain": [
       "<Figure size 432x288 with 1 Axes>"
      ]
     },
     "metadata": {
      "needs_background": "light"
     },
     "output_type": "display_data"
    }
   ],
   "source": [
    "plt.violinplot(mixture_samples)"
   ]
  },
  {
   "cell_type": "code",
   "execution_count": 15,
   "id": "italian-execution",
   "metadata": {},
   "outputs": [],
   "source": [
    "mu1 = 1.; mu2 = -1.; std = 0.5"
   ]
  },
  {
   "cell_type": "code",
   "execution_count": 16,
   "id": "greenhouse-bubble",
   "metadata": {},
   "outputs": [],
   "source": [
    "def mixdens(mu1, mu2, std, x, props):\n",
    "    dens = props[0]*1./(np.sqrt(2*np.pi)*std) * \\\n",
    "            np.exp(-(x-mu1)**2./(2.*std**2.)) + \\\n",
    "            props[1]*1./(np.sqrt(2*np.pi)*std) * \\\n",
    "             np.exp(-(x-mu2)**2./(2.*std**2.))\n",
    "    return dens"
   ]
  },
  {
   "cell_type": "code",
   "execution_count": 22,
   "id": "provincial-investor",
   "metadata": {},
   "outputs": [],
   "source": [
    "xs = np.linspace(-2., 2.5, 2000)\n",
    "ys = [mixdens(mu1, mu2, std, x, [0.9, 0.1]) for x in xs]"
   ]
  },
  {
   "cell_type": "markdown",
   "id": "manual-effect",
   "metadata": {},
   "source": [
    "### Prior Density:"
   ]
  },
  {
   "cell_type": "code",
   "execution_count": 25,
   "id": "significant-scotland",
   "metadata": {},
   "outputs": [
    {
     "data": {
      "text/plain": [
       "<matplotlib.collections.PathCollection at 0x7fbdec622358>"
      ]
     },
     "execution_count": 25,
     "metadata": {},
     "output_type": "execute_result"
    },
    {
     "data": {
      "image/png": "[encoded data removed]",
      "text/plain": [
       "<Figure size 432x288 with 1 Axes>"
      ]
     },
     "metadata": {
      "needs_background": "light"
     },
     "output_type": "display_data"
    }
   ],
   "source": [
    "plt.scatter(xs, ys, s=2)"
   ]
  },
  {
   "cell_type": "markdown",
   "id": "behind-parallel",
   "metadata": {},
   "source": [
    "### Data:\n",
    "\n",
    "We have 10 observations, with sample mean -0.25 and sample variance 1.  The prior predictive distributions for this data are:"
   ]
  },
  {
   "cell_type": "code",
   "execution_count": 30,
   "id": "caring-wallace",
   "metadata": {},
   "outputs": [],
   "source": [
    "def Ndens(mu, var, y):\n",
    "    return 1./(np.sqrt(2*np.pi*var)) * np.exp(-(1./2./var)*(y-mu)**2.)"
   ]
  },
  {
   "cell_type": "code",
   "execution_count": 31,
   "id": "fuzzy-energy",
   "metadata": {},
   "outputs": [],
   "source": [
    "ybar = -.25; vary = 1./10\n",
    "mu1 = 1.\n",
    "mu2 = -1."
   ]
  },
  {
   "cell_type": "code",
   "execution_count": 36,
   "id": "virgin-classification",
   "metadata": {},
   "outputs": [
    {
     "name": "stdout",
     "output_type": "stream",
     "text": [
      "p_1(y): 0.0724\n",
      "p_2(y): 0.3019\n"
     ]
    }
   ],
   "source": [
    "print(\"p_1(y): {0:.4f}\".format(Ndens(mu1, (1./2.)**2.+vary, ybar)))\n",
    "print(\"p_2(y): {0:.4f}\".format(Ndens(mu2, (1./2.)**2.+vary, ybar)))"
   ]
  },
  {
   "cell_type": "markdown",
   "id": "plastic-budapest",
   "metadata": {},
   "source": [
    "(2.11) gives us that:\n",
    "\n",
    "$P(\\theta|y) = \\mathcal{N}(\\theta|\\mu_n, \\tau_n^2),$\n",
    "\n",
    "with\n",
    "\n",
    "$\\mu_n = \\frac{\\frac{1}{\\tau_0^2}\\mu_0+\\frac{n}{\\sigma^2}\\bar{y}}{\\frac{1}{\\tau_0^2}+\\frac{n}{\\sigma^2}}$ and \n",
    "$\\frac{1}{\\tau_n^2} = \\frac{1}{\\tau_0^2} + \\frac{n}{\\sigma^2}.$\n",
    "\n",
    "So, with $\\bar{y} = -0.25,$ and $\\sigma^2 = 1,$ and $\\tau_0^2 = 0.5^2,$"
   ]
  },
  {
   "cell_type": "code",
   "execution_count": 39,
   "id": "rental-mattress",
   "metadata": {},
   "outputs": [],
   "source": [
    "var = 1.; tau_0 = 0.5; n = 10"
   ]
  },
  {
   "cell_type": "code",
   "execution_count": 40,
   "id": "tropical-vinyl",
   "metadata": {},
   "outputs": [],
   "source": [
    "mu_n_1 = (1./tau_0**2*mu1+n/var*ybar)/(1./tau_0**2 + n/var)"
   ]
  },
  {
   "cell_type": "code",
   "execution_count": 42,
   "id": "narrow-blues",
   "metadata": {},
   "outputs": [],
   "source": [
    "mu_n_2 = (1./tau_0**2*mu2+n/var*ybar)/(1./tau_0**2 + n/var)"
   ]
  },
  {
   "cell_type": "code",
   "execution_count": 44,
   "id": "endangered-charlotte",
   "metadata": {},
   "outputs": [],
   "source": [
    "tau_n_1 = 1./(1./tau_0**2 + n/var)\n",
    "tau_n_2 = 1./(1./tau_0**2 + n/var)"
   ]
  },
  {
   "cell_type": "code",
   "execution_count": 59,
   "id": "mediterranean-split",
   "metadata": {},
   "outputs": [
    {
     "name": "stdout",
     "output_type": "stream",
     "text": [
      "mu_n_1 = 0.1071\n",
      "mu_n_2 = -0.4643\n",
      "tau_n_1^2 = 0.0714\n",
      "tau_n_2^2 = 0.0714\n"
     ]
    }
   ],
   "source": [
    "print(\"mu_n_1 = {0:.4f}\".format(mu_n_1))\n",
    "print(\"mu_n_2 = {0:.4f}\".format(mu_n_2))\n",
    "print(\"tau_n_1^2 = {0:.4f}\".format(tau_n_1))\n",
    "print(\"tau_n_2^2 = {0:.4f}\".format(tau_n_2))"
   ]
  },
  {
   "cell_type": "markdown",
   "id": "minor-exchange",
   "metadata": {},
   "source": [
    "Our posterior weights must sum to one, so that the individual weights are:\n",
    "\n",
    "$\\frac{\\lambda_m p_k(y)}{\\sum_k \\lambda_k p_k(y)},$\n",
    "\n",
    "giving\n",
    "\n",
    "$\\frac{0.9 \\cdot 0.0724}{0.9 \\cdot 0.0724 + 0.1 \\cdot 0.3019} = 0.683$\n",
    "\n",
    "and\n",
    "\n",
    "$\\frac{0.1 \\cdot 0.3019}{0.9 \\cdot 0.0724 + 0.1 \\cdot 0.3019} = 0.312.$"
   ]
  },
  {
   "cell_type": "markdown",
   "id": "synthetic-update",
   "metadata": {},
   "source": [
    "So that\n",
    "\n",
    "$p(\\theta|y) = 0.683 \\mathcal{N}(\\theta|0.1071, 0.0714) + \n",
    "               0.312 \\mathcal{N}(\\theta|-0.4643, 0.0714).$"
   ]
  },
  {
   "cell_type": "markdown",
   "id": "unusual-march",
   "metadata": {},
   "source": [
    "### Posterior Density:"
   ]
  },
  {
   "cell_type": "code",
   "execution_count": 61,
   "id": "perfect-stationery",
   "metadata": {},
   "outputs": [],
   "source": [
    "xs = np.linspace(-2., 2.5, 2000)\n",
    "ys = [mixdens(0.1071, -0.4643, np.sqrt(0.0714), x, [0.683, 0.312]) for x in xs]"
   ]
  },
  {
   "cell_type": "code",
   "execution_count": 62,
   "id": "historic-level",
   "metadata": {},
   "outputs": [
    {
     "data": {
      "text/plain": [
       "<matplotlib.collections.PathCollection at 0x7fbdec48a780>"
      ]
     },
     "execution_count": 62,
     "metadata": {},
     "output_type": "execute_result"
    },
    {
     "data": {
      "image/png": "[encoded data removed]",
      "text/plain": [
       "<Figure size 432x288 with 1 Axes>"
      ]
     },
     "metadata": {
      "needs_background": "light"
     },
     "output_type": "display_data"
    }
   ],
   "source": [
    "plt.scatter(xs, ys, s=2)"
   ]
  },
  {
   "cell_type": "code",
   "execution_count": null,
   "id": "severe-landing",
   "metadata": {},
   "outputs": [],
   "source": []
  }
 ],
 "metadata": {
  "kernelspec": {
   "display_name": "Python 3",
   "language": "python",
   "name": "python3"
  },
  "language_info": {
   "codemirror_mode": {
    "name": "ipython",
    "version": 3
   },
   "file_extension": ".py",
   "mimetype": "text/x-python",
   "name": "python",
   "nbconvert_exporter": "python",
   "pygments_lexer": "ipython3",
   "version": "3.6.13"
  }
 },
 "nbformat": 4,
 "nbformat_minor": 5
}
