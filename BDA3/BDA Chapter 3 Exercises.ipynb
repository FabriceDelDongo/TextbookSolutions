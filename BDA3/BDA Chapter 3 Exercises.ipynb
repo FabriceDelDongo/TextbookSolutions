{
 "cells": [
  {
   "cell_type": "markdown",
   "id": "tough-efficiency",
   "metadata": {},
   "source": [
    "2. Comparison of two multinomial observations: on September 25, 1988, the evening of a presidential campaign debate, ABC News conducted a survey of registered voters in the United States; 639 persons were polled before the debate, and 639 different persons were polled after. The results are displayed in Table 3.2. Assume the surveys are independent simple random samples from the population of registered voters. Model the data with two different multinomial distributions. For j = 1, 2, let αj be the proportion of voters who preferred Bush, out of those who had a preference for either Bush or Dukakis at the time of survey j. Plot a histogram of the posterior density for α2 − α1. What is the posterior probability that there was a shift toward Bush?\n",
    "\n"
   ]
  },
  {
   "cell_type": "markdown",
   "id": "dramatic-crack",
   "metadata": {},
   "source": [
    "    Survey       Bush      Dukakis       No opinion/other      Total\n",
    "    pre-debate   294       307           38                    639\n",
    "    post-debate  288       332           19                    639"
   ]
  },
  {
   "cell_type": "markdown",
   "id": "ordered-bradley",
   "metadata": {},
   "source": [
    "Modeling the data with two multinomial distributions, using uniform priors on $\\theta_j = (\\theta_{B, j}, \\theta_{D, j}, \\theta_{N, j})$, and labeling the pre- and post-debate surveys as $j$ = 1, 2, respectively, our posterior distributions look like:"
   ]
  },
  {
   "cell_type": "markdown",
   "id": "documented-interface",
   "metadata": {},
   "source": [
    "$P(\\theta_j|y_j)$ = $Dirichlet(y_{B, j}+1, y_{D, j}+1, y_{N, j}+1)$, \n",
    "\n",
    "so that\n",
    "\n",
    "$P(\\theta_1|y_1)$ = $Dirichlet(295, 308, 39)$\n",
    "\n",
    "$P(\\theta_2|y_2)$ = $Dirichlet(289, 333, 20)$"
   ]
  },
  {
   "cell_type": "markdown",
   "id": "formed-casino",
   "metadata": {},
   "source": [
    "This means that our posterior distributions for $\\alpha_1$ and $\\alpha_2$ will be\n",
    "\n",
    "$P(\\alpha_j|y_j)$ = $Beta(y_{B, j}, y_{D, j})$\n",
    "\n",
    "where $\\alpha_j$ = $\\theta_{B, j}/(\\theta_{B, j} + \\theta_{D, j})$.\n",
    "\n",
    "So,\n",
    "\n",
    "$P(\\alpha_1|y_j)$ = $Beta(295, 308)$\n",
    "\n",
    "$P(\\alpha_2|y_j)$ = $Beta(289, 333)$."
   ]
  },
  {
   "cell_type": "markdown",
   "id": "sustainable-tours",
   "metadata": {},
   "source": [
    "To get an idea of the distribution of $\\alpha_2 - \\alpha_1$, we can draw 2000 for each of $\\alpha_1$ and $\\alpha_2$ and plot the distribution of the difference:"
   ]
  },
  {
   "cell_type": "code",
   "execution_count": 1,
   "id": "smoking-rating",
   "metadata": {},
   "outputs": [],
   "source": [
    "from numpy.random import beta"
   ]
  },
  {
   "cell_type": "code",
   "execution_count": 2,
   "id": "preliminary-microwave",
   "metadata": {},
   "outputs": [],
   "source": [
    "a1 = beta(295, 308, size=2000)"
   ]
  },
  {
   "cell_type": "code",
   "execution_count": 3,
   "id": "empirical-plenty",
   "metadata": {},
   "outputs": [],
   "source": [
    "a2 = beta(289, 333, size=2000)"
   ]
  },
  {
   "cell_type": "code",
   "execution_count": 4,
   "id": "dense-vegetable",
   "metadata": {},
   "outputs": [],
   "source": [
    "a2_minus_a1 = [a2[i]-a1[i] for i in range(len(a1))]"
   ]
  },
  {
   "cell_type": "code",
   "execution_count": 5,
   "id": "compound-grade",
   "metadata": {},
   "outputs": [],
   "source": [
    "import matplotlib.pyplot as plt\n",
    "import numpy as np"
   ]
  },
  {
   "cell_type": "code",
   "execution_count": 6,
   "id": "separated-sussex",
   "metadata": {},
   "outputs": [
    {
     "data": {
      "image/png": "[encoded data removed]",
      "text/plain": [
       "<Figure size 432x288 with 1 Axes>"
      ]
     },
     "metadata": {
      "needs_background": "light"
     },
     "output_type": "display_data"
    }
   ],
   "source": [
    "hist = plt.hist(a2_minus_a1, bins=np.arange(-.12, .08, .01))"
   ]
  },
  {
   "cell_type": "markdown",
   "id": "unlimited-insured",
   "metadata": {},
   "source": [
    "Based on this histogram, the probability that there was a shift towards Bush due to the debate, i.e., that $\\alpha_2 - \\alpha_1 > 0$, is:"
   ]
  },
  {
   "cell_type": "code",
   "execution_count": 7,
   "id": "educational-scene",
   "metadata": {},
   "outputs": [
    {
     "data": {
      "text/plain": [
       "(array([   2.,    7.,   13.,   30.,   65.,  100.,  154.,  231.,  259.,\n",
       "         285.,  251.,  208.,  168.,  113.,   60.,   27.,   13.,    5.,    3.]),\n",
       " array([ -1.20000000e-01,  -1.10000000e-01,  -1.00000000e-01,\n",
       "         -9.00000000e-02,  -8.00000000e-02,  -7.00000000e-02,\n",
       "         -6.00000000e-02,  -5.00000000e-02,  -4.00000000e-02,\n",
       "         -3.00000000e-02,  -2.00000000e-02,  -1.00000000e-02,\n",
       "         -5.55111512e-17,   1.00000000e-02,   2.00000000e-02,\n",
       "          3.00000000e-02,   4.00000000e-02,   5.00000000e-02,\n",
       "          6.00000000e-02,   7.00000000e-02]),\n",
       " <a list of 19 Patch objects>)"
      ]
     },
     "execution_count": 7,
     "metadata": {},
     "output_type": "execute_result"
    }
   ],
   "source": [
    "hist"
   ]
  },
  {
   "cell_type": "code",
   "execution_count": 8,
   "id": "played-hanging",
   "metadata": {},
   "outputs": [
    {
     "data": {
      "text/plain": [
       "0.1950852557673019"
      ]
     },
     "execution_count": 8,
     "metadata": {},
     "output_type": "execute_result"
    }
   ],
   "source": [
    "tol = 1.E-6\n",
    "sum([hist[0][i] for i in range(len(hist[0])) if hist[1][i]+tol >= 0.]) /\\\n",
    "sum(h for h in hist[0])"
   ]
  },
  {
   "cell_type": "markdown",
   "id": "forced-inspection",
   "metadata": {},
   "source": [
    "i.e., around 21%."
   ]
  },
  {
   "cell_type": "markdown",
   "id": "labeled-nicaragua",
   "metadata": {},
   "source": [
    "3. Estimation from two independent experiments: an experiment was performed on the effects of magnetic fields on the flow of calcium out of chicken brains. Two groups of chickens were involved: a control group of 32 chickens and an exposed group of 36 chickens. One measurement was taken on each chicken, and the purpose of the experiment was to measure the average flow μc in untreated (control) chickens and the average flow μt in treated chickens. The 32 measurements on the control group had a sample mean of 1.013 and a sample standard deviation of 0.24. The 36 measurements on the treatment group had a sample mean of 1.173 and a sample standard deviation of 0.20.\n",
    "\n",
    "(a) Assuming the control measurements were taken at random from a normal distribution with mean μc and variance σc2, what is the posterior distribution of μc? Similarly, use the treatment group measurements to determine the marginal posterior distribution of μt. Assume a uniform prior distribution on (μc, μt, log σc, log σt).\n",
    "\n",
    "(b) What is the posterior distribution for the difference, μt − μc? To get this, you may sample from the independent t distributions you obtained in part (a) above. Plot a histogram of your samples and give an approximate 95% posterior interval for μt −μc.\n",
    "\n",
    "The problem of estimating two normal means with unknown ratio of variances is called the Behrens–Fisher problem."
   ]
  },
  {
   "cell_type": "markdown",
   "id": "coordinate-hebrew",
   "metadata": {},
   "source": [
    "Our prior is uniform:\n",
    "\n",
    "$P(\\mu_{c}, \\mu_{t}, log(\\sigma_{c}), log(\\sigma_{t}))$ = constant."
   ]
  },
  {
   "cell_type": "markdown",
   "id": "other-default",
   "metadata": {},
   "source": [
    "Based on Section 3.2, the marginal posterior density for $\\mu_c$ is\n",
    "\n",
    "$P(\\mu_c|y_c) = t_{n_c-1}(\\bar{y_c}, s_c^2/n_c)$\n",
    "\n",
    "$= t_{31}(1.013, 0.0018)$,\n",
    "\n",
    "and the marginal posterior density for $\\mu_t$ is\n",
    "\n",
    "$P(\\mu_t|y_t) = t_{n_t-1}(\\bar{y_t}, s_t^2/n_t)$\n",
    "\n",
    "$= t_{35}(1.173, 0.0011)$,"
   ]
  },
  {
   "cell_type": "markdown",
   "id": "respiratory-label",
   "metadata": {},
   "source": [
    "The difference $\\mu_{t}$ - $\\mu_{c}$ can be obtained by sampling from the independent distributions defined above:"
   ]
  },
  {
   "cell_type": "code",
   "execution_count": 9,
   "id": "vietnamese-lewis",
   "metadata": {},
   "outputs": [],
   "source": [
    "from scipy.stats import t"
   ]
  },
  {
   "cell_type": "code",
   "execution_count": 10,
   "id": "separated-teach",
   "metadata": {},
   "outputs": [],
   "source": [
    "t31 = t(df=31, loc=1.013, scale=.24/32**0.5)"
   ]
  },
  {
   "cell_type": "code",
   "execution_count": 11,
   "id": "dangerous-opening",
   "metadata": {},
   "outputs": [],
   "source": [
    "t31_rvs = t31.rvs(size=2000)"
   ]
  },
  {
   "cell_type": "code",
   "execution_count": 12,
   "id": "political-formula",
   "metadata": {},
   "outputs": [
    {
     "name": "stdout",
     "output_type": "stream",
     "text": [
      "1.013 0.00192413793103\n"
     ]
    }
   ],
   "source": [
    "print(t31.mean(), t31.var())"
   ]
  },
  {
   "cell_type": "code",
   "execution_count": 13,
   "id": "constitutional-winter",
   "metadata": {},
   "outputs": [],
   "source": [
    "t35 = t(df=35, loc=1.173, scale=.2/36**0.5)"
   ]
  },
  {
   "cell_type": "code",
   "execution_count": 14,
   "id": "external-bench",
   "metadata": {},
   "outputs": [
    {
     "name": "stdout",
     "output_type": "stream",
     "text": [
      "1.173 0.00117845117845\n"
     ]
    }
   ],
   "source": [
    "print(t35.mean(), t35.var())"
   ]
  },
  {
   "cell_type": "code",
   "execution_count": 15,
   "id": "empty-result",
   "metadata": {},
   "outputs": [],
   "source": [
    "diff = t35.rvs(size=2000) - t31.rvs(size=2000)"
   ]
  },
  {
   "cell_type": "code",
   "execution_count": 16,
   "id": "likely-privilege",
   "metadata": {},
   "outputs": [
    {
     "data": {
      "image/png": "[encoded data removed]",
      "text/plain": [
       "<Figure size 432x288 with 1 Axes>"
      ]
     },
     "metadata": {
      "needs_background": "light"
     },
     "output_type": "display_data"
    }
   ],
   "source": [
    "hist = plt.hist(diff, bins=np.linspace(-0.01, 0.36, 25))"
   ]
  },
  {
   "cell_type": "code",
   "execution_count": 17,
   "id": "thick-south",
   "metadata": {},
   "outputs": [
    {
     "data": {
      "text/plain": [
       "1999.0"
      ]
     },
     "execution_count": 17,
     "metadata": {},
     "output_type": "execute_result"
    }
   ],
   "source": [
    "hist[0].sum()"
   ]
  },
  {
   "cell_type": "code",
   "execution_count": 18,
   "id": "selective-conversation",
   "metadata": {},
   "outputs": [
    {
     "data": {
      "text/plain": [
       "1899.05"
      ]
     },
     "execution_count": 18,
     "metadata": {},
     "output_type": "execute_result"
    }
   ],
   "source": [
    "hist[0].sum() * 0.95"
   ]
  },
  {
   "cell_type": "code",
   "execution_count": 19,
   "id": "twelve-appliance",
   "metadata": {},
   "outputs": [
    {
     "data": {
      "text/plain": [
       "array([   4.,    5.,   11.,   31.,   40.,   56.,  103.,  148.,  169.,\n",
       "        207.,  222.,  228.,  199.,  164.,  143.,  110.,   62.,   47.,\n",
       "         24.,   19.,    5.,    1.,    1.,    0.])"
      ]
     },
     "execution_count": 19,
     "metadata": {},
     "output_type": "execute_result"
    }
   ],
   "source": [
    "hist[0]"
   ]
  },
  {
   "cell_type": "markdown",
   "id": "proof-warning",
   "metadata": {},
   "source": [
    "A 95% confidence interval should have ~2.5% (equivalent to 50 counts for the histogram) left out on either side:"
   ]
  },
  {
   "cell_type": "code",
   "execution_count": 20,
   "id": "incorrect-settlement",
   "metadata": {},
   "outputs": [
    {
     "data": {
      "text/plain": [
       "51.0"
      ]
     },
     "execution_count": 20,
     "metadata": {},
     "output_type": "execute_result"
    }
   ],
   "source": [
    "hist[0][:4].sum()"
   ]
  },
  {
   "cell_type": "code",
   "execution_count": 21,
   "id": "working-engagement",
   "metadata": {},
   "outputs": [
    {
     "data": {
      "text/plain": [
       "50.0"
      ]
     },
     "execution_count": 21,
     "metadata": {},
     "output_type": "execute_result"
    }
   ],
   "source": [
    "hist[0][-6:].sum()"
   ]
  },
  {
   "cell_type": "code",
   "execution_count": 22,
   "id": "statutory-childhood",
   "metadata": {},
   "outputs": [
    {
     "name": "stdout",
     "output_type": "stream",
     "text": [
      "Approx. 95% confidence interval:\n",
      "0.0516666666667 0.282916666667\n"
     ]
    }
   ],
   "source": [
    "print(\"Approx. 95% confidence interval:\")\n",
    "print(hist[1][4], hist[1][-6])"
   ]
  },
  {
   "cell_type": "markdown",
   "id": "pleasant-beast",
   "metadata": {},
   "source": [
    "4. Inference for a 2 × 2 table: an experiment was performed to estimate the effect of beta- blockers on mortality of cardiac patients. A group of patients were randomly assigned to treatment and control groups: out of 674 patients receiving the control, 39 died, and out of 680 receiving the treatment, 22 died. Assume that the outcomes are independent and binomially distributed, with probabilities of death of p0 and p1 under the control and treatment, respectively. We return to this example in Section 5.6.\n",
    "\n",
    "(a) Set up a noninformative prior distribution on (p0, p1) and obtain posterior simulations.\n",
    "\n",
    "(b) Summarize the posterior distribution for the odds ratio, (p1/(1 − p1))/(p0/(1 − p0)).\n",
    "\n",
    "(c) Discuss the sensitivity of your inference to your choice of noninformative prior density."
   ]
  },
  {
   "cell_type": "markdown",
   "id": "classified-trunk",
   "metadata": {},
   "source": [
    "Our table will look something like this:\n",
    "\n",
    "    group      y     n    probability\n",
    "    control    39   674       p0\n",
    "    treatment  22   680       p1"
   ]
  },
  {
   "cell_type": "markdown",
   "id": "demographic-paragraph",
   "metadata": {},
   "source": [
    "Our noninformative priors for $p_0$ and $p_1$ will be Beta form with\n",
    "\n",
    "$\\alpha_0 = \\beta_0 = \\alpha_1 = \\beta_1 = 1$."
   ]
  },
  {
   "cell_type": "markdown",
   "id": "stretch-beaver",
   "metadata": {},
   "source": [
    "Our likelihood will be binomial form in each case:\n",
    "\n",
    "$p(y_0|p_0) \\propto p_0^{y_0}(1-p_0)^{n_0-y_0}$,\n",
    "\n",
    "$p(y_1|p_1) \\propto p_1^{y_1}(1-p_1)^{n_1-y_1}$."
   ]
  },
  {
   "cell_type": "markdown",
   "id": "olympic-sierra",
   "metadata": {},
   "source": [
    "Our posterior distribution will then look, in each case, like:\n",
    "\n",
    "$P(p_0|y_0) \\propto p_0^{y_0}(1-p_0)^{n_0-y_0} = Beta(y_0+1, n_0-y_0+1)$,\n",
    "\n",
    "$P(p_1|y_1) \\propto p_1^{y_1}(1-p_1)^{n_1-y_1} = Beta(y_1+1, n_1-y_1+1)$."
   ]
  },
  {
   "cell_type": "markdown",
   "id": "competitive-ridge",
   "metadata": {},
   "source": [
    "Simulating from these distributions,"
   ]
  },
  {
   "cell_type": "code",
   "execution_count": 23,
   "id": "published-memorabilia",
   "metadata": {},
   "outputs": [],
   "source": [
    "p0s = beta(40, 675-39, size=2000)\n",
    "p1s = beta(23, 681-22, size=2000)"
   ]
  },
  {
   "cell_type": "code",
   "execution_count": 24,
   "id": "immediate-portfolio",
   "metadata": {},
   "outputs": [
    {
     "data": {
      "text/plain": [
       "(0, 0.1)"
      ]
     },
     "execution_count": 24,
     "metadata": {},
     "output_type": "execute_result"
    },
    {
     "data": {
      "image/png": "[encoded data removed]",
      "text/plain": [
       "<Figure size 864x432 with 1 Axes>"
      ]
     },
     "metadata": {
      "needs_background": "light"
     },
     "output_type": "display_data"
    }
   ],
   "source": [
    "fig, ax = plt.subplots(figsize=(12, 6))\n",
    "\n",
    "ax.hist(p0s, bins=25, color='red', label='control')\n",
    "ax.hist(p1s, bins=25, color='black', label='treatment')\n",
    "plt.xlabel('p|y')\n",
    "plt.legend()\n",
    "plt.xlim([0, 0.1])"
   ]
  },
  {
   "cell_type": "markdown",
   "id": "liquid-rendering",
   "metadata": {},
   "source": [
    "Considering the odds ratio\n",
    "\n",
    "$\\frac{p_1}{(1 − p_1)} / \\frac{p_{0}}{(1 − p_{0})}$,\n",
    "\n",
    "we can simulate this distribution as"
   ]
  },
  {
   "cell_type": "code",
   "execution_count": 25,
   "id": "adjustable-lender",
   "metadata": {},
   "outputs": [],
   "source": [
    "odds_ratios  = [(p1s[i]/(1-p1s[i])) / \\\n",
    "                (p0s[i]/(1-p0s[i])) for i in range(len(p0s))]"
   ]
  },
  {
   "cell_type": "code",
   "execution_count": 26,
   "id": "integral-network",
   "metadata": {},
   "outputs": [
    {
     "data": {
      "text/plain": [
       "(array([  11.,   24.,   59.,  114.,  167.,  222.,  224.,  206.,  240.,\n",
       "         193.,  165.,   96.,   74.,   73.,   36.,   24.,   23.,   14.,\n",
       "          13.,   13.,    6.,    1.,    0.,    0.,    2.]),\n",
       " array([ 0.21441317,  0.25827291,  0.30213264,  0.34599238,  0.38985211,\n",
       "         0.43371185,  0.47757158,  0.52143132,  0.56529105,  0.60915079,\n",
       "         0.65301052,  0.69687026,  0.74072999,  0.78458972,  0.82844946,\n",
       "         0.87230919,  0.91616893,  0.96002866,  1.0038884 ,  1.04774813,\n",
       "         1.09160787,  1.1354676 ,  1.17932734,  1.22318707,  1.26704681,\n",
       "         1.31090654]),\n",
       " <a list of 25 Patch objects>)"
      ]
     },
     "execution_count": 26,
     "metadata": {},
     "output_type": "execute_result"
    },
    {
     "data": {
      "image/png": "[encoded data removed]",
      "text/plain": [
       "<Figure size 432x288 with 1 Axes>"
      ]
     },
     "metadata": {
      "needs_background": "light"
     },
     "output_type": "display_data"
    }
   ],
   "source": [
    "plt.hist(odds_ratios, bins=25)"
   ]
  },
  {
   "cell_type": "markdown",
   "id": "steady-creature",
   "metadata": {},
   "source": [
    "5. Rounded data: it is a common problem for measurements to be observed in rounded form (for a review, see Heitjan, 1989). For a simple example, suppose we weigh an object five times and measure weights, rounded to the nearest pound, of 10, 10, 12, 11, 9. Assume the unrounded measurements are normally distributed with a noninformative prior distribution on the mean μ and variance σ2.\n",
    "\n",
    "(a) Give the posterior distribution for (μ, σ2) obtained by pretending that the observations are exact unrounded measurements.\n",
    "\n",
    "(b) Give the correct posterior distribution for (μ,σ2) treating the measurements as rounded.\n",
    "\n",
    "(c) How do the incorrect and correct posterior distributions differ? Compare means, variances, and contour plots.\n",
    "\n",
    "(d) Let z=(z1,...,z5) be the original, unrounded measurements corresponding to the five observations above. Draw simulations from the posterior distribution of z. Compute the posterior mean of (z1 − z2)^2."
   ]
  },
  {
   "cell_type": "markdown",
   "id": "cutting-coverage",
   "metadata": {},
   "source": [
    "(a) Here we use a flat prior for ($\\mu$, $\\sigma^2$)."
   ]
  },
  {
   "cell_type": "code",
   "execution_count": 27,
   "id": "retired-sapphire",
   "metadata": {},
   "outputs": [],
   "source": [
    "ys = [10, 10, 12, 11, 9]"
   ]
  },
  {
   "cell_type": "code",
   "execution_count": 28,
   "id": "liked-while",
   "metadata": {},
   "outputs": [],
   "source": [
    "Sample_mean = sum(ys) / 5."
   ]
  },
  {
   "cell_type": "code",
   "execution_count": 29,
   "id": "overhead-enhancement",
   "metadata": {},
   "outputs": [
    {
     "data": {
      "text/plain": [
       "10.4"
      ]
     },
     "execution_count": 29,
     "metadata": {},
     "output_type": "execute_result"
    }
   ],
   "source": [
    "Sample_mean"
   ]
  },
  {
   "cell_type": "code",
   "execution_count": 30,
   "id": "stable-combination",
   "metadata": {},
   "outputs": [],
   "source": [
    "Sample_std = sum([(i - Sample_mean)**2. for i in ys])**0.5"
   ]
  },
  {
   "cell_type": "code",
   "execution_count": 31,
   "id": "unique-elizabeth",
   "metadata": {},
   "outputs": [
    {
     "data": {
      "text/plain": [
       "2.280350850198276"
      ]
     },
     "execution_count": 31,
     "metadata": {},
     "output_type": "execute_result"
    }
   ],
   "source": [
    "Sample_std"
   ]
  },
  {
   "cell_type": "code",
   "execution_count": 228,
   "id": "foreign-methodology",
   "metadata": {},
   "outputs": [],
   "source": [
    "from scipy.stats import norm"
   ]
  },
  {
   "cell_type": "code",
   "execution_count": 485,
   "id": "statewide-compromise",
   "metadata": {},
   "outputs": [],
   "source": [
    "def log_postr_unrounded(ys, mu, sigma):\n",
    "    out = 0\n",
    "    for y in ys:\n",
    "        out += np.log(norm.pdf(y, loc=mu, scale=sigma))\n",
    "    return out"
   ]
  },
  {
   "cell_type": "code",
   "execution_count": 253,
   "id": "limiting-little",
   "metadata": {},
   "outputs": [],
   "source": [
    "x = np.linspace(3, 18, 200)\n",
    "y = np.linspace(-2., 4., 200)\n",
    "\n",
    "xx, yy = np.meshgrid(x, y)"
   ]
  },
  {
   "cell_type": "code",
   "execution_count": 254,
   "id": "geological-cleveland",
   "metadata": {},
   "outputs": [
    {
     "name": "stderr",
     "output_type": "stream",
     "text": [
      "/Users/cb/miniconda3/envs/bda/lib/python3.6/site-packages/ipykernel_launcher.py:4: RuntimeWarning: divide by zero encountered in log\n",
      "  after removing the cwd from sys.path.\n"
     ]
    }
   ],
   "source": [
    "logdens_a = log_postr_unrounded(ys, xx, np.exp(yy))"
   ]
  },
  {
   "cell_type": "code",
   "execution_count": 255,
   "id": "chubby-uruguay",
   "metadata": {},
   "outputs": [],
   "source": [
    "dens_a = np.exp(logdens_a - logdens_a.max())"
   ]
  },
  {
   "cell_type": "code",
   "execution_count": 256,
   "id": "blank-engineer",
   "metadata": {},
   "outputs": [
    {
     "data": {
      "text/plain": [
       "<matplotlib.contour.QuadContourSet at 0x7fec63d3b828>"
      ]
     },
     "execution_count": 256,
     "metadata": {},
     "output_type": "execute_result"
    },
    {
     "data": {
      "image/png": "[encoded data removed]",
      "text/plain": [
       "<Figure size 432x288 with 1 Axes>"
      ]
     },
     "metadata": {
      "needs_background": "light"
     },
     "output_type": "display_data"
    }
   ],
   "source": [
    "plt.contour(x, y, dens_a, levels=contours)"
   ]
  },
  {
   "cell_type": "code",
   "execution_count": 353,
   "id": "satisfactory-punishment",
   "metadata": {},
   "outputs": [
    {
     "data": {
      "text/plain": [
       "[<matplotlib.lines.Line2D at 0x7fec67a64dd8>]"
      ]
     },
     "execution_count": 353,
     "metadata": {},
     "output_type": "execute_result"
    },
    {
     "data": {
      "image/png": "[encoded data removed]",
      "text/plain": [
       "<Figure size 432x288 with 1 Axes>"
      ]
     },
     "metadata": {
      "needs_background": "light"
     },
     "output_type": "display_data"
    }
   ],
   "source": [
    "plt.plot(x, dens_a.sum(axis=0)/dens_a.sum(axis=0).max())"
   ]
  },
  {
   "cell_type": "code",
   "execution_count": 354,
   "id": "arbitrary-stamp",
   "metadata": {},
   "outputs": [
    {
     "data": {
      "text/plain": [
       "[<matplotlib.lines.Line2D at 0x7fec67bfccc0>]"
      ]
     },
     "execution_count": 354,
     "metadata": {},
     "output_type": "execute_result"
    },
    {
     "data": {
      "image/png": "[encoded data removed]",
      "text/plain": [
       "<Figure size 432x288 with 1 Axes>"
      ]
     },
     "metadata": {
      "needs_background": "light"
     },
     "output_type": "display_data"
    }
   ],
   "source": [
    "plt.plot(y, dens_a.sum(axis=1)/dens_a.sum(axis=1).max())"
   ]
  },
  {
   "cell_type": "code",
   "execution_count": 345,
   "id": "dental-karen",
   "metadata": {},
   "outputs": [],
   "source": [
    "# sample from the marginal distributions to check that they \n",
    "# match the shape of the above\n",
    "nsim = 10000\n",
    "sig2s = (n-1)*s2/np.random.chisquare(n-1, nsim)\n",
    "mus = [np.random.normal(loc=ybar, scale=np.sqrt(sig2/n)) for sig2 in sig2s]"
   ]
  },
  {
   "cell_type": "code",
   "execution_count": 346,
   "id": "ordinary-rebate",
   "metadata": {},
   "outputs": [],
   "source": [
    "sigs = np.sqrt(sig2s)"
   ]
  },
  {
   "cell_type": "code",
   "execution_count": 466,
   "id": "latin-whale",
   "metadata": {},
   "outputs": [
    {
     "data": {
      "text/plain": [
       "[<matplotlib.lines.Line2D at 0x7fec6b303978>]"
      ]
     },
     "execution_count": 466,
     "metadata": {},
     "output_type": "execute_result"
    },
    {
     "data": {
      "image/png": "[encoded data removed]",
      "text/plain": [
       "<Figure size 864x432 with 1 Axes>"
      ]
     },
     "metadata": {
      "needs_background": "light"
     },
     "output_type": "display_data"
    }
   ],
   "source": [
    "fig, ax = plt.subplots(figsize=(12, 6))\n",
    "\n",
    "sighist = ax.hist(np.log(sigs), bins=25, density=True, color='green')\n",
    "plt.plot(y, dens_a.sum(axis=1)/(dens_a.sum(axis=1).sum())/(y[1]-y[0]), color='red')"
   ]
  },
  {
   "cell_type": "code",
   "execution_count": 464,
   "id": "suspected-borough",
   "metadata": {},
   "outputs": [
    {
     "data": {
      "text/plain": [
       "(3, 18)"
      ]
     },
     "execution_count": 464,
     "metadata": {},
     "output_type": "execute_result"
    },
    {
     "data": {
      "image/png": "[encoded data removed]",
      "text/plain": [
       "<Figure size 864x432 with 1 Axes>"
      ]
     },
     "metadata": {
      "needs_background": "light"
     },
     "output_type": "display_data"
    }
   ],
   "source": [
    "fig, ax = plt.subplots(figsize=(12, 6))\n",
    "\n",
    "muhist = ax.hist(mus, bins=75, density=True, color='green')\n",
    "plt.plot(x, dens_a.sum(axis=0)/(dens_a.sum(axis=0).sum())/(x[1]-x[0]), color='red')\n",
    "\n",
    "plt.xlim([3, 18])"
   ]
  },
  {
   "cell_type": "code",
   "execution_count": 373,
   "id": "plastic-globe",
   "metadata": {},
   "outputs": [],
   "source": [
    "def calculate_mean(vals, density):\n",
    "    mean = 0\n",
    "    for ii, val in enumerate(vals[:-1]):\n",
    "        mean = mean + 0.5*(val+vals[ii+1])*density[ii]\n",
    "    return mean*(vals[1]-vals[0])"
   ]
  },
  {
   "cell_type": "code",
   "execution_count": 399,
   "id": "dietary-integrity",
   "metadata": {},
   "outputs": [],
   "source": [
    "def calculate_std(vals, density):\n",
    "    mean = calculate_mean(vals, density)\n",
    "    var = 0.\n",
    "    for ii, val in enumerate(vals[:-1]):\n",
    "        var = var + (0.5*(val+vals[ii+1]))**2*density[ii]\n",
    "    var = var*(vals[1]-vals[0])\n",
    "    var = var - mean**2\n",
    "    return np.sqrt(var) "
   ]
  },
  {
   "cell_type": "code",
   "execution_count": 470,
   "id": "spoken-country",
   "metadata": {},
   "outputs": [],
   "source": [
    "def calculate_percentiles(vals, pcls):\n",
    "    def calculate_percentile(vals, pcl):\n",
    "        return sorted(vals)[int(len(vals)*pcl)]\n",
    "    c = []\n",
    "    for pcl in pcls:\n",
    "        out = calculate_percentile(vals, pcl)\n",
    "        c.append({pcl: out})\n",
    "    return c"
   ]
  },
  {
   "cell_type": "code",
   "execution_count": 501,
   "id": "chief-passenger",
   "metadata": {},
   "outputs": [
    {
     "name": "stdout",
     "output_type": "stream",
     "text": [
      "Parameter mu, ignoring rounding:\n",
      "\tmean\t:\t10.404\n",
      "\tstd\t:\t0.724\n",
      "percentiles:\n",
      "\t2.5\t:\t8.973\n",
      "\t25.0\t:\t10.026\n",
      "\t50.0\t:\t10.406\n",
      "\t75.0\t:\t10.775\n",
      "\t97.5\t:\t11.85\n"
     ]
    }
   ],
   "source": [
    "print(\"Parameter mu, ignoring rounding:\")\n",
    "print(\"\\tmean\\t:\\t{0}\".format(round(calculate_mean(muhist[1], muhist[0]), 3)))\n",
    "print(\"\\tstd\\t:\\t{0}\".format(round(calculate_std(muhist[1], muhist[0]), 3)))\n",
    "print(\"percentiles:\")\n",
    "for el in calculate_percentiles(mus, [0.025, 0.25, 0.50, 0.75, 0.975]):\n",
    "    print(\"\\t{0}\\t:\\t{1}\".format(list(el.keys())[0]*100,\n",
    "                               round(list(el.values())[0], 3)))"
   ]
  },
  {
   "cell_type": "code",
   "execution_count": 515,
   "id": "naked-technician",
   "metadata": {},
   "outputs": [],
   "source": [
    "# histogram for sigma w/o log function\n",
    "sighist_ = ax.hist(sigs, bins=25, density=True, color='green')"
   ]
  },
  {
   "cell_type": "code",
   "execution_count": 518,
   "id": "satellite-oracle",
   "metadata": {},
   "outputs": [
    {
     "name": "stdout",
     "output_type": "stream",
     "text": [
      "Parameter sigma, ignoring rounding:\n",
      "\tmean\t:\t1.431\n",
      "\tstd\t:\t0.771\n",
      "percentiles:\n",
      "\t2.5\t:\t0.683\n",
      "\t25.0\t:\t0.985\n",
      "\t50.0\t:\t1.246\n",
      "\t75.0\t:\t1.649\n",
      "\t97.5\t:\t3.365\n"
     ]
    }
   ],
   "source": [
    "print(\"Parameter sigma, ignoring rounding:\")\n",
    "print(\"\\tmean\\t:\\t{0}\".format(round(calculate_mean(sighist_[1],\n",
    "                                            sighist_[0]), 3)))\n",
    "print(\"\\tstd\\t:\\t{0}\".format(round(calculate_std(sighist_[1], \n",
    "                                                 sighist_[0]), 3)))\n",
    "print(\"percentiles:\")\n",
    "for el in calculate_percentiles(sigs, [0.025, 0.25, 0.50, 0.75, 0.975]):\n",
    "    print(\"\\t{0}\\t:\\t{1}\".format(list(el.keys())[0]*100,\n",
    "                               round(list(el.values())[0], 3)))"
   ]
  },
  {
   "cell_type": "markdown",
   "id": "armed-today",
   "metadata": {},
   "source": [
    "(b) Now we repeat for the case where rounding is taken into account.  In this case the density associated with each of the $y$ values will equal the difference between the CDF of the maximum possible value for $y$ and the CDF of the minimum possible value of $y$."
   ]
  },
  {
   "cell_type": "code",
   "execution_count": 486,
   "id": "threatened-tooth",
   "metadata": {},
   "outputs": [],
   "source": [
    "def log_postr_rounded(ys, mu, sigma):\n",
    "    out = 0\n",
    "    for y in ys:\n",
    "        out += np.log(norm.cdf(y+0.5, loc=mu, scale=sigma) - \n",
    "                      norm.cdf(y-0.5, loc=mu, scale=sigma))\n",
    "    return out"
   ]
  },
  {
   "cell_type": "code",
   "execution_count": 487,
   "id": "flexible-timing",
   "metadata": {},
   "outputs": [
    {
     "name": "stderr",
     "output_type": "stream",
     "text": [
      "/Users/cb/miniconda3/envs/bda/lib/python3.6/site-packages/ipykernel_launcher.py:5: RuntimeWarning: divide by zero encountered in log\n",
      "  \"\"\"\n"
     ]
    }
   ],
   "source": [
    "logdens_b = log_postr_rounded(ys, xx, np.exp(yy))"
   ]
  },
  {
   "cell_type": "code",
   "execution_count": 488,
   "id": "immune-corporation",
   "metadata": {},
   "outputs": [],
   "source": [
    "dens_b = np.exp(logdens_b - logdens_b.max())"
   ]
  },
  {
   "cell_type": "code",
   "execution_count": 489,
   "id": "institutional-sponsorship",
   "metadata": {},
   "outputs": [
    {
     "data": {
      "text/plain": [
       "<matplotlib.contour.QuadContourSet at 0x7fec6b5b7128>"
      ]
     },
     "execution_count": 489,
     "metadata": {},
     "output_type": "execute_result"
    },
    {
     "data": {
      "image/png": "[encoded data removed]",
      "text/plain": [
       "<Figure size 432x288 with 1 Axes>"
      ]
     },
     "metadata": {
      "needs_background": "light"
     },
     "output_type": "display_data"
    }
   ],
   "source": [
    "plt.contour(x, y, dens_b, levels=contours)"
   ]
  },
  {
   "cell_type": "markdown",
   "id": "representative-middle",
   "metadata": {},
   "source": [
    "In this case we do not have the analytical marginal distributions for $\\mu$ and $\\sigma$, but we can use the distributions implied by the grid:"
   ]
  },
  {
   "cell_type": "code",
   "execution_count": 490,
   "id": "wanted-construction",
   "metadata": {},
   "outputs": [],
   "source": [
    "dens_logsig_b = dens_b.sum(axis=1)/(dens_b.sum(axis=1).sum())/(y[1]-y[0])"
   ]
  },
  {
   "cell_type": "code",
   "execution_count": 491,
   "id": "given-firewall",
   "metadata": {},
   "outputs": [
    {
     "data": {
      "text/plain": [
       "[<matplotlib.lines.Line2D at 0x7fec6b8365f8>]"
      ]
     },
     "execution_count": 491,
     "metadata": {},
     "output_type": "execute_result"
    },
    {
     "data": {
      "image/png": "[encoded data removed]",
      "text/plain": [
       "<Figure size 432x288 with 1 Axes>"
      ]
     },
     "metadata": {
      "needs_background": "light"
     },
     "output_type": "display_data"
    }
   ],
   "source": [
    "plt.plot(y, dens_logsig_b)"
   ]
  },
  {
   "cell_type": "markdown",
   "id": "compressed-funds",
   "metadata": {},
   "source": [
    "Sampling sigmas from this distrubution:"
   ]
  },
  {
   "cell_type": "code",
   "execution_count": 500,
   "id": "partial-vaccine",
   "metadata": {},
   "outputs": [],
   "source": [
    "sigs_b = np.exp(np.random.choice(y, replace=True, size=nsim,\n",
    "                        p=dens_logsig_b/dens_logsig_b.sum()))"
   ]
  },
  {
   "cell_type": "code",
   "execution_count": 521,
   "id": "significant-administration",
   "metadata": {},
   "outputs": [],
   "source": [
    "dens_mu_b = dens_b.sum(axis=0)/(dens_b.sum(axis=0).sum())/(x[1]-x[0])"
   ]
  },
  {
   "cell_type": "code",
   "execution_count": 522,
   "id": "timely-paragraph",
   "metadata": {},
   "outputs": [],
   "source": [
    "mus_b = np.random.choice(x, replace=True, size=nsim,\n",
    "                        p=dens_mu_b/dens_mu_b.sum())"
   ]
  },
  {
   "cell_type": "code",
   "execution_count": 524,
   "id": "documented-approach",
   "metadata": {},
   "outputs": [],
   "source": [
    "muhist_b = ax.hist(mus_b, bins=75, density=True, color='green')"
   ]
  },
  {
   "cell_type": "code",
   "execution_count": 525,
   "id": "transsexual-stephen",
   "metadata": {},
   "outputs": [
    {
     "name": "stdout",
     "output_type": "stream",
     "text": [
      "Parameter mu, including rounding:\n",
      "\tmean\t:\t10.412\n",
      "\tstd\t:\t0.706\n",
      "percentiles:\n",
      "\t2.5\t:\t9.03\n",
      "\t25.0\t:\t10.01\n",
      "\t50.0\t:\t10.387\n",
      "\t75.0\t:\t10.764\n",
      "\t97.5\t:\t11.744\n"
     ]
    }
   ],
   "source": [
    "print(\"Parameter mu, including rounding:\")\n",
    "print(\"\\tmean\\t:\\t{0}\".format(round(calculate_mean(muhist_b[1], \n",
    "                                                   muhist_b[0]), 3)))\n",
    "print(\"\\tstd\\t:\\t{0}\".format(round(calculate_std(muhist_b[1], \n",
    "                                                 muhist_b[0]), 3)))\n",
    "print(\"percentiles:\")\n",
    "for el in calculate_percentiles(mus_b, [0.025, 0.25, 0.50, 0.75, 0.975]):\n",
    "    print(\"\\t{0}\\t:\\t{1}\".format(list(el.keys())[0]*100,\n",
    "                               round(list(el.values())[0], 3)))"
   ]
  },
  {
   "cell_type": "code",
   "execution_count": 526,
   "id": "fantastic-hospital",
   "metadata": {},
   "outputs": [],
   "source": [
    "sighist_b_ = ax.hist(sigs_b, bins=25, density=True, color='green')"
   ]
  },
  {
   "cell_type": "code",
   "execution_count": 527,
   "id": "democratic-treaty",
   "metadata": {},
   "outputs": [
    {
     "name": "stdout",
     "output_type": "stream",
     "text": [
      "Parameter sigma, ignoring rounding:\n",
      "\tmean\t:\t1.338\n",
      "\tstd\t:\t0.789\n",
      "percentiles:\n",
      "\t2.5\t:\t0.611\n",
      "\t25.0\t:\t0.932\n",
      "\t50.0\t:\t1.186\n",
      "\t75.0\t:\t1.604\n",
      "\t97.5\t:\t3.209\n"
     ]
    }
   ],
   "source": [
    "print(\"Parameter sigma, ignoring rounding:\")\n",
    "print(\"\\tmean\\t:\\t{0}\".format(round(calculate_mean(sighist_b_[1],\n",
    "                                            sighist_b_[0]), 3)))\n",
    "print(\"\\tstd\\t:\\t{0}\".format(round(calculate_std(sighist_b_[1], \n",
    "                                                 sighist_b_[0]), 3)))\n",
    "print(\"percentiles:\")\n",
    "for el in calculate_percentiles(sigs_b, [0.025, 0.25, 0.50, 0.75, 0.975]):\n",
    "    print(\"\\t{0}\\t:\\t{1}\".format(list(el.keys())[0]*100,\n",
    "                               round(list(el.values())[0], 3)))"
   ]
  },
  {
   "cell_type": "markdown",
   "id": "dedicated-introduction",
   "metadata": {},
   "source": [
    "(c)\n",
    "The results are similar whether rounding is included or not.  The main difference is the shift to lower values for $\\sigma$ in the lower quantiles.  This is most easily seen by plotting the contours for both models on the same plot:"
   ]
  },
  {
   "cell_type": "code",
   "execution_count": 532,
   "id": "coral-kansas",
   "metadata": {},
   "outputs": [
    {
     "data": {
      "text/plain": [
       "Text(0,0.5,'log(sigma)')"
      ]
     },
     "execution_count": 532,
     "metadata": {},
     "output_type": "execute_result"
    },
    {
     "data": {
      "image/png": "[encoded data removed]",
      "text/plain": [
       "<Figure size 864x432 with 1 Axes>"
      ]
     },
     "metadata": {
      "needs_background": "light"
     },
     "output_type": "display_data"
    }
   ],
   "source": [
    "fig, ax = plt.subplots(figsize=(12, 6))\n",
    "\n",
    "ax.contour(x, y, dens_b, levels=contours, colors='blue')\n",
    "ax.contour(x, y, dens_a, levels=contours, colors='red') \n",
    "\n",
    "plt.xlabel('mu')\n",
    "plt.ylabel('log(sigma)')"
   ]
  },
  {
   "cell_type": "markdown",
   "id": "surgical-candidate",
   "metadata": {},
   "source": [
    "(d)\n",
    "We can use the sampled values of $\\sigma$ and $\\mu$ above to generate normal densities, which we can truncate appropriately in order to sample our $z$ values."
   ]
  },
  {
   "cell_type": "code",
   "execution_count": 603,
   "id": "colored-actor",
   "metadata": {},
   "outputs": [],
   "source": [
    "z = [[], [], [], [], []]\n",
    "for jj, y in enumerate(ys):\n",
    "    lower = norm.cdf(y-0.5, mus_b, sigs_b)\n",
    "    upper = norm.cdf(y+0.5, mus_b, sigs_b)\n",
    "    z[jj] = norm.ppf(lower + np.random.uniform(size=nsim)*(upper-lower), \n",
    "                              loc=mus_b, scale=sigs_b)"
   ]
  },
  {
   "cell_type": "code",
   "execution_count": 610,
   "id": "matched-cause",
   "metadata": {},
   "outputs": [
    {
     "data": {
      "text/plain": [
       "0.15458393720334282"
      ]
     },
     "execution_count": 610,
     "metadata": {},
     "output_type": "execute_result"
    }
   ],
   "source": [
    "# posterior mean of (z1 − z2)^2:\n",
    "np.square(z[1]-z[0]).mean()"
   ]
  },
  {
   "cell_type": "markdown",
   "id": "smooth-minutes",
   "metadata": {},
   "source": [
    "9. Conjugate normal model: suppose y is an independent and identically distributed sample of size n from the distribution N(μ,σ2), where the prior distribution for (μ,σ2) is N-Inv-χ2(μ, σ2|μ0, σ02/κ0; ν0, σ02); that is, σ2 ∼ Inv-χ2(ν0, σ02) and μ|σ2 ∼ N(μ0, σ2/κ0). The posterior distribution, p(μ,σ2|y), is also normal-inverse-χ2; derive explicitly its pa- rameters in terms of the prior parameters and the sufficient statistics of the data."
   ]
  },
  {
   "cell_type": "markdown",
   "id": "stable-stand",
   "metadata": {},
   "source": [
    "Per Section 3.3, we have, respectively, a density for the variance $\\sigma^2$ and a density for the mean $\\mu$ conditioned on the variance, as:\n",
    "\n",
    "$P(\\sigma^2)$ = Inv$-\\chi^2(\\nu_0, \\sigma_0^2)$\n",
    "$\\propto (\\sigma^2{)}^{-(1+\\nu_0/2)}\\exp(-\\frac{1}{2\\sigma^2}[\\nu_0 \\sigma_0^2])$,\n",
    "\n",
    "$P(\\mu|\\sigma^2) = \\mathcal{N}(\\mu_0, \\sigma^2/\\kappa_0)$\n",
    "$\\propto \\sigma^{-1}\\exp(-\\frac{\\kappa_0}{2\\sigma^2}[\\mu-\\mu_0]^2)$\n",
    "\n",
    "which implies a joint prior density\n",
    "\n",
    "$P(\\mu, \\sigma^2)$ = $P(\\mu|\\sigma^2)$$P(\\sigma^2)$\n",
    "$\\propto \\sigma^{-1}(\\sigma^2{)}^{-(1+\\nu_0/2)}\\exp(-\\frac{1}{2\\sigma^2}[\\nu_0 \\sigma_0^2 + \\kappa_0(\\mu-\\mu_0)^2])$.\n",
    "\n",
    "This density is denoted $\\mathcal{N}$-Inv-$\\chi^2(\\mu,\\sigma^2|\\mu_0,\\sigma_0^2/\\kappa_0;\\nu_0,\\sigma_0^2)$, and the parameters can be understood respectively as the location and scale of the mean $\\mu$, and the degrees of freedom and scale of the variance $\\sigma^2$.\n",
    "\n",
    "A normal likelihood\n",
    "\n",
    "$P(y|\\mu, \\sigma^2)$ \n",
    "\n",
    "$\\propto (\\sigma^2)^{-\\frac{n}{2}}\\exp(-\\frac{1}{2\\sigma^2}\\Sigma_{i=1}^n(y_i - \\mu)^2)$\n",
    "\n",
    "$=(\\sigma^2)^{-\\frac{n}{2}}\\exp(-\\frac{1}{2\\sigma^2}[(n-1)s^2+n(\\bar{y}-\\mu)^2])$,\n",
    "\n",
    "$= (\\sigma^2)^{-\\frac{n}{2}}\\exp(-\\frac{1}{2\\sigma^2}\\Sigma_{i=1}^n(y_i - \\mu)^2)$\n",
    "\n",
    "$=(\\sigma^2)^{-\\frac{n}{2}}\\exp(-\\frac{1}{2\\sigma^2}[(n-1)s^2+n(\\bar{y}-\\mu)^2])$,\n",
    "\n",
    "where $\\bar{y}$ is the sample mean and $s^2$ the sample variance,\n",
    "\n",
    "leads to the posterior density\n",
    "\n",
    "$P(\\mu, \\sigma^2|y)$\n",
    "\n",
    "$\\propto \\sigma^{-1}(\\sigma^2{)}^{-(1+(\\nu_0+n)/2)}\\exp\\left(-\\frac{1}{2\\sigma^2}[\\nu_o\\sigma_0^2+(n-1)s^2+n(\\bar{y}-\\mu)+\\kappa_0(\\mu-\\mu_0)^2]\\right)$\n",
    "\n",
    "$=\\sigma^{-1}(\\sigma^2{)}^{-(1+(\\nu_0+n)/2)}\\exp\\left(-\\frac{1}{2\\sigma^2}[\\nu_o\\sigma_0^2+(n-1)s^2+(n\\mu^2-2n\\mu\\bar{y}+n\\bar{y}^2+\\kappa_0\\mu^2-2\\kappa_0\\mu_0\\mu+\\kappa_0\\mu_0^2)]\\right)$\n",
    "\n",
    "$=\\sigma^{-1}(\\sigma^2{)}^{-(1+(\\nu_0+n)/2)}\\exp\\left(-\\frac{1}{2\\sigma^2}\\left[\\nu_o\\sigma_0^2+(n-1)s^2+(n+\\kappa_0)\\mu^2 + \\frac{(n+\\kappa_0)n\\bar{y}^2 + (n+\\kappa_0)\\kappa_0\\mu_0^2 - (n+\\kappa_0)2n\\mu\\bar{y} - (n+\\kappa_0)2\\kappa_0\\mu\\mu_0}{n+\\kappa_0}\\right]\\right)$\n",
    "\n",
    "$=\\sigma^{-1}(\\sigma^2{)}^{-(1+(\\nu_0+n)/2)}\\exp\\left(-\\frac{1}{2\\sigma^2}\\left[\\nu_o\\sigma_0^2+(n-1)s^2+\n",
    "(n+\\kappa_0)\\left(\\mu^2 + \\frac{n\\bar{y}^2+\\kappa_0\\mu_0^2}{n+\\kappa_0} + \\frac{-2n\\mu\\bar{y}-2\\kappa_0\\mu\\mu_0}{n+\\kappa_0}\\right)\\right]\\right)$\n",
    "\n",
    "$=\\sigma^{-1}(\\sigma^2{)}^{-(1+(\\nu_0+n)/2)}\\exp\\left(-\\frac{1}{2\\sigma^2}\\left[\\nu_o\\sigma_0^2+(n-1)s^2+\n",
    "(n+\\kappa_0)\\left(\\mu^2 + \\frac{(n+\\kappa_0)(n\\bar{y}^2+\\kappa_0\\mu_0^2)}{(n+\\kappa_0)^2} + \\frac{-2n\\mu\\bar{y}-2\\kappa_0\\mu\\mu_0}{n+\\kappa_0}\\right)\\right]\\right)$\n",
    "\n",
    "$=\\sigma^{-1}(\\sigma^2{)}^{-(1+(\\nu_0+n)/2)}\\exp\\left(-\\frac{1}{2\\sigma^2}\\left[\\nu_o\\sigma_0^2+(n-1)s^2+\n",
    "(n+\\kappa_0)\\left(\\mu^2 + \\frac{n^2\\bar{y}^2+n\\kappa_0\\bar{y}^2+n\\kappa_0\\mu_0^2+\\kappa_0^2\\mu_0^2}{(n+\\kappa_0)^2} + \\frac{-2n\\mu\\bar{y}-2\\kappa_0\\mu\\mu_0}{n+\\kappa_0}\\right)\\right]\\right)$\n",
    "\n",
    "$=\\sigma^{-1}(\\sigma^2{)}^{-(1+(\\nu_0+n)/2)}\\exp\\left(-\\frac{1}{2\\sigma^2}\\left[\\nu_o\\sigma_0^2+(n-1)s^2+\n",
    "(n+\\kappa_0)\\left(\\mu^2 + \\frac{n^2\\bar{y}^2+\\kappa_0^2\\mu_0^2}{(n+\\kappa_0)^2} + \\frac{n\\kappa_0\\bar{y}^2+n\\kappa_0\\mu_0^2}{(n+\\kappa_0)^2} + \\frac{-2n\\mu\\bar{y}-2\\kappa_0\\mu\\mu_0}{n+\\kappa_0}\\right)\\right]\\right)$\n",
    "\n",
    "$=\\sigma^{-1}(\\sigma^2{)}^{-(1+(\\nu_0+n)/2)}\\exp\\left(-\\frac{1}{2\\sigma^2}\\left[\\nu_o\\sigma_0^2+(n-1)s^2+\n",
    "(n+\\kappa_0)\\left(\\mu^2 + \\frac{n^2\\bar{y}^2+\\kappa_0^2\\mu_0^2 + 2n\\bar{y}\\mu_0\\kappa_0}{(n+\\kappa_0)^2} + \\frac{n\\kappa_0\\bar{y}^2+n\\kappa_0\\mu_0^2 - 2n\\bar{y}\\mu_0\\kappa_0}{(n+\\kappa_0)^2} + \\frac{-2n\\mu\\bar{y}-2\\kappa_0\\mu\\mu_0}{n+\\kappa_0}\\right)\\right]\\right)$\n",
    "\n",
    "$=\\sigma^{-1}(\\sigma^2{)}^{-(1+(\\nu_0+n)/2)}\\times$\n",
    "$\\exp\\left(-\\frac{1}{2\\sigma^2}\\left[\\nu_o\\sigma_0^2+(n-1)s^2+\n",
    "(n+\\kappa_0)\n",
    "\\left(\\mu^2 + \\left(\\frac{n\\bar{y}+\\kappa_0\\mu_0}{n+\\kappa_0}\\right)^2\n",
    "-2\\mu\\left(\\frac{n\\bar{y}+\\kappa_0\\mu_0}{n+\\kappa_0}\\right)\n",
    "+ \\frac{n\\kappa_0\\bar{y}^2+n\\kappa_0\\mu_0^2 - 2n\\bar{y}\\mu_0\\kappa_0}{(n+\\kappa_0)^2}\n",
    "+2\\mu\\left(\\frac{n\\bar{y}+\\kappa_0\\mu_0}{n+\\kappa_0}\\right)\n",
    "+\\frac{-2n\\mu\\bar{y}-2\\kappa_0\\mu\\mu_0}{n+\\kappa_0}\\right)\\right]\n",
    "\\right)$\n",
    "\n",
    "$=\\sigma^{-1}(\\sigma^2{)}^{-(1+(\\nu_0+n)/2)}\\exp\\left(-\\frac{1}{2\\sigma^2}\\left[\\nu_o\\sigma_0^2+(n-1)s^2+\n",
    "(n+\\kappa_0)\n",
    "\\left(\\left[\\mu - \\frac{n\\bar{y}+\\kappa_0\\mu_0}{n+\\kappa_0}\\right]^2\n",
    "+\\frac{n\\kappa_0(\\bar{y}-\\mu_0)^2/(n+\\kappa_0)}{n+\\kappa_0}\\right)\\right]\n",
    "\\right)$\n",
    "\n",
    "<!--\n",
    "$=\\sigma^{-1}(\\sigma^2{)}^{-(1+(\\nu_0+n)/2)}\\exp\\left(-\\frac{1}{2\\sigma^2}\\left[\\nu_0\\sigma_0^2 + (n-1)s^2 + \\frac{\\kappa_0n}{\\kappa_0+n}(\\bar{y}-\\mu_0)^2 + (\\kappa_0+n)\\{\\mu-(\\frac{\\kappa_0}{\\kappa_0+n}\\mu_0+\\frac{\\kappa_0}{\\kappa_0+n}\\bar{y})\\}^2\\right]\\right)$,\n",
    "-->\n",
    "\n",
    "$=\\sigma^{-1}(\\sigma^2{)}^{-(1+\\nu_n/2)}\\exp\\left(-\\frac{1}{2\\sigma^2}[\\nu_n\\sigma_n^2 + \\kappa_n(\\mu-\\mu_n)^2]\\right)$,\n",
    "\n",
    "with\n",
    "\n",
    "$\\mu_n = \\frac{\\kappa_0}{\\kappa_0+n}\\mu_0+\\frac{\\kappa_0}{\\kappa_0+n}\\bar{y}$,\n",
    "\n",
    "$\\kappa_n = \\kappa_0 + n$,\n",
    "\n",
    "$\\nu_n = \\nu_0 + n$,\n",
    "\n",
    "$\\nu_n\\sigma_n^2 =  \\nu_0\\sigma_0^2 + (n-1)s^2 + \\frac{\\kappa_0n}{\\kappa_0+n}(\\bar{y}-\\mu_0)^2$,\n",
    "\n",
    "which is \n",
    "Inv-$\\chi^2(\\mu,\\sigma^2|\\mu_n,\\sigma_n^2/\\kappa_n;\\nu_n,\\sigma_n^2)$."
   ]
  },
  {
   "cell_type": "code",
   "execution_count": null,
   "id": "retained-eating",
   "metadata": {},
   "outputs": [],
   "source": []
  }
 ],
 "metadata": {
  "kernelspec": {
   "display_name": "Python 3",
   "language": "python",
   "name": "python3"
  },
  "language_info": {
   "codemirror_mode": {
    "name": "ipython",
    "version": 3
   },
   "file_extension": ".py",
   "mimetype": "text/x-python",
   "name": "python",
   "nbconvert_exporter": "python",
   "pygments_lexer": "ipython3",
   "version": "3.6.13"
  }
 },
 "nbformat": 4,
 "nbformat_minor": 5
}
