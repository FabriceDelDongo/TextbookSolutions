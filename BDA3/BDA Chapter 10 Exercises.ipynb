{
 "cells": [
  {
   "cell_type": "code",
   "execution_count": 129,
   "id": "wooden-behavior",
   "metadata": {},
   "outputs": [],
   "source": [
    "import numpy as np\n",
    "from scipy import stats\n",
    "from scipy import integrate"
   ]
  },
  {
   "cell_type": "markdown",
   "id": "uniform-devil",
   "metadata": {},
   "source": [
    "### 1. Number of simulation draws\n",
    "\n",
    "Suppose the scalar variable θ is approximately normally distributed in a posterior distribution that is summarized by n independent simulation draws. How large does n have to be so that the 2.5% and 97.5% quantiles of θ are specified to an accuracy of 0.1 sd(θ|y)?\n",
    "\n",
    "(a) Figure this out mathematically, without using simulation.\n",
    "\n",
    "(b) Check your answer using simulation and show your results."
   ]
  },
  {
   "cell_type": "markdown",
   "id": "juvenile-machinery",
   "metadata": {},
   "source": [
    "We know that posterior probabilities are estimated to a standard deviation of \n",
    "\n",
    "$\\sqrt{p(1-p)/S},$\n",
    "\n",
    "so that the number of draws $S$ required to estimate a probability to $d$ standard deviations, will be\n",
    "\n",
    "$S \\sim p(1-p)/(d*dens)^2,$\n",
    "\n",
    "where $dens$ is the associated probability density.\n",
    "\n",
    "Hence for a normal distribution, in order to estimate the 2.5% quantile (and the 97.5% quantile), we will need:\n",
    "\n",
    "$S \\sim 0.025\\times0.975/(0.1 \\times dens@2.5\\%)^2,$\n",
    "\n",
    "where $dens@2.5\\%$ is the probability density of a Normal distribution at the 2.5% quantile, which is the probability density for a standard normal distribution at $x = -1.96$, which is:"
   ]
  },
  {
   "cell_type": "code",
   "execution_count": 71,
   "id": "touched-encoding",
   "metadata": {},
   "outputs": [
    {
     "data": {
      "text/plain": [
       "0.058440944333451476"
      ]
     },
     "execution_count": 71,
     "metadata": {},
     "output_type": "execute_result"
    }
   ],
   "source": [
    "stats.norm.pdf(-1.96)"
   ]
  },
  {
   "cell_type": "markdown",
   "id": "neutral-prompt",
   "metadata": {},
   "source": [
    "Hence the number of draws required is:"
   ]
  },
  {
   "cell_type": "code",
   "execution_count": 72,
   "id": "changing-japanese",
   "metadata": {},
   "outputs": [
    {
     "data": {
      "text/plain": [
       "713.6895652613404"
      ]
     },
     "execution_count": 72,
     "metadata": {},
     "output_type": "execute_result"
    }
   ],
   "source": [
    "(0.025 * 0.975)/(0.1 * 0.058441)**2."
   ]
  },
  {
   "cell_type": "markdown",
   "id": "limiting-involvement",
   "metadata": {},
   "source": [
    "We can verify this result by simulation: We take 714 draws from a standard normal distribution 2,000 times, and compute the 2.5% and 97.5% quantile in each case.  We then find the sample standard deviation for these, which should be close to 0.10."
   ]
  },
  {
   "cell_type": "code",
   "execution_count": 75,
   "id": "eligible-afternoon",
   "metadata": {},
   "outputs": [],
   "source": [
    "true_0_025 = stats.norm.ppf(0.025)\n",
    "true_0_975 = stats.norm.ppf(0.975)"
   ]
  },
  {
   "cell_type": "code",
   "execution_count": 76,
   "id": "excited-register",
   "metadata": {},
   "outputs": [
    {
     "name": "stdout",
     "output_type": "stream",
     "text": [
      "-1.95996398454 1.95996398454\n"
     ]
    }
   ],
   "source": [
    "print(true_0_025, true_0_975)"
   ]
  },
  {
   "cell_type": "code",
   "execution_count": 77,
   "id": "restricted-wrestling",
   "metadata": {},
   "outputs": [],
   "source": [
    "S = 714\n",
    "sims = []\n",
    "for ii in range(2000):\n",
    "    sims.append(np.random.normal(size=S))"
   ]
  },
  {
   "cell_type": "code",
   "execution_count": 83,
   "id": "automated-uncertainty",
   "metadata": {},
   "outputs": [],
   "source": [
    "lower = round(714 * 0.025)\n",
    "upper = round(714 * 0.975)"
   ]
  },
  {
   "cell_type": "code",
   "execution_count": 89,
   "id": "brief-blind",
   "metadata": {},
   "outputs": [],
   "source": [
    "lowers = []; uppers = []\n",
    "for ii in range(2000):\n",
    "    lowers.append(np.sort(sims[ii])[lower])\n",
    "    uppers.append(np.sort(sims[ii])[upper])"
   ]
  },
  {
   "cell_type": "code",
   "execution_count": 99,
   "id": "completed-circle",
   "metadata": {},
   "outputs": [],
   "source": [
    "lower_sd = np.sqrt(((lowers - true_0_025)**2).sum()/(len(lowers) - 1))\n",
    "upper_sd = np.sqrt(((uppers - true_0_975)**2).sum()/(len(uppers) - 1))"
   ]
  },
  {
   "cell_type": "code",
   "execution_count": 100,
   "id": "occasional-protest",
   "metadata": {},
   "outputs": [
    {
     "name": "stdout",
     "output_type": "stream",
     "text": [
      "Standard Deviation of lower estimate: 0.101\n",
      "Standard Deviation of upper estimate: 0.104\n"
     ]
    }
   ],
   "source": [
    "print(\"Standard Deviation of lower estimate: {0:.3f}\".format(lower_sd))\n",
    "print(\"Standard Deviation of upper estimate: {0:.3f}\".format(upper_sd))"
   ]
  },
  {
   "cell_type": "markdown",
   "id": "effective-hayes",
   "metadata": {},
   "source": [
    "Similarly, if we want to estimate the median of a normal distribution to 0.02 standard deviations, we will need this many draws:"
   ]
  },
  {
   "cell_type": "code",
   "execution_count": 103,
   "id": "widespread-family",
   "metadata": {},
   "outputs": [
    {
     "data": {
      "text/plain": [
       "3926.9908169872415"
      ]
     },
     "execution_count": 103,
     "metadata": {},
     "output_type": "execute_result"
    }
   ],
   "source": [
    "(0.5*0.5)/(0.02 * stats.norm.pdf(0.))**2"
   ]
  },
  {
   "cell_type": "markdown",
   "id": "chinese-favor",
   "metadata": {},
   "source": [
    "We can again simulate this number of draws 2000 times:"
   ]
  },
  {
   "cell_type": "code",
   "execution_count": 107,
   "id": "senior-duncan",
   "metadata": {},
   "outputs": [],
   "source": [
    "n = 3927; sims = []; mid = round(n/2)"
   ]
  },
  {
   "cell_type": "code",
   "execution_count": 110,
   "id": "solar-senior",
   "metadata": {},
   "outputs": [],
   "source": [
    "medians = []\n",
    "for ii in range(2000):\n",
    "    sims.append(np.random.normal(size=n))\n",
    "    medians.append(np.sort(sims[ii])[mid])"
   ]
  },
  {
   "cell_type": "code",
   "execution_count": 115,
   "id": "marine-choice",
   "metadata": {},
   "outputs": [],
   "source": [
    "std = np.sqrt(((np.array(medians) - 0.0)**2).sum()/(len(medians) - 1))"
   ]
  },
  {
   "cell_type": "code",
   "execution_count": 117,
   "id": "classical-height",
   "metadata": {},
   "outputs": [
    {
     "name": "stdout",
     "output_type": "stream",
     "text": [
      "Standard deviation for median estimate: 0.020\n"
     ]
    }
   ],
   "source": [
    "print(\"Standard deviation for median estimate: {0:.3f}\".format(std))"
   ]
  },
  {
   "cell_type": "markdown",
   "id": "wrong-worship",
   "metadata": {},
   "source": [
    "### 2. Number of simulation draws\n",
    "Suppose you are interested in inference for the parameter θ1 in a multivariate posterior distribution, p(θ|y). You draw 100 independent values θ from the posterior distribution of θ and find that the posterior density for θ1 is approximately normal with mean of about 8 and standard deviation of about 4.\n",
    "\n",
    "(a) Using the average of the 100 draws of θ1 to estimate the posterior mean, E(θ1|y), what is the approximate standard deviation due to simulation variability?\n",
    "\n",
    "(b) About how many simulation draws would you need to reduce the simulation standard deviation of the posterior mean to 0.1 (thus justifying the presentation of results to one decimal place)?\n",
    "\n",
    "(c) A more usual summary of the posterior distribution of θ1 is a 95% central posterior interval. Based on the data from 100 draws, what are the approximate simulation standard deviations of the estimated 2.5% and 97.5% quantiles of the posterior distri- bution? (Recall that the posterior density is approximately normal.)\n",
    "\n",
    "(d) About how many simulation draws would you need to reduce the simulation standard deviations of the 2.5% and 97.5% quantiles to 0.1?\n",
    "\n",
    "(e) In the eight-schools example of Section 5.5, we simulated 200 posterior draws. What are the approximate simulation standard deviations of the 2.5% and 97.5% quantiles for school A in Table 5.3?\n",
    "\n",
    "(f) Why was it not necessary, in practice, to simulate more than 200 draws for the SAT coaching example?"
   ]
  },
  {
   "cell_type": "markdown",
   "id": "interesting-loading",
   "metadata": {},
   "source": [
    "(a)\n",
    "\n",
    "Since\n",
    "\n",
    "$S \\sim p(1-p)/(d\\times dens)^2,$\n",
    "\n",
    "$d \\times dens \\sim \\sqrt{(p(1-p))/S},$\n",
    "\n",
    "i.e.,\n",
    "\n",
    "$dens@mean \\times d \\sim \\sqrt{(0.5 \\times 0.5)/100} = 0.5/10 = 0.05,$\n",
    "\n",
    "where $dens@mean$ is the probability density of a normal distribution at the mean, i.e.,:"
   ]
  },
  {
   "cell_type": "code",
   "execution_count": 118,
   "id": "transparent-conservative",
   "metadata": {},
   "outputs": [
    {
     "data": {
      "text/plain": [
       "0.3989422804014327"
      ]
     },
     "execution_count": 118,
     "metadata": {},
     "output_type": "execute_result"
    }
   ],
   "source": [
    "stats.norm.pdf(0.)"
   ]
  },
  {
   "cell_type": "markdown",
   "id": "chief-dallas",
   "metadata": {},
   "source": [
    "So\n",
    "\n",
    "$0.3989 \\times d \\sim 0.05,$\n",
    "\n",
    "which gives $d$ approx. equal to:"
   ]
  },
  {
   "cell_type": "code",
   "execution_count": 121,
   "id": "subsequent-atmosphere",
   "metadata": {},
   "outputs": [
    {
     "name": "stdout",
     "output_type": "stream",
     "text": [
      "Standard Deviation due to simulation variability: 0.125\n"
     ]
    }
   ],
   "source": [
    "print(\"Standard Deviation due to simulation variability: {0:.3f}\".format(0.05 / 0.3989))"
   ]
  },
  {
   "cell_type": "markdown",
   "id": "efficient-croatia",
   "metadata": {},
   "source": [
    "(b)\n",
    "\n",
    "To reduce the standad deviation of the mean to 0.1 (and justify quoting it to one decimal place), we would need:"
   ]
  },
  {
   "cell_type": "code",
   "execution_count": 122,
   "id": "proper-roommate",
   "metadata": {},
   "outputs": [
    {
     "data": {
      "text/plain": [
       "157.07963267948961"
      ]
     },
     "execution_count": 122,
     "metadata": {},
     "output_type": "execute_result"
    }
   ],
   "source": [
    "(0.5*0.5)/(0.1 * stats.norm.pdf(0.))**2"
   ]
  },
  {
   "cell_type": "markdown",
   "id": "parental-software",
   "metadata": {},
   "source": [
    "around 157 simulation draws."
   ]
  },
  {
   "cell_type": "markdown",
   "id": "amino-mistake",
   "metadata": {},
   "source": [
    "(c)\n",
    "\n",
    "Considering the 2.5% and 97.5% percentiles, the standard deviations after 100 draws will be approximately:\n",
    "\n",
    "$dens@2.5\\% \\times d \\sim \\sqrt{(0.025 \\times 0.975)/100},$\n",
    "\n",
    "where $dens@2.5\\%$ is:"
   ]
  },
  {
   "cell_type": "code",
   "execution_count": 123,
   "id": "guilty-postage",
   "metadata": {},
   "outputs": [
    {
     "data": {
      "text/plain": [
       "0.058440944333451476"
      ]
     },
     "execution_count": 123,
     "metadata": {},
     "output_type": "execute_result"
    }
   ],
   "source": [
    "stats.norm.pdf(-1.96)"
   ]
  },
  {
   "cell_type": "markdown",
   "id": "english-happening",
   "metadata": {},
   "source": [
    "so that\n",
    "\n",
    "$d \\sim \\sqrt{(0.025 \\times 0.975)}/10 / 0.0584$"
   ]
  },
  {
   "cell_type": "code",
   "execution_count": 124,
   "id": "light-director",
   "metadata": {},
   "outputs": [
    {
     "data": {
      "text/plain": [
       "0.2673372430821232"
      ]
     },
     "execution_count": 124,
     "metadata": {},
     "output_type": "execute_result"
    }
   ],
   "source": [
    "np.sqrt(0.025 * 0.975) / 10. / 0.0584"
   ]
  },
  {
   "cell_type": "markdown",
   "id": "eleven-authentication",
   "metadata": {},
   "source": [
    "(d)\n",
    "\n",
    "To reduce the standard deviation for the 2.5% and 97.5% quantiles to 0.1, we would need approximately:"
   ]
  },
  {
   "cell_type": "code",
   "execution_count": 125,
   "id": "micro-employee",
   "metadata": {},
   "outputs": [
    {
     "data": {
      "text/plain": [
       "713.69092487844409"
      ]
     },
     "execution_count": 125,
     "metadata": {},
     "output_type": "execute_result"
    }
   ],
   "source": [
    "(0.025*0.975)/(0.1 * stats.norm.pdf(-1.96))**2"
   ]
  },
  {
   "cell_type": "markdown",
   "id": "labeled-stamp",
   "metadata": {},
   "source": [
    "(e)\n",
    "\n",
    "    School Posterior quantiles\n",
    "           2.5% 25% median 75% 97.5%\n",
    "       A   −2    7    10   16    31\n",
    "       \n",
    "We treat the distribution as normal, hence the 200 simulation draws used to produce the 2.5% and 97.5% quantiles above have simulation standard deviations of approximately:"
   ]
  },
  {
   "cell_type": "code",
   "execution_count": 126,
   "id": "antique-aircraft",
   "metadata": {},
   "outputs": [
    {
     "data": {
      "text/plain": [
       "0.18903597744708575"
      ]
     },
     "execution_count": 126,
     "metadata": {},
     "output_type": "execute_result"
    }
   ],
   "source": [
    "np.sqrt(0.025 * 0.975 / 200) / 0.0584"
   ]
  },
  {
   "cell_type": "markdown",
   "id": "foreign-suffering",
   "metadata": {},
   "source": [
    "times the standard deviation of the distribution, which we can estimate from the 2.5% and 97.5% quantiles themselves."
   ]
  },
  {
   "cell_type": "code",
   "execution_count": 130,
   "id": "bibliographic-minneapolis",
   "metadata": {},
   "outputs": [],
   "source": [
    "integrate.dblquad?"
   ]
  },
  {
   "cell_type": "code",
   "execution_count": null,
   "id": "disciplinary-desperate",
   "metadata": {},
   "outputs": [],
   "source": []
  }
 ],
 "metadata": {
  "kernelspec": {
   "display_name": "Python 3",
   "language": "python",
   "name": "python3"
  },
  "language_info": {
   "codemirror_mode": {
    "name": "ipython",
    "version": 3
   },
   "file_extension": ".py",
   "mimetype": "text/x-python",
   "name": "python",
   "nbconvert_exporter": "python",
   "pygments_lexer": "ipython3",
   "version": "3.6.13"
  }
 },
 "nbformat": 4,
 "nbformat_minor": 5
}
